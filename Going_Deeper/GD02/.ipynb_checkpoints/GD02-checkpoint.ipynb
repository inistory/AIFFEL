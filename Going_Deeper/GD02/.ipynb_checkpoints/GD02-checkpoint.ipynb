{
 "cells": [
  {
   "cell_type": "markdown",
   "id": "vertical-syndication",
   "metadata": {},
   "source": [
    "# GD02 SentencePiece 사용하기"
   ]
  },
  {
   "cell_type": "markdown",
   "id": "elder-panic",
   "metadata": {},
   "source": [
    "## Step 0. Import\n"
   ]
  },
  {
   "cell_type": "code",
   "execution_count": 1,
   "id": "failing-salvation",
   "metadata": {},
   "outputs": [
    {
     "name": "stdout",
     "output_type": "stream",
     "text": [
      "Reading package lists... Done\n",
      "Building dependency tree       \n",
      "Reading state information... Done\n",
      "g++ is already the newest version (4:7.4.0-1ubuntu2.3).\n",
      "The following additional packages will be installed:\n",
      "  openjdk-8-jdk-headless openjdk-8-jre openjdk-8-jre-headless\n",
      "Suggested packages:\n",
      "  openjdk-8-demo openjdk-8-source visualvm icedtea-8-plugin libnss-mdns\n",
      "  fonts-ipafont-gothic fonts-ipafont-mincho fonts-wqy-microhei\n",
      "  fonts-wqy-zenhei fonts-indic\n",
      "The following packages will be upgraded:\n",
      "  openjdk-8-jdk openjdk-8-jdk-headless openjdk-8-jre openjdk-8-jre-headless\n",
      "4 upgraded, 0 newly installed, 0 to remove and 22 not upgraded.\n",
      "Need to get 38.2 MB of archives.\n",
      "After this operation, 122 kB of additional disk space will be used.\n",
      "Do you want to continue? [Y/n] ^C\n",
      "mecab-ko is already installed\n",
      "mecab-ko-dic is already installed\n",
      "mecab-python is already installed\n",
      "Done.\n",
      "Requirement already satisfied: konlpy in /opt/conda/lib/python3.7/site-packages (0.5.2)\n",
      "Requirement already satisfied: tweepy>=3.7.0 in /opt/conda/lib/python3.7/site-packages (from konlpy) (3.10.0)\n",
      "Requirement already satisfied: numpy>=1.6 in /opt/conda/lib/python3.7/site-packages (from konlpy) (1.19.5)\n",
      "Requirement already satisfied: beautifulsoup4==4.6.0 in /opt/conda/lib/python3.7/site-packages (from konlpy) (4.6.0)\n",
      "Requirement already satisfied: colorama in /opt/conda/lib/python3.7/site-packages (from konlpy) (0.4.4)\n",
      "Requirement already satisfied: JPype1>=0.7.0 in /opt/conda/lib/python3.7/site-packages (from konlpy) (1.2.1)\n",
      "Requirement already satisfied: lxml>=4.1.0 in /opt/conda/lib/python3.7/site-packages (from konlpy) (4.6.2)\n",
      "Requirement already satisfied: typing-extensions in /opt/conda/lib/python3.7/site-packages (from JPype1>=0.7.0->konlpy) (3.7.4.3)\n",
      "Requirement already satisfied: six>=1.10.0 in /opt/conda/lib/python3.7/site-packages (from tweepy>=3.7.0->konlpy) (1.15.0)\n",
      "Requirement already satisfied: requests[socks]>=2.11.1 in /opt/conda/lib/python3.7/site-packages (from tweepy>=3.7.0->konlpy) (2.25.1)\n",
      "Requirement already satisfied: requests-oauthlib>=0.7.0 in /opt/conda/lib/python3.7/site-packages (from tweepy>=3.7.0->konlpy) (1.3.0)\n",
      "Requirement already satisfied: oauthlib>=3.0.0 in /opt/conda/lib/python3.7/site-packages (from requests-oauthlib>=0.7.0->tweepy>=3.7.0->konlpy) (3.1.0)\n",
      "Requirement already satisfied: chardet<5,>=3.0.2 in /opt/conda/lib/python3.7/site-packages (from requests[socks]>=2.11.1->tweepy>=3.7.0->konlpy) (3.0.4)\n",
      "Requirement already satisfied: idna<3,>=2.5 in /opt/conda/lib/python3.7/site-packages (from requests[socks]>=2.11.1->tweepy>=3.7.0->konlpy) (2.10)\n",
      "Requirement already satisfied: urllib3<1.27,>=1.21.1 in /opt/conda/lib/python3.7/site-packages (from requests[socks]>=2.11.1->tweepy>=3.7.0->konlpy) (1.26.2)\n",
      "Requirement already satisfied: certifi>=2017.4.17 in /opt/conda/lib/python3.7/site-packages (from requests[socks]>=2.11.1->tweepy>=3.7.0->konlpy) (2020.12.5)\n",
      "Requirement already satisfied: PySocks!=1.5.7,>=1.5.6 in /opt/conda/lib/python3.7/site-packages (from requests[socks]>=2.11.1->tweepy>=3.7.0->konlpy) (1.7.1)\n",
      "\u001b[33mWARNING: You are using pip version 20.3.3; however, version 21.3.1 is available.\n",
      "You should consider upgrading via the '/opt/conda/bin/python3.7 -m pip install --upgrade pip' command.\u001b[0m\n"
     ]
    }
   ],
   "source": [
    "# #1) 우분투 환경에서 커널을 열어 jdk를 먼저 설치\n",
    "# !sudo apt-get install g++ openjdk-8-jdk\n",
    "# #2) 설치가 완료되었다면 curl을 이용해 mecab을 다운받아 실행\n",
    "# !bash <(curl -s https://raw.githubusercontent.com/konlpy/konlpy/master/scripts/mecab.sh)\n",
    "# #3) 그리고 마지막으로 konlpy를 설치\n",
    "# !pip install konlpy"
   ]
  },
  {
   "cell_type": "code",
   "execution_count": 2,
   "id": "sustainable-frederick",
   "metadata": {},
   "outputs": [
    {
     "name": "stdout",
     "output_type": "stream",
     "text": [
      "--2021-12-20 08:11:51--  https://github.com/jungyeul/korean-parallel-corpora/raw/master/korean-english-news-v1/korean-english-park.train.tar.gz\n",
      "Resolving github.com (github.com)... 140.82.114.4\n",
      "Connecting to github.com (github.com)|140.82.114.4|:443... connected.\n",
      "HTTP request sent, awaiting response... 302 Found\n",
      "Location: https://raw.githubusercontent.com/jungyeul/korean-parallel-corpora/master/korean-english-news-v1/korean-english-park.train.tar.gz [following]\n",
      "--2021-12-20 08:11:51--  https://raw.githubusercontent.com/jungyeul/korean-parallel-corpora/master/korean-english-news-v1/korean-english-park.train.tar.gz\n",
      "Resolving raw.githubusercontent.com (raw.githubusercontent.com)... 185.199.109.133, 185.199.110.133, 185.199.111.133, ...\n",
      "Connecting to raw.githubusercontent.com (raw.githubusercontent.com)|185.199.109.133|:443... connected.\n",
      "HTTP request sent, awaiting response... 200 OK\n",
      "Length: 8718893 (8.3M) [application/octet-stream]\n",
      "Saving to: ‘korean-english-park.train.tar.gz’\n",
      "\n",
      "korean-english-park 100%[===================>]   8.31M  --.-KB/s    in 0.1s    \n",
      "\n",
      "2021-12-20 08:11:52 (71.2 MB/s) - ‘korean-english-park.train.tar.gz’ saved [8718893/8718893]\n",
      "\n",
      "tar (child): korean-english-park.train.tar.gz: Cannot open: No such file or directory\n",
      "tar (child): Error is not recoverable: exiting now\n",
      "tar: Child returned status 2\n",
      "tar: Error is not recoverable: exiting now\n",
      "Requirement already satisfied: matplotlib in /opt/conda/lib/python3.7/site-packages (3.3.3)\n",
      "Requirement already satisfied: pyparsing!=2.0.4,!=2.1.2,!=2.1.6,>=2.0.3 in /opt/conda/lib/python3.7/site-packages (from matplotlib) (2.4.7)\n",
      "Requirement already satisfied: cycler>=0.10 in /opt/conda/lib/python3.7/site-packages (from matplotlib) (0.10.0)\n",
      "Requirement already satisfied: pillow>=6.2.0 in /opt/conda/lib/python3.7/site-packages (from matplotlib) (8.1.0)\n",
      "Requirement already satisfied: python-dateutil>=2.1 in /opt/conda/lib/python3.7/site-packages (from matplotlib) (2.8.1)\n",
      "Requirement already satisfied: kiwisolver>=1.0.1 in /opt/conda/lib/python3.7/site-packages (from matplotlib) (1.3.1)\n",
      "Requirement already satisfied: numpy>=1.15 in /opt/conda/lib/python3.7/site-packages (from matplotlib) (1.19.5)\n",
      "Requirement already satisfied: six in /opt/conda/lib/python3.7/site-packages (from cycler>=0.10->matplotlib) (1.15.0)\n",
      "\u001b[33mWARNING: You are using pip version 20.3.3; however, version 21.3.1 is available.\n",
      "You should consider upgrading via the '/opt/conda/bin/python3.7 -m pip install --upgrade pip' command.\u001b[0m\n"
     ]
    }
   ],
   "source": [
    "!wget https://github.com/jungyeul/korean-parallel-corpora/raw/master/korean-english-news-v1/korean-english-park.train.tar.gz\n",
    "!mkdir -p ~/aiffel/sp_tokenizer/data\n",
    "!mv korean-english-park.train.tar.gz ~/aiffel/sp_tokenizer/data\n",
    "!cd ~/aiffel/sp_tokenizer/data\n",
    "!tar -xzvf korean-english-park.train.tar.gz\n",
    "!pip install matplotlib"
   ]
  },
  {
   "cell_type": "markdown",
   "id": "primary-rider",
   "metadata": {},
   "source": [
    "## 데이터 불러오기 & 전처리\n"
   ]
  },
  {
   "cell_type": "code",
   "execution_count": 4,
   "id": "thorough-polyester",
   "metadata": {},
   "outputs": [],
   "source": [
    "import os\n",
    "import matplotlib.pyplot as plt\n",
    "import tensorflow as tf\n",
    "import numpy as np\n",
    "import sentencepiece as spm\n",
    "import pandas as pd\n",
    "import urllib.request\n",
    "import csv\n",
    "import tensorflow as tf\n",
    "from tensorflow import keras\n",
    "import urllib.request\n",
    "\n",
    "%matplotlib inline"
   ]
  },
  {
   "cell_type": "code",
   "execution_count": 5,
   "id": "generous-atlanta",
   "metadata": {},
   "outputs": [
    {
     "data": {
      "text/plain": [
       "('ratings.txt', <http.client.HTTPMessage at 0x7f5cfec76610>)"
      ]
     },
     "execution_count": 5,
     "metadata": {},
     "output_type": "execute_result"
    }
   ],
   "source": [
    "urllib.request.urlretrieve(\"https://raw.githubusercontent.com/e9t/nsmc/master/ratings.txt\", filename=\"ratings.txt\")"
   ]
  },
  {
   "cell_type": "code",
   "execution_count": 7,
   "id": "breeding-portrait",
   "metadata": {},
   "outputs": [
    {
     "data": {
      "text/html": [
       "<div>\n",
       "<style scoped>\n",
       "    .dataframe tbody tr th:only-of-type {\n",
       "        vertical-align: middle;\n",
       "    }\n",
       "\n",
       "    .dataframe tbody tr th {\n",
       "        vertical-align: top;\n",
       "    }\n",
       "\n",
       "    .dataframe thead th {\n",
       "        text-align: right;\n",
       "    }\n",
       "</style>\n",
       "<table border=\"1\" class=\"dataframe\">\n",
       "  <thead>\n",
       "    <tr style=\"text-align: right;\">\n",
       "      <th></th>\n",
       "      <th>id</th>\n",
       "      <th>document</th>\n",
       "      <th>label</th>\n",
       "    </tr>\n",
       "  </thead>\n",
       "  <tbody>\n",
       "    <tr>\n",
       "      <th>0</th>\n",
       "      <td>8112052</td>\n",
       "      <td>어릴때보고 지금다시봐도 재밌어요ㅋㅋ</td>\n",
       "      <td>1</td>\n",
       "    </tr>\n",
       "    <tr>\n",
       "      <th>1</th>\n",
       "      <td>8132799</td>\n",
       "      <td>디자인을 배우는 학생으로, 외국디자이너와 그들이 일군 전통을 통해 발전해가는 문화산...</td>\n",
       "      <td>1</td>\n",
       "    </tr>\n",
       "    <tr>\n",
       "      <th>2</th>\n",
       "      <td>4655635</td>\n",
       "      <td>폴리스스토리 시리즈는 1부터 뉴까지 버릴께 하나도 없음.. 최고.</td>\n",
       "      <td>1</td>\n",
       "    </tr>\n",
       "    <tr>\n",
       "      <th>3</th>\n",
       "      <td>9251303</td>\n",
       "      <td>와.. 연기가 진짜 개쩔구나.. 지루할거라고 생각했는데 몰입해서 봤다.. 그래 이런...</td>\n",
       "      <td>1</td>\n",
       "    </tr>\n",
       "    <tr>\n",
       "      <th>4</th>\n",
       "      <td>10067386</td>\n",
       "      <td>안개 자욱한 밤하늘에 떠 있는 초승달 같은 영화.</td>\n",
       "      <td>1</td>\n",
       "    </tr>\n",
       "  </tbody>\n",
       "</table>\n",
       "</div>"
      ],
      "text/plain": [
       "         id                                           document  label\n",
       "0   8112052                                어릴때보고 지금다시봐도 재밌어요ㅋㅋ      1\n",
       "1   8132799  디자인을 배우는 학생으로, 외국디자이너와 그들이 일군 전통을 통해 발전해가는 문화산...      1\n",
       "2   4655635               폴리스스토리 시리즈는 1부터 뉴까지 버릴께 하나도 없음.. 최고.      1\n",
       "3   9251303  와.. 연기가 진짜 개쩔구나.. 지루할거라고 생각했는데 몰입해서 봤다.. 그래 이런...      1\n",
       "4  10067386                        안개 자욱한 밤하늘에 떠 있는 초승달 같은 영화.      1"
      ]
     },
     "execution_count": 7,
     "metadata": {},
     "output_type": "execute_result"
    }
   ],
   "source": [
    "naver_df = pd.read_table('ratings.txt')\n",
    "naver_df.head()"
   ]
  },
  {
   "cell_type": "code",
   "execution_count": 8,
   "id": "latter-barrel",
   "metadata": {},
   "outputs": [
    {
     "name": "stdout",
     "output_type": "stream",
     "text": [
      "데이터 개수 : 200000\n"
     ]
    }
   ],
   "source": [
    "print('데이터 개수 :', len(naver_df))"
   ]
  },
  {
   "cell_type": "markdown",
   "id": "parallel-yesterday",
   "metadata": {},
   "source": [
    "## 결측치제거, 중복제거\n"
   ]
  },
  {
   "cell_type": "code",
   "execution_count": 10,
   "id": "trained-floating",
   "metadata": {},
   "outputs": [],
   "source": [
    "origin_len = len(naver_df)"
   ]
  },
  {
   "cell_type": "code",
   "execution_count": 11,
   "id": "streaming-consequence",
   "metadata": {},
   "outputs": [
    {
     "data": {
      "text/plain": [
       "id          0\n",
       "document    8\n",
       "label       0\n",
       "dtype: int64"
      ]
     },
     "execution_count": 11,
     "metadata": {},
     "output_type": "execute_result"
    }
   ],
   "source": [
    "naver_df.isnull().sum()"
   ]
  },
  {
   "cell_type": "code",
   "execution_count": 12,
   "id": "structured-consideration",
   "metadata": {},
   "outputs": [
    {
     "name": "stdout",
     "output_type": "stream",
     "text": [
      "<bound method NDFrame._add_numeric_operations.<locals>.sum of            id  document  label\n",
      "0       False     False  False\n",
      "1       False     False  False\n",
      "2       False     False  False\n",
      "3       False     False  False\n",
      "4       False     False  False\n",
      "...       ...       ...    ...\n",
      "199995  False     False  False\n",
      "199996  False     False  False\n",
      "199997  False     False  False\n",
      "199998  False     False  False\n",
      "199999  False     False  False\n",
      "\n",
      "[199992 rows x 3 columns]>\n"
     ]
    }
   ],
   "source": [
    "naver_df = naver_df.dropna(how='any')\n",
    "print(naver_df.isnull().sum)"
   ]
  },
  {
   "cell_type": "code",
   "execution_count": 13,
   "id": "designing-spain",
   "metadata": {},
   "outputs": [
    {
     "name": "stdout",
     "output_type": "stream",
     "text": [
      "결측치 제거 후 데이터 개수 : 199992\n"
     ]
    }
   ],
   "source": [
    "print('결측치 제거 후 데이터 개수 :', len(naver_df))  "
   ]
  },
  {
   "cell_type": "code",
   "execution_count": 14,
   "id": "close-athens",
   "metadata": {},
   "outputs": [],
   "source": [
    "cleaned_corpus = naver_df.drop_duplicates(['document'])  "
   ]
  },
  {
   "cell_type": "code",
   "execution_count": 15,
   "id": "direct-greeting",
   "metadata": {},
   "outputs": [
    {
     "name": "stdout",
     "output_type": "stream",
     "text": [
      "중복 제거 후 데이터 개수 : 194543\n"
     ]
    }
   ],
   "source": [
    "print('중복 제거 후 데이터 개수 :', len(cleaned_corpus))"
   ]
  },
  {
   "cell_type": "code",
   "execution_count": 16,
   "id": "pursuant-hughes",
   "metadata": {},
   "outputs": [
    {
     "name": "stdout",
     "output_type": "stream",
     "text": [
      "전처리 전 데이터 개수 : 200000\n",
      "전처리 후 데이터 개수 : 194543\n",
      "전처리 후 남은 데이터 양(%) 97.2715\n"
     ]
    }
   ],
   "source": [
    "print('전처리 전 데이터 개수 :', origin_len)\n",
    "print('전처리 후 데이터 개수 :', len(cleaned_corpus)) \n",
    "print('전처리 후 남은 데이터 양(%)', (len(cleaned_corpus)/origin_len)*100)"
   ]
  },
  {
   "cell_type": "code",
   "execution_count": 17,
   "id": "laden-running",
   "metadata": {},
   "outputs": [
    {
     "data": {
      "text/html": [
       "<div>\n",
       "<style scoped>\n",
       "    .dataframe tbody tr th:only-of-type {\n",
       "        vertical-align: middle;\n",
       "    }\n",
       "\n",
       "    .dataframe tbody tr th {\n",
       "        vertical-align: top;\n",
       "    }\n",
       "\n",
       "    .dataframe thead th {\n",
       "        text-align: right;\n",
       "    }\n",
       "</style>\n",
       "<table border=\"1\" class=\"dataframe\">\n",
       "  <thead>\n",
       "    <tr style=\"text-align: right;\">\n",
       "      <th></th>\n",
       "      <th>id</th>\n",
       "      <th>document</th>\n",
       "      <th>label</th>\n",
       "    </tr>\n",
       "  </thead>\n",
       "  <tbody>\n",
       "    <tr>\n",
       "      <th>0</th>\n",
       "      <td>8112052</td>\n",
       "      <td>어릴때보고 지금다시봐도 재밌어요ㅋㅋ</td>\n",
       "      <td>1</td>\n",
       "    </tr>\n",
       "    <tr>\n",
       "      <th>1</th>\n",
       "      <td>8132799</td>\n",
       "      <td>디자인을 배우는 학생으로, 외국디자이너와 그들이 일군 전통을 통해 발전해가는 문화산...</td>\n",
       "      <td>1</td>\n",
       "    </tr>\n",
       "    <tr>\n",
       "      <th>2</th>\n",
       "      <td>4655635</td>\n",
       "      <td>폴리스스토리 시리즈는 1부터 뉴까지 버릴께 하나도 없음.. 최고.</td>\n",
       "      <td>1</td>\n",
       "    </tr>\n",
       "    <tr>\n",
       "      <th>3</th>\n",
       "      <td>9251303</td>\n",
       "      <td>와.. 연기가 진짜 개쩔구나.. 지루할거라고 생각했는데 몰입해서 봤다.. 그래 이런...</td>\n",
       "      <td>1</td>\n",
       "    </tr>\n",
       "    <tr>\n",
       "      <th>4</th>\n",
       "      <td>10067386</td>\n",
       "      <td>안개 자욱한 밤하늘에 떠 있는 초승달 같은 영화.</td>\n",
       "      <td>1</td>\n",
       "    </tr>\n",
       "  </tbody>\n",
       "</table>\n",
       "</div>"
      ],
      "text/plain": [
       "         id                                           document  label\n",
       "0   8112052                                어릴때보고 지금다시봐도 재밌어요ㅋㅋ      1\n",
       "1   8132799  디자인을 배우는 학생으로, 외국디자이너와 그들이 일군 전통을 통해 발전해가는 문화산...      1\n",
       "2   4655635               폴리스스토리 시리즈는 1부터 뉴까지 버릴께 하나도 없음.. 최고.      1\n",
       "3   9251303  와.. 연기가 진짜 개쩔구나.. 지루할거라고 생각했는데 몰입해서 봤다.. 그래 이런...      1\n",
       "4  10067386                        안개 자욱한 밤하늘에 떠 있는 초승달 같은 영화.      1"
      ]
     },
     "execution_count": 17,
     "metadata": {},
     "output_type": "execute_result"
    }
   ],
   "source": [
    "cleaned_corpus.head()"
   ]
  },
  {
   "cell_type": "code",
   "execution_count": 18,
   "id": "quarterly-masters",
   "metadata": {},
   "outputs": [],
   "source": [
    "naver_review = cleaned_corpus['document']"
   ]
  },
  {
   "cell_type": "code",
   "execution_count": 19,
   "id": "official-wrapping",
   "metadata": {},
   "outputs": [
    {
     "name": "stdout",
     "output_type": "stream",
     "text": [
      "문장의 최단 길이: 1\n",
      "문장의 최장 길이: 142\n",
      "문장의 평균 길이: 36\n"
     ]
    },
    {
     "data": {
      "image/png": "[encoded data removed]",
      "text/plain": [
       "<Figure size 432x288 with 1 Axes>"
      ]
     },
     "metadata": {
      "needs_background": "light"
     },
     "output_type": "display_data"
    }
   ],
   "source": [
    "min_len = 999\n",
    "max_len = 0\n",
    "sum_len = 0\n",
    "\n",
    "for sen in naver_review:\n",
    "    length = len(sen)\n",
    "    if min_len > length: \n",
    "        min_len = length\n",
    "        \n",
    "    if max_len < length: \n",
    "        max_len = length\n",
    "    \n",
    "    sum_len += length\n",
    "\n",
    "print(\"문장의 최단 길이:\", min_len)\n",
    "print(\"문장의 최장 길이:\", max_len)\n",
    "print(\"문장의 평균 길이:\", sum_len // len(naver_review))\n",
    "\n",
    "sentence_length = np.zeros((max_len), dtype=np.int)\n",
    "\n",
    "for sen in naver_review:\n",
    "    sentence_length[len(sen)-1] += 1\n",
    "\n",
    "plt.bar(range(max_len), sentence_length, width=1.0)\n",
    "plt.title(\"Sentence Length Distribution\")\n",
    "plt.show()"
   ]
  },
  {
   "cell_type": "code",
   "execution_count": 20,
   "id": "packed-thing",
   "metadata": {},
   "outputs": [
    {
     "name": "stdout",
     "output_type": "stream",
     "text": [
      "내가 남자라그런가 이거 겁나 긴장감있고 흥미진진하던데..ㄷㄷ 나만그런가워낙에 격투씬을 좋아해서.ㅋㅋㅋ 그냥 아무생각없이 집에서 스마트티비로 봐서 재밌었나봄 이거 뭔영화인지도 모르고 암살에 나온 이정재 있길래 걍봄 ㅋㅋ 하여튼 너무 재밌게 봤음\n",
      "줄리아 로버츠의 웃음은 정말 보는 사람을 기쁘게 해준다. 웃음 하나로 기쁨과 슬픔을 표현할 수 있는 배우..전통을 깨고 여성의 새로운 삶을 살으라고 영화는 보여주는 데 영화에서는 전통을 완전히 벗어나야 한다는 것만을 강조하는 것 같아 아쉽다.\n",
      "평점 왜 이렇게 낮아요??? 영화 대박인데...진짜....ㅋㅋㅋ 와.. 어떻게 이런상상을 해서 이런 영화를... 대박대박.. ㅠ 생각지못한 반전.. 처음엔 반신반의하면서 봤는데.. 최고내요...ㄷㄷㄷ 근데 금발 여주는 중반에 좀 짜증나긴했음ㅋ\n",
      "큰 기대 안하고 띄엄띄엄 보다가 집중해서 봤네요!! 저는 잘봤습니다. 액션도 뛰어나고 아슬아슬한 장면들을 극복해 가는게 나름 잼있었어요!! 마지막에 여자 박사가 살았는지 죽었는지가 안나와서 좀 아쉽네요..그래도 딸은 살렸으니 다행스럽다는 ㅎㅎ\n",
      "누군가는 잃고, 누군가는 벌고, 또 누군가는 죽는 게임. 그리고 끊임없이 반복되는 삶과 기억의 굴레. 하지만 시작할 때부터 영화는 이미 심각했고, 지루했다. 다 본 후 생각해보니 그럴 수밖에 없었겠다 싶다. 넓고 얕은 재미, 길고 깊은 여운.\n",
      "영화내용은 사실별거 없지만 보고나면 생각을 많이하게 되는 영화임. 재미있기도 하고, 결론은 무엇이냐 하면 빨갱이들이 아무것도 모르는 사람들 선동해서 비참한 결과를 낳게 한다는 내용임. 복수심에 불타는 이북출신들도 나오는데 다 역사적인 사실임.\n",
      "고등학교때 보고 지금에서 생각난 영화 참~그땐 눈물 콧물 흘리면서 봤는데짐 보면 나올라나.. 하긴 세월이 많이 흘렀지 아마 짐 시대하곤 스토리자체가 뻔하니깐 하지만 지금도 잊혀지지않는장면은 주인공이 공부하는장면과하늘도 갈라놓지 못한 그들의사랑\n",
      "오스카는 흔히 볼수있는 아들이자 장난끼 많은 오빠 그리고 항상 미안해하는 남편. 감정이 앞서서 문제를 만들수도 있지만 언제나 마음은 내 가족, 내 사랑인 그 한사람. 정말 거지같은 상황속에서도 사랑이라는 한 단어로 살아남으려는 자를 짖밟았다.\n",
      "올타쿠나커플때문에 다시 우결 보게됬어여제가 소은이같은 성격이라 너무공감되고 설레여~소은씨는 드센게 아니라 남자를 잘 맞춰주고 흡수하는 스펀지같은 여자에요^^그리고 재림씨 자기마음을 다 말해주는 재림씨 너무짱~~~정말 오빠,아빠, 애기같은 매력\n",
      "오히려 평점 조작같은데.. 감독이 충무로 미움 삿을수도 있다는 생각까지 든다...한국영화 별로 좋아하진않지만.. 이영화가 이렇게까지 평점낮을만큼 재미없진 않다. 이정도 평점의 다른 영화같지않은 영화들과 비교할때 이 평점은 이해가 되질 않는다.\n",
      "이루어 질수 없기에 더욱 너무나 애절하고 안타까운 야하기만 한게 아니라 너무나 아름다운 영상. 그리고 소녀를 사랑하는 마음을 이룰 수 없는 중국인 청년의 안타깝고 애절한 눈빛. 소녀와 여인의 경계에 있는 제인마치도 너무나 묘하게 잘 어울린다.\n",
      "구작보다 묵시록적이고 웅장해짐. 아스카의 심리묘사가얇아지고 당위성이 부족해지는등의 단점이 있음에도 불구하고 현세대최고의 애니메이션중 하나임. 특히 영상미는 TVA판을 압도하고도 남을정도. 사골이아닌 새로운 스토리가 추가됫는데 굉장히 만족스러움\n",
      "오카다 마사키는 풋풋한 멜로에 정말 잘어울리는듯하다. 뭔가 첫사랑같은 느낌? 설레는 느낌을 주는 배우. 일본 멜로의 잔잔함이 이 영화에서도 드러난다. 청소년의 학업과 사랑 사이에서의 갈등도 무각본인만큼 자연스레 연기하여서 더욱 공감하며 봤다.\n",
      "이병우 작곡가의 곡들이 담긴 영화를 볼 때마다 느끼지만,이렇게 공포영화 음악을 아름답고 절묘하게 만드는 작곡가는 잘 없는 것 같다.한국 공포영화의 특징은 배경과 어우러지는 음악적 요소인데,이 작곡가가 어떻게 보면 그 처음이라고 볼 수 있겠다.\n",
      "지금 알고 있는걸 그때도 알았더라면... 내 가슴이 말하는 것에 더 자주 귀 기울였으리라더 즐겁게 살고 덜 고민했으리라사랑에 더 열중하고 그 결말에 대해선 덜 걱정했으리라.. 설령 그것이 실패로 끝난다 해도.... 웅... 너무 늙어서 봤다~\n",
      "인종차별과 불평등은 미국만의 문제가 아니다. 영웅적인 지도자가 아니라 서로 도와주려는 사람들의 연대감이 역사를 바꾼다는 것을 매우 사실적으로 보여준 영화다. 새로 알게 된 사실은 FBI가 킴 목사의 일거수일투족을 샅샅이 감시하고 있었다는 것.\n",
      "난 남자고 저 딸의 아비라면 저 김윤진 역보다 더 한 것도 할 수 있고 그 어미니의 아들입장이라면 저보다 더 한 것도 할 수 있다.. 평만보면 다들 공자시구만ㅋㅋㅋ 과연 정말 저 둘의 배역 중 하나의 입장이 된다면 그렇게 냉정할 수 있을까..\n",
      "뻔하고 진부하지만 그로인해 더 편안하고 행복한 결말. 나에게 있어 한국영화를 다시보게 만든 영화. 30대인 지금. 영화의 개봉 당시 10년 전으로 돌아가서 나의 무지개를 찾고 싶다.ps : 여태 본 영화중에 카메라에 빛을 가장 잘 담은 작품.\n",
      "This movie wowed and shocked me! 대학시절 과학사를 들었어도 이렇게 포괄적이고 모든 분야를 넘나드는 이해력을 갖을 수는 없었는 데. 융합적 사고의 총체! 초등학교에서 부터 대학교에 이르기까지 교양필수로 강추. 초강추.\n",
      "그저그런 로맨틱 코미디가 아닙니다~로맨틱 코미디도 프랑스에서 만들면 이렇게 멋진 영화가 나오는 군요 ㅋㅋ 문화를 주도해 나갔던 유럽인들의 풍속사를 잘 재현해 내었네요~ 코디디는 기본이구요! 이놈의 망할 제목때문에 안 뜬 영화 같습니다. -_-\n",
      "윤재문보다 인구아재의 딸과 마누라가 더 얄밉더라 고기만두사왔는데 휙 지나치는장면, 그동안 깡패짓으로번돈 잘써놓고선 한번도 떳떳한적없었다고말하는 마눌년 송강호가 울먹이면서 당신은 이러면안되지 라고할땐 울컥했다범죄영화가아니라 가장영화 아버지영화다\n",
      "같은 영화를 본다고 해도 내가 느낀 내가 받은 영향은 분명다르다. 이런 영화는 항상 뭔가 열어놓았기에,. 한 번씩 다시 보면 지난날의 나 혹은 앞으로의 나를 볼 수 있기도 하다., 또한 모든 아픔의 극복은 스스로 할 수 있게 놔두는게 좋다.,\n",
      "난 중국영화를 좋아하지만 천녀유혼은 5번밖에 안봤다. 어릴때라 영화에 대해 무지해서 명절때 누나가 보는걸 따라봤다. 하지만 20대가 되고나서 그시절 왜 장국영, 왕조현이 넘사벽인지 이영화를 보고 느꼈다. 왕조현 장국영은 아시아최고라 생각한다.\n",
      "스크린 너머로 배려심이라곤 없는 감독을 만나 개고생하는 두 여배우의 고통이 느껴졌다. 예술의 완성도가 꼭 극단으로 몰아부쳐야 완성되는가. 레아세이두의 말대로 존중만 해줬어도 진짜 완벽한 작품이 나오지 않았을까. 배우들의 노고때문에 10점이다.\n",
      "정말 미친듯 웃을 수 있어요~ 몰랐던 역사적 사실도 알게되고~출연자분 스텝분들 고생 많으시겠어요제 8의 멤버 이윤상님 나오실 때마다 웃겨요연기력에 감탄도 하게되고그리고 역시 정말 장동민 최고!!!시즌2 2번째 촬영에 콩이 또 나와서 즐겁습니다\n",
      "범죄없는세상 외치면서 그런사람들이 더하네 칭찬은 고래도 춤추게 한다 성지고 고생했다 한마디면 되는걸 한번도 못놀아본 사람 처럼 클럽,술 마신거 가지고 좀그러네 그건 뒷풀이야 방식이 다른것 뿐이지 자라나는 새싹 밟지말고 자신부터 돌아보고 잘하자\n",
      "연출력이 상당히 돋보이는 작품이다. 할배가 할매를 질식사 시킬 줄은 꿈에도 예측 못했다. 정말로충격적인 장면이었다. 할매가 나중에 어떻게 인생이 마감 할까? 내가 짐작하는바가 있었는데 갑자기 자기손으로할매를 보내다니...씁씁하기 그지 없었다.\n",
      "상당히 오래만든 만화임에도 잘만들었고 철학적 잔인함 여러성적 표현 이것은 다분한 우리 인생을 묘사하고 있다 베르세르크야 말로 우리 무뎌진 머리를 환상속에 빠져들게 만든다 판타지의 최고봉 애니를 적당하게 봐왔지만 이보다 나은 애니는 첮기 힘들다\n",
      "처음엔 정신이 피폐해진것같아 불쾌했다. 막연히 걱정하지만 넘겨버릴법한 범죄상황을 실감나고 섬세하게 묘사한 감독이 대단하다... 박진감은 넘치지만 억지상황이 난무해 문단속의 중요성을 잊게 한 불사여인의 비현실 영화 '숨바꼭질'이 문득 생각난다.\n",
      "수작이라고 평가한다. 보는 내내 긴장감과 궁금증을 유발하는 내용이며, 공포감과 스릴도 공존한다. 배우들의 연기도 전혀 위화감 없이 흘러간다. 다만 후속편은 굉장히 유치해졌으므로, 후속편은 보지 않는 걸 추천한다. 전 작품의 질까지 떨어뜨린다.\n",
      "역시 토이스토리. 재미있고 감동적일 뿐 아니라 현재만을 생각하는 21세기에 사는 우리에게 향수를 느끼게 하고 가끔은 잠시 모든 일을 내려놓고 어렸을 때 가지고 놀았던 장난감들을 생각하며 추억에 젖는 것도 나쁘지 않겠다고 생각하게 하는 영화다.\n",
      "감독님! 상업영화로 평가받고 싶지 않으면 혼자 영원히 습작하세요~ 가족끼리 친구끼리 오순도순 화기애애한거 스스로도 상업성에어 자유로울수 없으면서 쿨한척 하지맙시다. 그런상처 두려우면 투자받지도 마시고 학생들 데리고 작품전같은거 하시면 됩니다.\n",
      "부모님...특히 시부모님이 홍보관가서 사기당했다고 하소연하시는 분들~~~이 영화 꼭 좀 보셨으면좋겠어요..저도반성많이했네요...ㅜㅜ...솔직히 사회나와서 가정도 꾸리고하다보면 자기부모한테 소홀해지는사람많자나요~너무어르신들만 탓할수없을거같아요.\n",
      "요즘들어 다시보니 참 좋은영화다.길용의오토바이 뒤에 타며 고향얘기하는 신은경.참 슬프고 그림같은장면.길용역의 한정현씨라는분은 여기서 주연으로 나오는데 참 역할과 잘어울린다는 생각이.그이후의 작품은 거의 무술단역이고 더 비중있는 모습봤음 아깝네\n",
      "이 영화보면서 재미업다는 사람들은 역사좀 알아라영화에서 왜5.16을등장시키고 최규식 왜거론하는지 알지도못하니 그러지.. 한 남자의 인생을통해서 그시대적 상황을 알수있고 또 제목처럼 한남자가 그런상황에 맞춰 어뜩해 살았는지.. 보는 내내짠햇다.\n",
      "선라이즈 보고 이어서 봤는데 몰입감은 선셋이 좀더 좋은거 같고 작품성은 선라이즈가 나은듯 렛미싱유~♪ 3편 평점보다가 내용을 좀 알아버려서 아쉬움이.. 평점 안보고 볼껄... 사랑을 추억하는 영화 설레임 연애 애틋함이 느껴지는 좋은 영화였다.\n",
      "최근 보기드문 가족영화인 것 같아요!!보수적인 나도 애들의 천진스러운 생각과 가족에 대한 애듯한 사랑의 표현들에 나도 모르게 눈가에 눈물이 주르르 흐르더라고요! 다셋 ,여섯번정도..,저는 시사회에 두번 봤는데 , 두번째는 아들하고 함께봤어요!\n",
      "외모가 부각되어, 단순히 외모가 흉해서 몬스터인 줄 알았다. 그녀는 몬스터가 되었다. 점점 살인을 정당화해가는 모습이 이미 몬스터가 되었단 증거가. 하지만, 그녀를 그렇게 만든 몬스터가 있지 않았다면, 그녀도 이런 삶을 보내진 않았을 것이다.\n",
      "정말 재미있어요!!! 정말로정말로!!레나정은 딸을 빼앗기고 서인철박사가 집사?한테 주고키웠더니 나중엔 알게되서 레나정이 엄마가되고 TNC그룹 장남이 레나정과 결혼하고 장남의 동생인 박재준과 레나저의 딸과 결혼하고? 복잡하지만 재미있어요!!~~\n",
      "한국 영화 보면서 일케 웃어본적 몇년만인거 같네요 ㅋㅋㅋ 뭐 사람들 클라라 벗는 거만 생각하고 봤다가 실망해서 평점 1 주고 햇더만 전 원래 클라라 누군지 잘 몰라서 그냥 영화만 봣는대 웃겨서 ㅋㅋㅋ 팬티 입고 축구장간거에서 빵 터졋다는 ㅋㅋ\n",
      "지금 이 10점은 시즌 1을 위한것에 불과하다. PD도 대단했고, 그때 출연했던 강호동, 이승기, 은지원, 김종민, MC몽, 김C 등 호흡이 척척 맞았다. 물론 지금 안 맞는건 아니지만서도 웬지 모르게 시즌 1이 무척이나 그리운건 나 뿐인가?\n",
      "Mary Hopkin 의 Voyage of the Moon 이 흐르며 새하얀 커피잔에 커피와 독약이 함께 녹는다. 흠 잡을 곳이 없는 멋진 드라마.. 흡사 히가시노게이고 소설의 마무리를 보는 것 같았다. 죽어가는 채령의 모습은 오래 기억될듯.\n",
      "타계하신 배우,윤인자 님께서 주연으로 열연을 보여주신 당시 우리 영화로는 보기드문 수작이라고 기억합니다.오래전, 극장에서 본 영화라서 기억은 가물 대지만 ,전편에 잔잔하게 흐르는 음악도 좋았었구요...윤인자 님의호연이 참,좋았다고 생각합니다.\n",
      "쑨원의 삶을통해 신해혁명의 의미를 되새기고, 중국의역사를 알기쉽게 전달해준 감명깊은 영화였다., 공산당이라고 까는사람들은 중국이 원래는 공산당이 아니었다는사실을알아야한다. 신해혁명은, 청나라에대항해 한족이 일으킨혁명이며 공산당과는전혀상관이없다\n",
      "6점대는 아닌거 같다..곽경택영화는 항상 부담스럽긴 한데.. 겉멋 보다는 툭툭 던지는 욕설 섞인 구수한 사투리의 강한남성영화인거 같다. 출현 배우의 능력을 최대한 끌어내는 감독. 취향은 아니지만 영상 음악 나무랄데 없고 항상 대작스멜이 난다.\n",
      "마고가 루와 그의 가족과 있을때 중간중간 보여줬던 묘한 표정들 .. 외로워보이기도 하고 체념하는듯해보이기도 했는데 결국 마고가 루를 떠났던건 채워지지않는 외로움이 있어서가 아닐까 싶어요. 하지만 새로운 사랑도 이 외로움을 채워주지못한것같아요.\n",
      "오랜만에 보는 서부극.소재도 독특하고 음악역시 특이하게 가스펠을 편곡해서 썼는데, 색다르네. 배역도 좋았고,개인적으로 제프 브리짓스의 가래낀 목소리싫어하는데,헤일리스테인벨트 보는 맛에 참을 수 있었네. 오랜만에 보는 코엔형제작품, 강추합니다.\n",
      "최민식씨가 소주 한잔 하면서 우는장면에서뭐랄까... 아이들을 지키고 싶어하는 선생님의 모습을. 우리 아버지의 모습을. 또 점점 나이가 들어가면서 약해져가는 내 모습을 보는것 같아. 같이 울고 같이 힘내게 되네요. 위로 받았습니다. 감사합니다.\n",
      "인간이 '목적하'에 복제 인간을 만들어 낸다면 현실 가능성 있는 얘기 같다. 복제인간 관점에서 해피엔딩을 바라고 만족감을 바란다면 비추나 힘없고 나약한 그들의 존엄성도 동등히 존중받아야 하는 영혼을 가진 존재란 걸 느끼며 괜찮게 본 영화였다.\n",
      "창업을 꿈꾸는가! 좋은 아이템이 있어 사업을 하려하는가!! 그렇다면 기를 쓰고 이 영활 보기바란다!! 그 멀고 험한 여정에 스승이 될것이요 지침서가 될것이다... 혹은 단념에 도움이 될지도... 참 오랜만에 박장대소하며 본 독립영활세~~~ ★\n",
      "초등학생때 우연히 엄마 가곡집에서 가사를 보고 비디오를 빌려 본 사운드 오브 뮤직은 고등학생때까지?일년에 두번씩 꼭 챙겨보는 인생영화가 되었다. 아름다운 노래소리와 연출들.. 영화의 모든 ost가 이렇게 좋을수 있을까? 볼때마다 소름이 돋는다\n",
      "아주 개만도 못한 인간찌질이들이 악플다네ㅋㅋ 난 잼있게봤는데...영화는 말그대로 그냥 재미있으면 그만인거지..ㅋㅋㅋㅋ 이영화 악플달고 ㅈㄹ 하는 개 만도 못한 인간 찌질이 막장 인생들아.....ㅋㅋ 그냥 목 메러가라 OO 버려라 그냥 ㅋㅋㅋㅋ\n",
      "이영화를 우연히 보게 되고난후 난 너무 아름다웠다. 제작년 추석 TV에서 틀어준 봄여름가을겨울을 우연히 술이 꺤 직후 보게 되었고 난 아름다운 충격에 휩쌓였다. 그런데 그것도 김기덕의 영화였다. 난 이제 알았다. 김기덕은 대단하다는 것을...\n",
      "I am that I am. WHO MADE MAN'S MOUTH? WHO MADE THE DEAF, THE MUTE, THE SEEING OR THE BLIND? DID NOT I? NOW GO! you shall DO MY WONDERS!\n",
      "이 영화를 몇 번이고 보면 볼수록, 하나의 문장이 머릿속에서 떠나질 않았다. 한국은 관객을 위한 영화가 없다. 제발 우리나라 영화가 같잖은 억지눈물샘만 자극하는 돈만 보는 거지같은 거 그만하고 이 영화의 반 정도만 되는 영화를 만들길 바란다.\n",
      "한국 애니메이션을 진심으로 응원합니다. 박신혜씨는 억양이며 말투가 너무 어색하던데 아마 본인도 그 어색함을 느꼈을 듯. 반대로 송창의씨는 정말 자연스럽더군요. 성우인줄 알았는데 영화정보를 보고 알았네요. 오랜만에 보는 한국적인 애니메이션영화.\n",
      "아무도 지킬 생각도 없는 번들어진 규범과 규칙 따위가 대체 무슨 소용이 있나. 다들 기품있고 우아한 척 하지만 기실은 상-놈들이랑 하등 다를 바 없던 우리의 잘나신 나으리들이여. 영화의 모든 것을 장악하고 통제해낸 위대한 르누아르에게 경배를!\n",
      "오랜만에 영화보고 울었다.자이언트가 어디서 무슨목적으로 지구에 왔는진 중요하지 않다. 자이언트는 올바른 길을 선택했고 슈퍼맨이 되었다. 결국 상황이 어떻든 내가 옳은 판단을 하면 되는거다. 이렇다 변명따위 필요없이 나는 내가 선택한대로 된다.\n",
      "영어 잘 못 하는 분들이나 Skype 이용 안 해본 사람한테는 재미 없을 겁니다. 하지만, 연출, 플롯, 영상 등 작품성으로 보면 아주 훌륭한 작품입니다. SNS를 이용하는 모두가 꼭 반드시 봐야 된다고 생각합니다. 친구들한테도 추천해주세요.\n",
      "이 영화에 나오는 잔인한 부분은 시각적으로 자극을 줄려고 만든 것이 아니라 영화가 전달하고자 하는 부분들을깊게 나타내기 위한 요소로 느껴져서 너무 좋앗습니다. 고통이 가지는 의미 전쟁의 참혹함.. 마지막 부분의 여운은 정말.... 최고네요ㅜㅜ\n",
      "잠수함이 부상할때 나오는 마초적인 음악은 정말 남자의 가슴을 흥분시킨다. 잠수함이라는 특수한 공간의 폐쇄성을 지극히 사실적으로 살린 수작 중의 수작!!! 아무리 헐리웃의 CG특수효과가 대단하다하지만 아날로그의 감성을 절대 이길 수는 없지...\n",
      "생각보다 재밌는데 왜 평점이 낮은지 이해가 안된다. 박하선의 연기가 일품이고....특히 여고생연기, 음치흉내내는것 등등 박하선의 매력에 푹~ 빠지게 만드는 그런 영화다....요즘 유머코드와 안맞아서 흥행실패한지는 모르겠지만....암튼 재밌음.\n",
      "브로드웨이에서 직접 보고 영화로 또 봤지만 역시 최고의 감동! 말이필요없네요!! 연출도 훌륭했고 영화는 또 영화만의 매력이 있고 황홀한 음악과 화려한 볼거리로 가득했던 The Phantom of the opera!! Phantastic!!!!\n",
      "신랄하게 주고받는 악담도 재치터지고 가끔씩 폐부를 찌르는 교훈이라고 해야하나 느낀점이라고해야하나 그런것도 감탄을 하게 만듦무엇보다 인물이 너무 생생해서 좋다대사하나하나에 그인물이 물씬 물씬 느껴진다굉장히 생동감있는- 색채가 화려한 대사들이었다\n",
      "28일후는 단순한 좀비영화가 아니라 인간의 본성이 무엇인지, 그리고 집단적 폭력과 비합리적인 권위가 얼마나 위험한 것인지(심지어 좀비보다도)를 보여주려고 한 영화다. 조지 로매오의 살아있는 시체들의 밤과 더불어 좀비 영화의 명작이라고 생각함.\n",
      "Com-아끼고 아껴보던.. 정말.. 명작.. 주옥같은 그 당시 노래와.. 소품들.. 그리고.. 기대치 않았던.. 신인배우들의 연기력... 깨알같던.. 까메오 출연과.. 실타래 풀리는 듯한 스토리가.. 회를 거듭할수록 기대하게 하는 명작 드라마\n",
      "1박2일 시즌1은 그야말로 레전드라 할 수 있겠다. 구성, 출연진, 패턴, 시간대, 조합 등등 모든것이 최고였고, 시청률 역시 40%는 그냥 쉽게쉽게 찍었었지...강호동, 이수근, 은지원, 김종민 참 대단했지...MC몽 병역연기사건이후 하락세\n",
      "인격의 다양한 면을 감각적으로 표현한 멋진 작품. 차안에서의 하가안과 고지위의 동행장면과 마지막에 겁쟁이를 한번더 추악하게 만든 장면 등에서 눈에 보이는 것 이상의 디테일한 세상을 가시적으로 전달하여 상황을 더 인상적이게 표현한 것이 좋았다.\n",
      "작품성, 현실성으로 승부해야 할 다큐무비였다. 한국에 수입되며 상어나오는 B급 여름 스릴러처럼 마케팅해 커플들이 껴안을생각으로 영화관 갔다가 뒤통수 맞으니 환불이나 요청하지. 조난에 대한 현실성은 10점을 줘도 아깝지 않은 안타까운 수작이다.\n",
      "무지한 사람들이 보기에는 덜떨어진 패러디물, 하지만 자세히 찾아보면 사회풍자와 멋드러지게 잘꾸며진 외면 내부에 숨겨진 추악한 부분을 들춰낸다는 깊은 메세지를 담은 영화. 무작정 3류코미디영화라고 생각한다고 본다면 그사람에겐 더이상해줄말이없다.\n",
      "뭐 역사를 다룬영화니 역사왜곡이느니 어쩌구하는 인간들많다 근데 영화는 영화일뿐이고전쟁중에서의 시점은 스파르타시점이니 그 시점에서의 페르시아가 그렇게보인다는 식으로 꾸민건데(적군이고 스파르타 입장이니) 그냥 영화로봐라 영화로 무슨 역사공부하냐?\n",
      "맨 마지막... 강렬했다. 특히 마지막 장면. 어째 슌지는 꼭 자살해서 죽을것 같더라니 ㅠㅠ 우리는 모두 각시탈이고 이 나라의 영웅이다. 우리나라 정말 만세다!! 이번 드라마로 많은 걸 생각한듯.. 교훈과 아쉬움과 뭉클함을 남기고 끝났구나ㅠㅠ\n",
      "장가위감독은 천재다. 대사도 많지 않으면서 관객에게 많은 생각을 하게해준다. 양조위, 장만옥의 연기 또한 일품이다.이 영화를 열번정도 보았는데 다시봐도 질리지 않는 영화로 내겐 고전이 되었다. 음악도 감미롭고, 카메라 워크도 좋았고, 영상미도\n",
      "개인적으로는 에밀리 브론떼의 폭풍의 언덕, 유진 오닐의 밤의로의 기로 같은 작품을 떠올리게 하는 김기덕 감독 식 시나리오의 작품. 이번 작품 또한 오래 오래 생각할 부분이 많을 것 같다. 각본도, 연기도 정말 좋다. 긴장을 놓지 못하고 봤다.\n",
      "독창적이고 종교적 색채(?)가 짙은 영화이지만、맨 프롬 어스와 같이 많은 것을 생각하게 해주는 영화입니다。종교에 대한 생각 자체가 신이 아닌 믿음으로 정의 된다면 상당히 얻어 갈 수 있는 교훈적인 영화이지요~참、좋은 시간이었습니다。강력추천！！\n",
      "이 영화를 단순히 스시에 대한 다큐라고 보지 않으셨으면 합니다ㅋ 일부 전문가들은 이 영화의 전개 등이 뻔하다고 생각 하지만. 이는 감독의 의도를 생각하지 못한 짧은 생각인것 같습니다. 자신의 삶을 이 영화를 거울 삼아 되돌아 보셨으면 합니다.\n",
      "토시오와 가야코가 나와서 무조건 죽이고 다니는, 별 스토리 없는 기존의 주온보다 오히려 더 좋았다. 탄탄한 스토리, 드라마성을 지닌... 새로운 주온으로 거듭날 가능성이 보인다. 좀 안타깝기도 하고 애처롭기도 했다. 꼬마애가 철권날릴때 멋있어\n",
      "난 이런 병맛 같은 영화가 좋다. 매력있는 캐릭터의 집합소이며 어디로 튈 지 모르는 인물들과 스토리에 빠져 들어감. 휘몰아치는 이야기 전개 아니라서 좋고 흔하디 흔한 악역과 갈등 뭐 이런 거 없어서 식상하지 않음. 웃긴데 뭔가 안 웃겨서 좋음\n",
      "톰행크스의 샤프하고차분한연기가 굿.아울러 영화시작과 끝부분에나오는<street of philadelpia>와 <philadelpia>음악은 화룡점정<나는당신의사상에 반대한다.하지만당신이 그사상때문에 탄압을 받는다면 나는당신의편에서서 싸울것이다\n",
      "90년대는 홍콩영화계에 전성기라고 해도 과언이 아닌 시절이죠 그시절에 최고의 여배우들 세명이 나왔던 영화 스토리는 약해도 이러한 영화에 스토리를 찾는 것이 어불성설이지만 진짜 대박이였던 영화 그영화를 다시 리마스터링으로 볼수가 있다니 놀랍네요\n",
      "연기도 스토리도 최괴입니다. 몰입도도 굉장해거 영화애서 눈을 뗄수 없었습니다. 이번 영화로 영국의 역사에도 관심이 생겼네요. 그리고 배우들 연기도 정말 굉장했습니다. 야망에 찬 삶보다는 역시 소박하지만 행복한게 최고라는 생각을 가지게 되었네요\n",
      "케이블tv 에서 우연히 잠깐보고 재미있어 1000원이나 주고 다운받아 보는 중인데, 무한도전이나 개그콘서트도 수준낮다 무시하고 안보는 저이지만 이건 대놓고 코메디인데도 대사들이 인간 본성을 솔직히 드러내 화통하고 재미있습니다. 꼭 한번 보세요\n",
      "극초반에는 다소 억지스러운 설정이다 싶었는데 중반이후부터는 완전 몰입해서 봤습니다. 원작 보다 훌륭한 완성도 그리고 이범수, 정려원의 열연, 열정에 박수 갈채를 보내드리고 싶었고 너무 극전개가 탄탄했고 재미있어서 눈을 뗄 수 없었던 것 같아요\n",
      "내인생 최고의 드라마 라는 수식어가 당연한 최고의 걸작이었다.드라마 끝난지가 5개월이 다 되어가는데도 계속 반복해서 보고있다..매번 흠뻑 빠져서..스토리도 감동이었고 최영장군의 이민호는 최고의 캐스팅이었다.요즘세상 보기드문 감동드라마 신의!!\n",
      "레미제라블을보고, 스위니토드는 생각보다 배우들급이 낮았구나 싶었는데 다시보니 진정한 걸작이다. 가위손 이후 팀버튼과 조니뎁의 시너지가 가장 잘 발현된 작품! 음울한 런던을 표현한 미술에, 손드하임의 탁월한 음악. 주제표현까지 완벽한 잔혹동화!\n",
      "참신하긴해. 헨젤과 그레텔 오누이 가 또 이젠 대한민국으로와갖고, 마녀사냥 접고 일찐 학생들 사냥해주었으면 좋겠다.헨젤과 그레텔이 마녀사냥 때 했던것처럼,,석궁과 총탄으로 일찐 학생들을 송송 벌집 내줬으면 좋겠구나.헨젤과그레텔-일찐학생 사냥꾼\n",
      "이뮤지컬영화에 왜 이렇게 빠졌는지 나도잘 모르겠다. 수도 없이 봐서 이제 내가 이영화를 총 몇번 봤는지 기억도 안난다. 40~50번 정도 본거 같다. 열정 그래 이영화를 보면 열정이 살아 난다. 삶이 힘들때마다 내게 열정을 불어넣어준 \"렌트\"\n",
      "누가 그랬다 20살의 남자는 임신을 보고도 섹스 하는 상상만하지만....자식을 키운 남자는 임산부가 아름답게 보인다고..영화에게 몇년전에 느낀거 보다 더 많은것이 느껴진다..보면 볼수록...나이가 들수록... 좋은 영화다. 현실속의 사랑이..\n",
      "개인적으로, 굉장한 걸작이란 생각이 든다. 여자가 강간을 당했다고 진술한 이유에 대해 논란이 많은데, '문화충격'으로 인한 심리적 여파와 영국인들의 텃세, 강압에 의해 어쩔 수 없이 거짓말한거라고 생각한다. 어찌되었든 최고의 걸작 중 하나..\n",
      "영화를 보면서 모든 화장을 마친 완벽한 여자의 모습과 화장을 지운 여자의 모습을 보는 것 같았다. 그만큼 반전의 느낌이 정말 강했다. 완벽하다고만 생각했는데 생각지도 못한 반전에 놀랐고 그 반전에 담겨있는 내용과 그 내용 풀이가 정말 좋았다.\n",
      "배우 이민호와 김희선의 어울리지 않을것 같은 어울림이 묘한 매력으로 다가오는 신의 ^^ 타임스립드라마의 최고봉이라 할 수 있답니다. 잔잔하게 애잔한 신의의 매력으로 풍덩 빠져보심이 어떨런지 ^^ 내인생 최고의 드라마였습니다. 적극 추천합니다.\n",
      "햇살님 평보고 너무 어이없어서 로그인하네요.역겨우면 영화를 보지 말지 그러셨어요.? 아니 애초부터 동성애에 대해 편견을 가지고 있는 분이라면 차라리 영화보지말지 굳이 감상평까지 친절하게 남겨주시네요ㅋ입장바꿔생각해봐요이렇게까지욕먹을껀아니라생각함\n",
      "사람들 절반이, 잘못알고있는데ㅋㅋ 진화촉진제 맞은 인간들이 바로 돌연변이 된게 아니라... 진화촉진제 맞은 인간들이ㅡ 후손남기고 극한환경에ㅡ 맞게끔 900년걸쳐서 진화한건데;;; 전자로 생각하면 진짜 평점 낮을수밖에ㅋ기자/평론가들 태반일거임ㅋ\n",
      "아시아권을넘어 세계적 예인(藝人)으로 살다간 \"그\" 가 가고 난 후에도 지금까지 난 그를 동시대 사람으로 늘 그리워하기에 혹시 내가 그의 흔적 무엇인가를 놓쳤을까봐 찾아보고 또 찾아본다. 그리고 지금 놓쳤던 그의 흔적 유성어를 지금 보고있다.\n",
      "이 영화 재미있게 본 분들은 이 영화 제작기 다큐인 \" Hearts of Darkness : A Filmmaker's Apocalypse\" 라는 다큐를 보세요. 또 다른 재미를 느끼실 수 있을 겁니다. 한글자막도 있으니 검색해서 찾아 보시길.\n",
      "다양성을 인정하지 못한다면, 이 불쾌한 영화가 싫을 수도 있다. 하지만 당신이 이 영화 속 인물들 때문에 역겨움을 느꼈다면, 아마 제작진의 의도는 거의 성공적으로 당신에게 먹힌것 일 거라고 생각한다.. 이 영화, 블랙코미디 영화라고 써있던데.\n",
      "단순히 겉모양만 흉내낸 것이 아닌 진짜 성찰이 있는 캐릭터들이 마치 톱니바퀴처럼 완벽하게 맞아 돌아간다. 다른 영화를 볼 때, '과연 내가 이런 영화를 만들 수 있을까?' 라는 생각을 하게 되는데 이 영화는 감히 그런 발상조차 할 수 없었다.\n",
      "님을 생각하면 너무 가슴 아프다... 일년 후 박사가 다시 왔을때... 님이 기뻐하며 안기는 그 모습만 생각하면 가슴이 아파 미치겠다...그리곤 다시 오지 않았지...인간의 잔인함... 님을 생각하면 가슴아프고...미안하고... 너무괴롭다..\n",
      "마지막까지 로맨틱한 사랑을 꿈꾸는 젊은 청춘들..허나 나같은 청춘의 마지막 기로에서도 아직까지 영원불멸 로맨틱을 꿈꾼다.. 이 영화는 점점 현실이 되어가서 실망을 안겨줄것 같다가도 그러나 영원불멸한 사랑은 꼭 존재한다는것을 가르쳐주었다 : )\n",
      "도심속에 꽉찬 머리속을 비우는 느낌이 좋다대사도 그리 많지 않고 잔잔하면서 서정적인 풍광작은집 외벽 이곳 저곳 벗겨진 페인트가 세월의 자연스러움을 보여준다이국적이지만 동양적 시각으로 앵글에 담겨진 하와이가너무나 아름답게 내눈을 편안하게 해준다\n",
      "사운드며 조승우의 보컬이 너무 좋았다.하지만 가장 좋았던겄은 별로 좋아하지 않았던신민아~♡그녀의 인생연기. 화면이(감독이 암흑기를 표현했겠지만)더 아름다웠을듯.좋아하는 감독님이 추억의 가요로 리머이크를 잘 해준다면 오백만 이상 자신해요~^^)\n"
     ]
    }
   ],
   "source": [
    "def check_sentence_with_length(raw, length):\n",
    "    count = 0\n",
    "    \n",
    "    for sen in raw:\n",
    "        if len(sen) == length:\n",
    "            print(sen)\n",
    "            count += 1\n",
    "            if count > 100: return \n",
    "\n",
    "check_sentence_with_length(naver_review, 135)"
   ]
  },
  {
   "cell_type": "code",
   "execution_count": 21,
   "id": "fleet-nightlife",
   "metadata": {},
   "outputs": [
    {
     "name": "stdout",
     "output_type": "stream",
     "text": [
      "내 인생의 영화\n",
      "ㅎㅎㅎㅎㅎㅎㅎㅎ\n",
      "역시 최고였다.\n",
      "잘나갔지 콜트~\n",
      "나수윤의 발견!\n",
      "정말 멋진 영화\n",
      "매력넘치는 영화\n",
      "넘넘 재밌있었습\n",
      "훈훈한 영화~~\n",
      "참재밌게 봤다.\n",
      "무섭고 아쉽다.\n",
      "재미있었스니다.\n",
      "그냥 킬링타임용\n",
      "후회없는 영화!\n",
      "배창호 최고걸작\n",
      "행복한영호ㅓㅠㅠ\n",
      "재미 있습니다.\n",
      "모스크바가고싶다\n",
      "이건진짜명작이죠\n",
      "주옥 같은 영화\n",
      "재밌었어요ㅋㅋㅋ\n",
      "동양화같은 영화\n",
      "재밌는다큐였어요\n",
      "최고의영화...\n",
      "정말재밌어용..\n",
      "가슴 아파요..\n",
      "말이필요없지,,\n",
      "그냥 좋다 ㅎㅎ\n",
      "최고의 영화다.\n",
      "최고의순수의영화\n",
      "다시봐도 재밌다\n",
      "감동 적인 내용\n",
      "재밌어요~ ㅋㅋ\n",
      "멋지다 조문탁!\n",
      "재밌어요 ㅋㅋㅋ\n",
      "재미있고 참신함\n",
      "런닝맨완전재밌음\n",
      "난 재밌던데..\n",
      "오아오어ㅓ오ㅓ아\n",
      "재미있네요 !!\n",
      "즐겨보고있어요!\n",
      "즐거운 영화..\n",
      "정말 웃기네요.\n",
      "말이 필요 없다\n",
      "난해하다 외롭다\n",
      "재미있다~~~!\n",
      "꺄아~귀요미들~\n",
      "어쩜 절묘한지.\n",
      "멋있으세요 ^^\n",
      "엄청 웃낌 ㅋㅋ\n",
      "참 평화로워요.\n",
      "잠안올때 강추!\n",
      "좋다라는 말밖에\n",
      "웨스턴의 교과서\n",
      "단 하나의 사랑\n",
      "걍대박.....\n",
      "재밌어어용~~~\n",
      "끝까지 몰입이됨\n",
      "너무 재밌었어요\n",
      "아름다운 성장기\n",
      "전설에 동감..\n",
      "30번 넘게봤다\n",
      "떡밥계의 최고봉\n",
      "어떻게봐요이거?\n",
      "굿굿굿 굿이에요\n",
      "추억돋네요 ㅎㅎ\n",
      "걍 재미잇는영화\n",
      "재밌던데 뭘ㅎㅎ\n",
      "완전 재밋습니다\n",
      "좋은 영화네요.\n",
      "ㅋㅋㅋㅋㅋ재밌당\n",
      "느낌 좋은 영화\n",
      "감동ㅠㅠㅠㅠㅠㅠ\n",
      "대단한 영화였음\n",
      "좋다 진짜;;;\n",
      "재미있었는데..\n",
      "넘재밋다 ㅋㅋㅋ\n",
      "재밋어요 짱짱짱\n",
      "최고의우정이다.\n",
      "프랑스로 갈래~\n",
      "재미있어요 ㅋㅋ\n",
      "박지윤씨 이뻐요\n",
      "잔잔한웃음 ^^\n",
      "하지원 레전드임\n",
      "이젠 잘 살아라\n",
      "매력적인 무비;\n",
      "평점이 왜이러냐\n",
      "재미있게 보았다\n",
      "게리올드만 최고\n",
      "감동적입니다^^\n",
      "스토리탄탄 ㅠㅜ\n",
      "히트 재밋죠 ㅎ\n",
      "되게 묘함...\n",
      "마음에 듭니다.\n",
      "정말 완벽했다.\n",
      "솔까 재밌는데?\n",
      "말이 필요없음.\n",
      "신정환컴백하라~\n",
      "다시봐도 최고.\n",
      "까브리머싯씀ㅎㅎ\n",
      "샘이 돌아왔다.\n"
     ]
    }
   ],
   "source": [
    "check_sentence_with_length(naver_review, 8)"
   ]
  },
  {
   "cell_type": "code",
   "execution_count": 24,
   "id": "bigger-temple",
   "metadata": {
    "scrolled": true
   },
   "outputs": [
    {
     "name": "stdout",
     "output_type": "stream",
     "text": [
      "내용이너무좋아요.ㅎ\n",
      "뀰잼이다뀰잼이라구여\n",
      "13살이엇냐?...\n",
      "알파치노 연기때문에\n",
      "이물감. 시 같았다\n",
      "매력적인 영화...\n",
      "이거 재밌는데...\n",
      ".겁쟁이페달보고싶다\n",
      "한국 영화치고 좋다\n",
      "정말 멋진 결말!ㅎ\n",
      "너무 잘 봣어요..\n",
      "도라에몽 최고~!!\n",
      "정말 재밋내요..굿\n",
      "너무끔찍하네요ㅜㅜㅜ\n",
      "유지태 너무 멌있다\n",
      "진짜..쩔지..ㅜㅜ\n",
      "개꿀재밋다뿌잉최고임\n",
      "박보영 나와서 추천\n",
      "그냥 재밌습니다^^\n",
      "카이키는차캤습니다.\n",
      "이거왜청불임????\n",
      "소재가 새로웠던..\n",
      "이거완전 추전!~~\n",
      "1236547890\n",
      "평점이왜이래....\n",
      "조용하고 잔잔한영화\n",
      "왜안 저스티스리그요\n",
      "영화의매력에빠졌어요\n",
      "피터팬너무좋아요ㅠㅠ\n",
      "엄청재밌어요정의성굳\n",
      "계속 울었다..ㅜㅜ\n",
      "재밋다 그외는 없고\n",
      "재미나요~귀여워요~\n",
      "내가본한국최고의애니\n",
      "인간은 자유의 노예\n",
      "만세!!!!짱재밌음\n",
      "아날로그적 감성..\n",
      "완전 재밌다 ㅋㅋㅋ\n",
      "유덕화아저씨잘생겼다\n",
      "통일호 화장실 강추\n",
      "구르재매맴잼잼잼잼젬\n",
      "아직까지도 여운이.\n",
      "스크림보다 재밌네!\n",
      "좋았다.(열자..)\n",
      "지극히 붉은 영화.\n",
      "이거죠~이거!!!!\n",
      "여운이너무많이남아요\n",
      "스티브잡스가생각나요\n",
      "제시카 알바 좋아요\n",
      "정말 잘 만든 사극\n",
      "나쁘지많은않은...\n",
      "재밌네 이거 ㅋㅋㅋ\n",
      "난 너무 재밌엇음~\n",
      "보.고.싶.다.!!\n",
      "즐겁게 볼수있었던!\n",
      "Very good!\n",
      "여자 걸그룹이 이쁨\n",
      "7.32 라니 ㅋㅋ\n",
      "전편 다보고싶다..\n",
      "좋다~~ 사랑스러운\n",
      "진짜감동이다감동이야\n",
      "나는 재미있게 봤다\n",
      "애니의새로운 개척점\n",
      "감동이 있는 이야기\n",
      "재미있게 봤어요^^\n",
      "가나다라마바사아자차\n",
      "좋아요정말좋아요정말\n",
      "엄청재밌어요꼭보세요\n",
      "정말 잘 만들어졌음\n",
      "넝쿨째굴러온당신짱!\n",
      "야하지만 좀 재밌다\n",
      "정말대단한거같다는ㅋ\n",
      "굿굿굿굿굯굿굿굿귯귯\n",
      "이것도 꽤 명작이지\n",
      "최고의 영화중 한편\n",
      "잔잔한 멋이 있네요\n",
      "겁나재밌었음!!!!\n",
      "내인생최고의액션영화\n",
      "감동의 물결....\n",
      "볼만함~재밋음~굿굿\n",
      "정말재밌게잘봤습니다\n",
      "장근석존잘박신혜존예\n",
      "솔직히 재밌다 ㅋㅋ\n",
      "늘 감동이었네요..\n",
      "배울점이많은영화ㅋㅋ\n",
      "일주일만에 다봣다.\n",
      "재미있게 본 영화~\n",
      "멋지고 감동적이다.\n",
      "너무 좋은 영화예요\n",
      "이영아 넘 이뻐^^\n",
      "붉은매다시보고싶다.\n",
      "웨스턴무비의 교과서\n",
      "가슴이 시리네요..\n",
      "말이 필요없네요..\n",
      "정말 잘 만든 영화\n",
      "잼있다ㅎㅎ다시봐야지\n",
      "감동스토리.....\n",
      "느낄수 있는 영화!\n",
      "완전 재미있게 봤다\n",
      "잼이잇어용꼭보새용잼\n",
      "좋은데 왠지 슬프다\n"
     ]
    }
   ],
   "source": [
    "check_sentence_with_length(naver_review, 10)"
   ]
  },
  {
   "cell_type": "code",
   "execution_count": 25,
   "id": "pressing-valuable",
   "metadata": {},
   "outputs": [
    {
     "name": "stdout",
     "output_type": "stream",
     "text": [
      "Data Size: 194543\n",
      "문장의 최단 길이: 1\n",
      "문장의 최장 길이: 142\n",
      "문장의 평균 길이: 36\n"
     ]
    },
    {
     "data": {
      "image/png": "[encoded data removed]",
      "text/plain": [
       "<Figure size 432x288 with 1 Axes>"
      ]
     },
     "metadata": {
      "needs_background": "light"
     },
     "output_type": "display_data"
    }
   ],
   "source": [
    "min_len = 999\n",
    "max_len = 0\n",
    "sum_len = 0\n",
    "\n",
    "# cleaned_corpus = list(set(naver_review))  # set를 사용해서 중복을 제거합니다.\n",
    "print(\"Data Size:\", len(naver_review)) \n",
    "\n",
    "for sen in naver_review:\n",
    "    length = len(sen)\n",
    "    if min_len > length: min_len = length\n",
    "    if max_len < length: max_len = length\n",
    "    sum_len += length\n",
    "\n",
    "print(\"문장의 최단 길이:\", min_len)\n",
    "print(\"문장의 최장 길이:\", max_len)\n",
    "print(\"문장의 평균 길이:\", sum_len // len(cleaned_corpus))\n",
    "\n",
    "sentence_length = np.zeros((max_len), dtype=np.int)\n",
    "\n",
    "for sen in naver_review:   # 중복이 제거된 코퍼스 기준\n",
    "    sentence_length[len(sen)-1] += 1\n",
    "\n",
    "plt.bar(range(max_len), sentence_length, width=1.0)\n",
    "plt.title(\"Sentence Length Distribution\")\n",
    "plt.show()"
   ]
  },
  {
   "cell_type": "markdown",
   "id": "legitimate-arkansas",
   "metadata": {},
   "source": [
    "## 최적의 길이 찾기"
   ]
  },
  {
   "cell_type": "code",
   "execution_count": 26,
   "id": "assigned-index",
   "metadata": {},
   "outputs": [],
   "source": [
    "def below_threshold_len(max_len, nested_list):\n",
    "    cnt = 0\n",
    "    for s in nested_list:\n",
    "        if(len(s) <= max_len):\n",
    "            cnt = cnt + 1\n",
    "    print('전체 샘플 중 길이가 %s 이하인 샘플의 비율: %s'%(max_len, (cnt / len(nested_list))*100))"
   ]
  },
  {
   "cell_type": "code",
   "execution_count": 27,
   "id": "dutch-garbage",
   "metadata": {},
   "outputs": [
    {
     "name": "stdout",
     "output_type": "stream",
     "text": [
      "전체 샘플 중 길이가 36 이하인 샘플의 비율: 66.08616090016089\n",
      "전체 샘플 중 길이가 140 이하인 샘플의 비율: 99.99948597482305\n",
      "전체 샘플 중 길이가 70 이하인 샘플의 비율: 88.66523082300571\n",
      "전체 샘플 중 길이가 50 이하인 샘플의 비율: 82.05640912291884\n",
      "전체 샘플 중 길이가 60 이하인 샘플의 비율: 85.86739178484962\n"
     ]
    }
   ],
   "source": [
    "below_threshold_len(36, naver_review)  # 평균\n",
    "below_threshold_len(140, naver_review)  # 최장 \n",
    "below_threshold_len(70, naver_review)  # 중앙값\n",
    "below_threshold_len(50, naver_review)  \n",
    "below_threshold_len(60, naver_review)  "
   ]
  },
  {
   "cell_type": "code",
   "execution_count": 28,
   "id": "elder-rogers",
   "metadata": {},
   "outputs": [
    {
     "data": {
      "image/png": "[encoded data removed]",
      "text/plain": [
       "<Figure size 432x288 with 1 Axes>"
      ]
     },
     "metadata": {
      "needs_background": "light"
     },
     "output_type": "display_data"
    }
   ],
   "source": [
    "max_len = 60   \n",
    "min_len = 0\n",
    "\n",
    "# 길이 조건에 맞는 문장만 선택합니다.\n",
    "\n",
    "filtered_corpus = [s for s in cleaned_corpus if (len(s) < max_len)]\n",
    "\n",
    "# 1. 내가 짰지만 비효율적인 코드 \n",
    "filtered_corpus = [] \n",
    "filtered_label = []  \n",
    "for row, label in zip(naver_df['document'], naver_df['label']):    \n",
    "    if (len(row) < max_len):     \n",
    "        filtered_corpus.append(row)  \n",
    "        filtered_label.append(label)   \n",
    "        \n",
    "# 2. 같이 공부하는 @수희님이 알려주신 코드 \n",
    "# 데이터프레임 조건부 슬라이싱 \n",
    "# str.len() 두 함수에 대해 알 수 있었다. \n",
    "train_data = cleaned_corpus[cleaned_corpus['document'].str.len() < max_len]   \n",
    "\n",
    "\n",
    "\n",
    "# 분포도를 다시 그려봅니다.\n",
    "sentence_length = np.zeros((max_len), dtype=np.int)\n",
    "\n",
    "for sen in train_data['document']:\n",
    "    sentence_length[len(sen)-1] += 1\n",
    "\n",
    "plt.bar(range(max_len), sentence_length, width=1.0)\n",
    "plt.title(\"Sentence Length Distribution\")\n",
    "plt.show()"
   ]
  },
  {
   "cell_type": "markdown",
   "id": "fuzzy-cancellation",
   "metadata": {},
   "source": [
    "## Step 1. SentencePiece 설치하기\n"
   ]
  },
  {
   "cell_type": "code",
   "execution_count": 11,
   "id": "occupational-spring",
   "metadata": {
    "scrolled": true
   },
   "outputs": [
    {
     "name": "stdout",
     "output_type": "stream",
     "text": [
      "Requirement already satisfied: sentencepiece in /opt/conda/lib/python3.7/site-packages (0.1.95)\n",
      "\u001b[33mWARNING: You are using pip version 20.3.3; however, version 21.3.1 is available.\n",
      "You should consider upgrading via the '/opt/conda/bin/python3.7 -m pip install --upgrade pip' command.\u001b[0m\n"
     ]
    }
   ],
   "source": [
    "! pip install sentencepiece"
   ]
  },
  {
   "cell_type": "markdown",
   "id": "heavy-study",
   "metadata": {},
   "source": [
    "## Step 2. SentencePiece 모델 학습\n"
   ]
  },
  {
   "cell_type": "code",
   "execution_count": 29,
   "id": "informal-enterprise",
   "metadata": {},
   "outputs": [],
   "source": [
    "import sentencepiece as spm\n",
    "import os\n",
    "temp_file = os.getenv('HOME')+'/aiffel/sp_tokenizer/data/korean-english-park.train.ko.temp'\n",
    "\n",
    "vocab_size = 8000\n",
    "\n",
    "with open(temp_file, 'w') as f:\n",
    "    for row in train_data['document']:   # 이전 스텝에서 정제했던 corpus를 활용합니다.\n",
    "        f.write(str(row) + '\\n')\n",
    "\n",
    "# vocab size=8000, model_type=unigram\n",
    "spm.SentencePieceTrainer.Train(\n",
    "    '--input={} --model_prefix=kor_spm_unigram_8k --vocab_size={}'.format(temp_file, vocab_size)    \n",
    ")\n",
    "\n",
    "# 왜인지 오류가 나서 학습이 되지 않음 \n",
    "# vocab size=16000, model_type=unigram\n",
    "spm.SentencePieceTrainer.Train(\n",
    "    '--input={} --model_prefix=kor_spm_uingram_4k --vocab_size={}'.format(temp_file, vocab_size//2)    \n",
    ")\n",
    "\n",
    "# vocab size=8000, model_type=bpe\n",
    "spm.SentencePieceTrainer.Train(\n",
    "    '--input={} --model_prefix=kor_spm_bpe_8k --model_type=bpe --vocab_size={}'.format(temp_file, vocab_size)    \n",
    ")\n",
    "\n",
    "# vocab size = 16000, model_type=bpe\n",
    "spm.SentencePieceTrainer.Train(\n",
    "    '--input={} --model_prefix=kor_spm_bpe_16k --model_type=bpe --vocab_size={}'.format(temp_file, vocab_size*2)    \n",
    ")\n",
    "\n",
    "#위 Train에서  --model_type = 'unigram'이 디폴트 적용되어 있습니다. --model_type = 'bpe' 로 옵션을 주어 변경할 수 있습니다."
   ]
  },
  {
   "cell_type": "code",
   "execution_count": 30,
   "id": "based-gather",
   "metadata": {},
   "outputs": [
    {
     "name": "stdout",
     "output_type": "stream",
     "text": [
      "-rw-r--r-- 1 root root 375041 Dec 20 13:50 kor_spm_unigram_8k.model\n",
      "-rw-r--r-- 1 root root 144489 Dec 20 13:50 kor_spm_unigram_8k.vocab\n",
      "ls: cannot access 'kor_spm_unigram_4k*': No such file or directory\n",
      "-rw-r--r-- 1 root root 370356 Dec 20 13:51 kor_spm_bpe_8k.model\n",
      "-rw-r--r-- 1 root root 115580 Dec 20 13:51 kor_spm_bpe_8k.vocab\n",
      "-rw-r--r-- 1 root root 522995 Dec 20 13:52 kor_spm_bpe_16k.model\n",
      "-rw-r--r-- 1 root root 258215 Dec 20 13:52 kor_spm_bpe_16k.vocab\n"
     ]
    }
   ],
   "source": [
    "!ls -l kor_spm_unigram_8k*\n",
    "!ls -l kor_spm_unigram_4k*\n",
    "!ls -l kor_spm_bpe_8k*\n",
    "!ls -l kor_spm_bpe_16k*"
   ]
  },
  {
   "cell_type": "code",
   "execution_count": 31,
   "id": "geological-metallic",
   "metadata": {},
   "outputs": [
    {
     "data": {
      "text/html": [
       "<div>\n",
       "<style scoped>\n",
       "    .dataframe tbody tr th:only-of-type {\n",
       "        vertical-align: middle;\n",
       "    }\n",
       "\n",
       "    .dataframe tbody tr th {\n",
       "        vertical-align: top;\n",
       "    }\n",
       "\n",
       "    .dataframe thead th {\n",
       "        text-align: right;\n",
       "    }\n",
       "</style>\n",
       "<table border=\"1\" class=\"dataframe\">\n",
       "  <thead>\n",
       "    <tr style=\"text-align: right;\">\n",
       "      <th></th>\n",
       "      <th>0</th>\n",
       "      <th>1</th>\n",
       "    </tr>\n",
       "  </thead>\n",
       "  <tbody>\n",
       "    <tr>\n",
       "      <th>0</th>\n",
       "      <td>&lt;unk&gt;</td>\n",
       "      <td>0.00000</td>\n",
       "    </tr>\n",
       "    <tr>\n",
       "      <th>1</th>\n",
       "      <td>&lt;s&gt;</td>\n",
       "      <td>0.00000</td>\n",
       "    </tr>\n",
       "    <tr>\n",
       "      <th>2</th>\n",
       "      <td>&lt;/s&gt;</td>\n",
       "      <td>0.00000</td>\n",
       "    </tr>\n",
       "    <tr>\n",
       "      <th>3</th>\n",
       "      <td>▁</td>\n",
       "      <td>-3.26612</td>\n",
       "    </tr>\n",
       "    <tr>\n",
       "      <th>4</th>\n",
       "      <td>.</td>\n",
       "      <td>-3.47958</td>\n",
       "    </tr>\n",
       "    <tr>\n",
       "      <th>5</th>\n",
       "      <td>..</td>\n",
       "      <td>-4.24719</td>\n",
       "    </tr>\n",
       "    <tr>\n",
       "      <th>6</th>\n",
       "      <td>이</td>\n",
       "      <td>-4.42719</td>\n",
       "    </tr>\n",
       "    <tr>\n",
       "      <th>7</th>\n",
       "      <td>▁영화</td>\n",
       "      <td>-4.43085</td>\n",
       "    </tr>\n",
       "    <tr>\n",
       "      <th>8</th>\n",
       "      <td>...</td>\n",
       "      <td>-4.48546</td>\n",
       "    </tr>\n",
       "    <tr>\n",
       "      <th>9</th>\n",
       "      <td>의</td>\n",
       "      <td>-4.71213</td>\n",
       "    </tr>\n",
       "  </tbody>\n",
       "</table>\n",
       "</div>"
      ],
      "text/plain": [
       "       0        1\n",
       "0  <unk>  0.00000\n",
       "1    <s>  0.00000\n",
       "2   </s>  0.00000\n",
       "3      ▁ -3.26612\n",
       "4      . -3.47958\n",
       "5     .. -4.24719\n",
       "6      이 -4.42719\n",
       "7    ▁영화 -4.43085\n",
       "8    ... -4.48546\n",
       "9      의 -4.71213"
      ]
     },
     "execution_count": 31,
     "metadata": {},
     "output_type": "execute_result"
    }
   ],
   "source": [
    "vocab_list = pd.read_csv('kor_spm_unigram_8k.vocab', sep='\\t', header=None, quoting=csv.QUOTE_NONE)\n",
    "vocab_list[:10]"
   ]
  },
  {
   "cell_type": "code",
   "execution_count": 32,
   "id": "growing-portland",
   "metadata": {},
   "outputs": [
    {
     "name": "stdout",
     "output_type": "stream",
     "text": [
      "subword의 개수 : 8000\n"
     ]
    },
    {
     "data": {
      "text/html": [
       "<div>\n",
       "<style scoped>\n",
       "    .dataframe tbody tr th:only-of-type {\n",
       "        vertical-align: middle;\n",
       "    }\n",
       "\n",
       "    .dataframe tbody tr th {\n",
       "        vertical-align: top;\n",
       "    }\n",
       "\n",
       "    .dataframe thead th {\n",
       "        text-align: right;\n",
       "    }\n",
       "</style>\n",
       "<table border=\"1\" class=\"dataframe\">\n",
       "  <thead>\n",
       "    <tr style=\"text-align: right;\">\n",
       "      <th></th>\n",
       "      <th>0</th>\n",
       "      <th>1</th>\n",
       "    </tr>\n",
       "  </thead>\n",
       "  <tbody>\n",
       "    <tr>\n",
       "      <th>4990</th>\n",
       "      <td>▁내돈</td>\n",
       "      <td>-10.37220</td>\n",
       "    </tr>\n",
       "    <tr>\n",
       "      <th>804</th>\n",
       "      <td>주는</td>\n",
       "      <td>-8.48959</td>\n",
       "    </tr>\n",
       "    <tr>\n",
       "      <th>4272</th>\n",
       "      <td>▁중요</td>\n",
       "      <td>-10.18050</td>\n",
       "    </tr>\n",
       "    <tr>\n",
       "      <th>2737</th>\n",
       "      <td>▁나왔으면</td>\n",
       "      <td>-9.69707</td>\n",
       "    </tr>\n",
       "    <tr>\n",
       "      <th>1334</th>\n",
       "      <td>▁각본</td>\n",
       "      <td>-8.99166</td>\n",
       "    </tr>\n",
       "    <tr>\n",
       "      <th>4604</th>\n",
       "      <td>▁욕망</td>\n",
       "      <td>-10.26780</td>\n",
       "    </tr>\n",
       "    <tr>\n",
       "      <th>1047</th>\n",
       "      <td>▁갈수록</td>\n",
       "      <td>-8.74936</td>\n",
       "    </tr>\n",
       "    <tr>\n",
       "      <th>6909</th>\n",
       "      <td>▁허탈</td>\n",
       "      <td>-10.93950</td>\n",
       "    </tr>\n",
       "    <tr>\n",
       "      <th>1048</th>\n",
       "      <td>땜에</td>\n",
       "      <td>-8.75024</td>\n",
       "    </tr>\n",
       "    <tr>\n",
       "      <th>7832</th>\n",
       "      <td>룽</td>\n",
       "      <td>-12.82920</td>\n",
       "    </tr>\n",
       "  </tbody>\n",
       "</table>\n",
       "</div>"
      ],
      "text/plain": [
       "          0         1\n",
       "4990    ▁내돈 -10.37220\n",
       "804      주는  -8.48959\n",
       "4272    ▁중요 -10.18050\n",
       "2737  ▁나왔으면  -9.69707\n",
       "1334    ▁각본  -8.99166\n",
       "4604    ▁욕망 -10.26780\n",
       "1047   ▁갈수록  -8.74936\n",
       "6909    ▁허탈 -10.93950\n",
       "1048     땜에  -8.75024\n",
       "7832      룽 -12.82920"
      ]
     },
     "execution_count": 32,
     "metadata": {},
     "output_type": "execute_result"
    }
   ],
   "source": [
    "print('subword의 개수 :', len(vocab_list))\n",
    "vocab_list.sample(10)"
   ]
  },
  {
   "cell_type": "code",
   "execution_count": 33,
   "id": "compliant-structure",
   "metadata": {},
   "outputs": [],
   "source": [
    "def test_performance(model):\n",
    "    s = spm.SentencePieceProcessor()\n",
    "    s.Load(model)\n",
    "\n",
    "    # SentencePiece를 활용한 sentence -> encoding\n",
    "    tokensIDs = s.EncodeAsIds('아버지가방에들어가신다.')\n",
    "    print(tokensIDs)\n",
    "\n",
    "    # SentencePiece를 활용한 sentence -> encoded pieces\n",
    "    print(s.SampleEncodeAsPieces('아버지가방에들어가신다.',1, 0.0))\n",
    "\n",
    "    # SentencePiece를 활용한 encoding -> sentence 복원\n",
    "    print(s.DecodeIds(tokensIDs))"
   ]
  },
  {
   "cell_type": "code",
   "execution_count": 34,
   "id": "catholic-hollywood",
   "metadata": {},
   "outputs": [
    {
     "name": "stdout",
     "output_type": "stream",
     "text": [
      "kor_spm_unigram_8k\n",
      "[1653, 10, 463, 16, 1384, 10, 148, 15, 4]\n",
      "['▁아버지', '가', '방', '에', '들어', '가', '신', '다', '.']\n",
      "아버지가방에들어가신다.\n",
      "kor_spm_bpe_8k\n",
      "[6043, 990, 6533, 6257, 1506, 6252, 6360, 6246, 6244]\n",
      "['▁아버', '지가', '방', '에', '들어', '가', '신', '다', '.']\n",
      "아버지가방에들어가신다.\n",
      "kor_spm_bpe_16k\n",
      "[9096, 12780, 1506, 14252, 11430, 14244]\n",
      "['▁아버지가', '방에', '들어', '가', '신다', '.']\n",
      "아버지가방에들어가신다.\n"
     ]
    }
   ],
   "source": [
    "print('kor_spm_unigram_8k')\n",
    "test_performance(model='kor_spm_unigram_8k.model')\n",
    "\n",
    "# # unigram은 오류가 나서 학습이 되지 않았다. \n",
    "# print('kor_spm_unigram_4k')\n",
    "# test_performance(model='kor_spm_unigram_4k.model')\n",
    "\n",
    "print('kor_spm_bpe_8k')\n",
    "test_performance(model='kor_spm_bpe_8k.model')\n",
    "\n",
    "print('kor_spm_bpe_16k')\n",
    "test_performance(model='kor_spm_bpe_16k.model')"
   ]
  },
  {
   "cell_type": "markdown",
   "id": "binary-internet",
   "metadata": {},
   "source": [
    "## Step 3. Tokenizer 함수 작성\n"
   ]
  },
  {
   "cell_type": "code",
   "execution_count": 35,
   "id": "billion-bridges",
   "metadata": {},
   "outputs": [],
   "source": [
    "def sp_tokenize(s, corpus, spm):\n",
    "\n",
    "    tensor = []\n",
    "\n",
    "    for sen in corpus:\n",
    "        tensor.append(s.EncodeAsIds(sen))\n",
    "\n",
    "    with open(\"./{}.vocab\".format(spm), 'r') as f: \n",
    "        vocab = f.readlines()\n",
    "\n",
    "    word_index = {}\n",
    "    index_word = {}\n",
    "\n",
    "    for idx, line in enumerate(vocab):\n",
    "        word = line.split(\"\\t\")[0]\n",
    "\n",
    "        word_index.update({idx:word})\n",
    "        index_word.update({word:idx})\n",
    "\n",
    "    tensor = tf.keras.preprocessing.sequence.pad_sequences(tensor, padding='pre', maxlen=max_len)\n",
    "\n",
    "    return tensor, word_index, index_word\n"
   ]
  },
  {
   "cell_type": "code",
   "execution_count": 36,
   "id": "ready-construction",
   "metadata": {},
   "outputs": [
    {
     "name": "stdout",
     "output_type": "stream",
     "text": [
      "[[   0    0    0    0    0    0    0    0    0    0    0    0    0    0\n",
      "     0    0    0    0    0    0    0    0    0    0    0    0    0    0\n",
      "     0    0    0    0    0    0    0    0    0    0    0    0    0    0\n",
      "     0    0    0    0    0    0    0    0    0    0    0    0  514 3260\n",
      "    14 1105 2630    4]\n",
      " [   0    0    0    0    0    0    0    0    0    0    0    0    0    0\n",
      "     0    0    0    0    0    0    0    0    0    0    0    0    0    0\n",
      "     0    0    0    0    0    0    0    0    0    0    0    0    0    0\n",
      "     0    0    0    0    0    0    0    0 1587 2166  227  541   10    3\n",
      "    17 7923  751    8]]\n"
     ]
    }
   ],
   "source": [
    "# sp_tokenize(s, corpus) 사용 예제\n",
    "\n",
    "s = spm.SentencePieceProcessor()\n",
    "# s.Load('kor_spm_bpe_16k.model')  # lstm 학습시 오류\n",
    "\n",
    "s.Load('kor_spm_unigram_8k.model') \n",
    "\n",
    "my_corpus = ['나는 밥을 먹었습니다.', '그러나 여전히 ㅠㅠ 배가 고픕니다...']\n",
    "tensor, word_index, index_word = sp_tokenize(s, my_corpus, 'kor_spm_unigram_8k')           \n",
    "print(tensor)\n",
    "# print(word_index)\n",
    "# print(index_word)"
   ]
  },
  {
   "cell_type": "markdown",
   "id": "indoor-improvement",
   "metadata": {},
   "source": [
    "## Step 4. 네이버 영화리뷰 감정 분석 문제에 SentencePiece 적용해 보기\n"
   ]
  },
  {
   "cell_type": "code",
   "execution_count": 27,
   "id": "incorporate-quick",
   "metadata": {},
   "outputs": [
    {
     "name": "stdout",
     "output_type": "stream",
     "text": [
      "Data Size: 94123\n",
      "Example:\n",
      ">> 개인용 컴퓨터 사용의 상당 부분은 \"이것보다 뛰어날 수 있느냐?\"\n",
      ">> 북한의 핵무기 계획을 포기하도록 하려는 압력이 거세지고 있는 가운데, 일본과 북한의 외교관들이 외교 관계를 정상화하려는 회담을 재개했다.\n",
      ">> \"경호 로보트가 침입자나 화재를 탐지하기 위해서 개인적으로, 그리고 전문적으로 사용되고 있습니다.\"\n",
      ">> 수자원부 당국은 논란이 되고 있고, 막대한 비용이 드는 이 사업에 대해 내년에 건설을 시작할 계획이다.\n",
      ">> 또한 근력 운동은 활발하게 걷는 것이나 최소한 20분 동안 뛰는 것과 같은 유산소 활동에서 얻는 운동 효과를 심장과 폐에 주지 않기 때문에, 연구학자들은 근력 운동이 심장에 큰 영향을 미치는지 여부에 대해 논쟁을 해왔다.\n"
     ]
    }
   ],
   "source": [
    "path_to_file = os.getenv('HOME')+'/aiffel/sp_tokenizer/data/korean-english-park.train.ko'\n",
    "\n",
    "with open(path_to_file, \"r\") as f:\n",
    "    raw = f.read().splitlines()\n",
    "\n",
    "print(\"Data Size:\", len(raw))\n",
    "\n",
    "print(\"Example:\")\n",
    "for sen in raw[0:100][::20]: print(\">>\", sen)"
   ]
  },
  {
   "cell_type": "code",
   "execution_count": 28,
   "id": "hollow-consequence",
   "metadata": {},
   "outputs": [
    {
     "name": "stdout",
     "output_type": "stream",
     "text": [
      "문장의 최단 길이: 1\n",
      "문장의 최장 길이: 377\n",
      "문장의 평균 길이: 60\n"
     ]
    },
    {
     "data": {
      "image/png": "[encoded data removed]",
      "text/plain": [
       "<Figure size 432x288 with 1 Axes>"
      ]
     },
     "metadata": {
      "needs_background": "light"
     },
     "output_type": "display_data"
    }
   ],
   "source": [
    "min_len = 999\n",
    "max_len = 0\n",
    "sum_len = 0\n",
    "\n",
    "for sen in raw:\n",
    "    length = len(sen)\n",
    "    if min_len > length: min_len = length\n",
    "    if max_len < length: max_len = length\n",
    "    sum_len += length\n",
    "\n",
    "print(\"문장의 최단 길이:\", min_len)\n",
    "print(\"문장의 최장 길이:\", max_len)\n",
    "print(\"문장의 평균 길이:\", sum_len // len(raw))\n",
    "\n",
    "sentence_length = np.zeros((max_len), dtype=np.int)\n",
    "\n",
    "for sen in raw:\n",
    "    sentence_length[len(sen)-1] += 1\n",
    "\n",
    "plt.bar(range(max_len), sentence_length, width=1.0)\n",
    "plt.title(\"Sentence Length Distribution\")\n",
    "plt.show()"
   ]
  },
  {
   "cell_type": "code",
   "execution_count": 29,
   "id": "creative-cooling",
   "metadata": {},
   "outputs": [
    {
     "name": "stdout",
     "output_type": "stream",
     "text": [
      "’\n"
     ]
    }
   ],
   "source": [
    "def check_sentence_with_length(raw, length):\n",
    "    count = 0\n",
    "    \n",
    "    for sen in raw:\n",
    "        if len(sen) == length:\n",
    "            print(sen)\n",
    "            count += 1\n",
    "            if count > 100: return\n",
    "\n",
    "check_sentence_with_length(raw, 1)"
   ]
  },
  {
   "cell_type": "code",
   "execution_count": 30,
   "id": "caroline-relief",
   "metadata": {},
   "outputs": [
    {
     "name": "stdout",
     "output_type": "stream",
     "text": [
      "Outlier Index: 11\n",
      "Outlier Index: 19\n",
      "Outlier Index: 21\n"
     ]
    }
   ],
   "source": [
    "for idx, _sum in enumerate(sentence_length):\n",
    "    # 문장의 수가 1500을 초과하는 문장 길이를 추출합니다.\n",
    "    if _sum > 1500:\n",
    "        print(\"Outlier Index:\", idx+1)"
   ]
  },
  {
   "cell_type": "code",
   "execution_count": 31,
   "id": "level-production",
   "metadata": {},
   "outputs": [
    {
     "name": "stdout",
     "output_type": "stream",
     "text": [
      "라고 조던이 말했다.\n",
      "- 모르고 있습니다.\n",
      "- 네, 보이는군요.\n",
      "디즈니사만이 아니다.\n",
      "큰 파티는 아니지요.\n",
      "의자는 비어 있었다.\n",
      "이 일은 계속됩니다.\n",
      "나는 크게 실망했다.\n",
      "그 이유는 간단하다.\n",
      "이력서와 자기 소개서\n",
      "시대가 변하고 있다.\n",
      "는 돌발질문을 했다.\n",
      "9. 몇 분간의 명상\n",
      "하와이, 빅 아일랜드\n",
      "키스를 잘 하는 방법\n",
      "키스를 잘 하는 방법\n",
      "스피어스가 뚱뚱한가?\n",
      "산 위를 나는 느낌.\n",
      "세 시간쯤 걸었을까?\n",
      "(아직 읽고있습니까?\n",
      "처음에는 장난이었다.\n",
      "우리는 운이 좋았다.\n",
      "아기가 숨을 멈출 때\n",
      "건물 전체 무너져내려\n",
      "그녀의 아름다운 눈.\n",
      "대답은 다음과 같다.\n",
      "\"사과할 것이 없다.\n",
      "폭탄테러가 공포 유발\n",
      "그는 \"잘 모르겠다.\n",
      "그는 \"잘 모르겠다.\n",
      "그는 \"잘 모르겠다.\n",
      "그는 \"잘 모르겠다.\n",
      "그는 \"잘 모르겠다.\n",
      "그는 \"잘 모르겠다.\n",
      "그는 \"잘 모르겠다.\n",
      "그는 \"잘 모르겠다.\n",
      "그는 \"잘 모르겠다.\n",
      "케냐 야생동물 고아원\n",
      "경유 1200원대로…\n",
      "더 내려야 하는 이유\n",
      "케냐 야생동물 고아원\n",
      "경유 1200원대로…\n",
      "더 내려야 하는 이유\n",
      "케냐 야생동물 고아원\n",
      "경유 1200원대로…\n",
      "더 내려야 하는 이유\n",
      "케냐 야생동물 고아원\n",
      "경유 1200원대로…\n",
      "더 내려야 하는 이유\n",
      "케냐 야생동물 고아원\n",
      "경유 1200원대로…\n",
      "더 내려야 하는 이유\n",
      "케냐 야생동물 고아원\n",
      "경유 1200원대로…\n",
      "더 내려야 하는 이유\n",
      "케냐 야생동물 고아원\n",
      "경유 1200원대로…\n",
      "더 내려야 하는 이유\n",
      "케냐 야생동물 고아원\n",
      "경유 1200원대로…\n",
      "더 내려야 하는 이유\n",
      "케냐 야생동물 고아원\n",
      "경유 1200원대로…\n",
      "더 내려야 하는 이유\n",
      "케냐 야생동물 고아원\n",
      "경유 1200원대로…\n",
      "더 내려야 하는 이유\n",
      "케냐 야생동물 고아원\n",
      "경유 1200원대로…\n",
      "더 내려야 하는 이유\n",
      "케냐 야생동물 고아원\n",
      "경유 1200원대로…\n",
      "더 내려야 하는 이유\n",
      "케냐 야생동물 고아원\n",
      "경유 1200원대로…\n",
      "더 내려야 하는 이유\n",
      "케냐 야생동물 고아원\n",
      "경유 1200원대로…\n",
      "더 내려야 하는 이유\n",
      "케냐 야생동물 고아원\n",
      "경유 1200원대로…\n",
      "더 내려야 하는 이유\n",
      "케냐 야생동물 고아원\n",
      "경유 1200원대로…\n",
      "더 내려야 하는 이유\n",
      "케냐 야생동물 고아원\n",
      "경유 1200원대로…\n",
      "더 내려야 하는 이유\n",
      "케냐 야생동물 고아원\n",
      "경유 1200원대로…\n",
      "더 내려야 하는 이유\n",
      "케냐 야생동물 고아원\n",
      "경유 1200원대로…\n",
      "더 내려야 하는 이유\n",
      "케냐 야생동물 고아원\n",
      "경유 1200원대로…\n",
      "더 내려야 하는 이유\n",
      "조금은 새침한 샬롯？\n",
      "조금은 새침한 샬롯？\n",
      "케냐 야생동물 고아원\n",
      "경유 1200원대로…\n"
     ]
    }
   ],
   "source": [
    "check_sentence_with_length(raw, 11)"
   ]
  },
  {
   "cell_type": "code",
   "execution_count": 32,
   "id": "dense-dining",
   "metadata": {},
   "outputs": [
    {
     "name": "stdout",
     "output_type": "stream",
     "text": [
      "Data Size: 77591\n",
      "문장의 최단 길이: 1\n",
      "문장의 최장 길이: 377\n",
      "문장의 평균 길이: 64\n"
     ]
    },
    {
     "data": {
      "image/png": "[encoded data removed]",
      "text/plain": [
       "<Figure size 432x288 with 1 Axes>"
      ]
     },
     "metadata": {
      "needs_background": "light"
     },
     "output_type": "display_data"
    }
   ],
   "source": [
    "min_len = 999\n",
    "max_len = 0\n",
    "sum_len = 0\n",
    "\n",
    "cleaned_corpus = list(set(raw))  # set를 사용해서 중복을 제거합니다.\n",
    "print(\"Data Size:\", len(cleaned_corpus))\n",
    "\n",
    "for sen in cleaned_corpus:\n",
    "    length = len(sen)\n",
    "    if min_len > length: min_len = length\n",
    "    if max_len < length: max_len = length\n",
    "    sum_len += length\n",
    "\n",
    "print(\"문장의 최단 길이:\", min_len)\n",
    "print(\"문장의 최장 길이:\", max_len)\n",
    "print(\"문장의 평균 길이:\", sum_len // len(cleaned_corpus))\n",
    "\n",
    "sentence_length = np.zeros((max_len), dtype=np.int)\n",
    "\n",
    "for sen in cleaned_corpus:   # 중복이 제거된 코퍼스 기준\n",
    "    sentence_length[len(sen)-1] += 1\n",
    "\n",
    "plt.bar(range(max_len), sentence_length, width=1.0)\n",
    "plt.title(\"Sentence Length Distribution\")\n",
    "plt.show()"
   ]
  },
  {
   "cell_type": "code",
   "execution_count": 33,
   "id": "going-edgar",
   "metadata": {},
   "outputs": [
    {
     "data": {
      "image/png": "[encoded data removed]",
      "text/plain": [
       "<Figure size 432x288 with 1 Axes>"
      ]
     },
     "metadata": {
      "needs_background": "light"
     },
     "output_type": "display_data"
    }
   ],
   "source": [
    "max_len = 150\n",
    "min_len = 10\n",
    "\n",
    "# 길이 조건에 맞는 문장만 선택합니다.\n",
    "filtered_corpus = [s for s in cleaned_corpus if (len(s) < max_len) & (len(s) >= min_len)]\n",
    "\n",
    "# 분포도를 다시 그려봅니다.\n",
    "sentence_length = np.zeros((max_len), dtype=np.int)\n",
    "\n",
    "for sen in filtered_corpus:\n",
    "    sentence_length[len(sen)-1] += 1\n",
    "\n",
    "plt.bar(range(max_len), sentence_length, width=1.0)\n",
    "plt.title(\"Sentence Length Distribution\")\n",
    "plt.show()"
   ]
  },
  {
   "cell_type": "code",
   "execution_count": 34,
   "id": "loaded-magnet",
   "metadata": {},
   "outputs": [],
   "source": [
    "def tokenize(corpus):  # corpus: Tokenized Sentence's List\n",
    "    tokenizer = tf.keras.preprocessing.text.Tokenizer(filters='')\n",
    "    tokenizer.fit_on_texts(corpus)\n",
    "\n",
    "    tensor = tokenizer.texts_to_sequences(corpus)\n",
    "\n",
    "    tensor = tf.keras.preprocessing.sequence.pad_sequences(tensor, padding='post')\n",
    "\n",
    "    return tensor, tokenizer"
   ]
  },
  {
   "cell_type": "code",
   "execution_count": 35,
   "id": "suitable-fabric",
   "metadata": {},
   "outputs": [],
   "source": [
    "split_corpus = []\n",
    "\n",
    "for kor in filtered_corpus:\n",
    "    split_corpus.append(kor.split())"
   ]
  },
  {
   "cell_type": "code",
   "execution_count": 36,
   "id": "honest-frequency",
   "metadata": {},
   "outputs": [
    {
     "data": {
      "text/plain": [
       "[['동물보호관리소는', '결국', '공작새를', '안락사시켰다.'],\n",
       " ['일명',\n",
       "  '‘프로젝트',\n",
       "  '10^100’이라는',\n",
       "  '이번',\n",
       "  '공모전의',\n",
       "  '아이디어',\n",
       "  '제출',\n",
       "  '마감일은',\n",
       "  '20일(현지시간)이었다.'],\n",
       " ['2011년', '개인', '우주여행에는', '2좌석이', '마련될', '것이다.'],\n",
       " ['중국',\n",
       "  '수자원부',\n",
       "  '관계자는',\n",
       "  '이날',\n",
       "  '기자회견에서',\n",
       "  '쓰촨성에',\n",
       "  '있는',\n",
       "  '댐',\n",
       "  '69개가',\n",
       "  '붕괴위험에',\n",
       "  '처했다고',\n",
       "  '밝혔다.'],\n",
       " ['이',\n",
       "  '웹사이트의',\n",
       "  '제작자인',\n",
       "  '랜들',\n",
       "  '잭슨은',\n",
       "  '“우리가',\n",
       "  '실제',\n",
       "  '원하는',\n",
       "  '것은',\n",
       "  '사람들에게',\n",
       "  '본문에만',\n",
       "  '너무',\n",
       "  '의지하지',\n",
       "  '않고',\n",
       "  '시각적',\n",
       "  '프리젠테이션을',\n",
       "  '제공해주고',\n",
       "  '더불어',\n",
       "  '지구에',\n",
       "  '어떤',\n",
       "  '변화가',\n",
       "  '일어나는지',\n",
       "  '몰두할',\n",
       "  '수',\n",
       "  '있는',\n",
       "  '경업을',\n",
       "  '주면서',\n",
       "  '고화질의',\n",
       "  '지침을',\n",
       "  '전달하는',\n",
       "  '것”이라고',\n",
       "  '밝혔다.']]"
      ]
     },
     "execution_count": 36,
     "metadata": {},
     "output_type": "execute_result"
    }
   ],
   "source": [
    "split_corpus[:5]"
   ]
  },
  {
   "cell_type": "code",
   "execution_count": 37,
   "id": "grand-daniel",
   "metadata": {},
   "outputs": [
    {
     "name": "stdout",
     "output_type": "stream",
     "text": [
      "Split Vocab Size: 237435\n"
     ]
    }
   ],
   "source": [
    "split_tensor, split_tokenizer = tokenize(split_corpus)\n",
    "\n",
    "print(\"Split Vocab Size:\", len(split_tokenizer.index_word))"
   ]
  },
  {
   "cell_type": "code",
   "execution_count": 38,
   "id": "standard-movie",
   "metadata": {},
   "outputs": [
    {
     "name": "stdout",
     "output_type": "stream",
     "text": [
      "0 : 이\n",
      "1 : 밝혔다.\n",
      "2 : 있다.\n",
      "3 : 말했다.\n",
      "4 : 수\n",
      "5 : 있는\n",
      "6 : 그는\n",
      "7 : 대한\n",
      "8 : 위해\n",
      "9 : 전했다.\n",
      "10 : 지난\n",
      "11 : 이번\n"
     ]
    }
   ],
   "source": [
    "for idx, word in enumerate(split_tokenizer.word_index):\n",
    "    print(idx, \":\", word)\n",
    "\n",
    "    if idx > 10: break"
   ]
  },
  {
   "cell_type": "code",
   "execution_count": 39,
   "id": "alike-captain",
   "metadata": {},
   "outputs": [
    {
     "ename": "NameError",
     "evalue": "name 'mecab' is not defined",
     "output_type": "error",
     "traceback": [
      "\u001b[0;31m---------------------------------------------------------------------------\u001b[0m",
      "\u001b[0;31mNameError\u001b[0m                                 Traceback (most recent call last)",
      "\u001b[0;32m<ipython-input-39-7d0d7d0d49b1>\u001b[0m in \u001b[0;36m<module>\u001b[0;34m\u001b[0m\n\u001b[1;32m      7\u001b[0m \u001b[0;34m\u001b[0m\u001b[0m\n\u001b[1;32m      8\u001b[0m \u001b[0;32mfor\u001b[0m \u001b[0mkor\u001b[0m \u001b[0;32min\u001b[0m \u001b[0mfiltered_corpus\u001b[0m\u001b[0;34m:\u001b[0m\u001b[0;34m\u001b[0m\u001b[0;34m\u001b[0m\u001b[0m\n\u001b[0;32m----> 9\u001b[0;31m     \u001b[0mmecab_corpus\u001b[0m\u001b[0;34m.\u001b[0m\u001b[0mappend\u001b[0m\u001b[0;34m(\u001b[0m\u001b[0mmecab_split\u001b[0m\u001b[0;34m(\u001b[0m\u001b[0mkor\u001b[0m\u001b[0;34m)\u001b[0m\u001b[0;34m)\u001b[0m\u001b[0;34m\u001b[0m\u001b[0;34m\u001b[0m\u001b[0m\n\u001b[0m",
      "\u001b[0;32m<ipython-input-39-7d0d7d0d49b1>\u001b[0m in \u001b[0;36mmecab_split\u001b[0;34m(sentence)\u001b[0m\n\u001b[1;32m      2\u001b[0m \u001b[0;31m# Hint : mecab.morphs()를 사용해서 형태소분석을 합니다.\u001b[0m\u001b[0;34m\u001b[0m\u001b[0;34m\u001b[0m\u001b[0;34m\u001b[0m\u001b[0m\n\u001b[1;32m      3\u001b[0m \u001b[0;32mdef\u001b[0m \u001b[0mmecab_split\u001b[0m\u001b[0;34m(\u001b[0m\u001b[0msentence\u001b[0m\u001b[0;34m)\u001b[0m\u001b[0;34m:\u001b[0m\u001b[0;34m\u001b[0m\u001b[0;34m\u001b[0m\u001b[0m\n\u001b[0;32m----> 4\u001b[0;31m     \u001b[0;32mreturn\u001b[0m \u001b[0mmecab\u001b[0m\u001b[0;34m.\u001b[0m\u001b[0mmorphs\u001b[0m\u001b[0;34m(\u001b[0m\u001b[0msentence\u001b[0m\u001b[0;34m)\u001b[0m\u001b[0;34m\u001b[0m\u001b[0;34m\u001b[0m\u001b[0m\n\u001b[0m\u001b[1;32m      5\u001b[0m \u001b[0;34m\u001b[0m\u001b[0m\n\u001b[1;32m      6\u001b[0m \u001b[0mmecab_corpus\u001b[0m \u001b[0;34m=\u001b[0m \u001b[0;34m[\u001b[0m\u001b[0;34m]\u001b[0m\u001b[0;34m\u001b[0m\u001b[0;34m\u001b[0m\u001b[0m\n",
      "\u001b[0;31mNameError\u001b[0m: name 'mecab' is not defined"
     ]
    }
   ],
   "source": [
    "# 위에서 사용한 코드를 활용해 MeCab 단어 사전을 만들어보세요. \n",
    "# Hint : mecab.morphs()를 사용해서 형태소분석을 합니다.\n",
    "def mecab_split(sentence):\n",
    "    return mecab.morphs(sentence)\n",
    "\n",
    "mecab_corpus = []\n",
    "\n",
    "for kor in filtered_corpus:\n",
    "    mecab_corpus.append(mecab_split(kor))"
   ]
  },
  {
   "cell_type": "code",
   "execution_count": null,
   "id": "processed-bumper",
   "metadata": {},
   "outputs": [],
   "source": []
  },
  {
   "cell_type": "code",
   "execution_count": null,
   "id": "exclusive-barbados",
   "metadata": {},
   "outputs": [],
   "source": []
  }
 ],
 "metadata": {
  "kernelspec": {
   "display_name": "Python 3",
   "language": "python",
   "name": "python3"
  },
  "language_info": {
   "codemirror_mode": {
    "name": "ipython",
    "version": 3
   },
   "file_extension": ".py",
   "mimetype": "text/x-python",
   "name": "python",
   "nbconvert_exporter": "python",
   "pygments_lexer": "ipython3",
   "version": "3.7.9"
  }
 },
 "nbformat": 4,
 "nbformat_minor": 5
}
