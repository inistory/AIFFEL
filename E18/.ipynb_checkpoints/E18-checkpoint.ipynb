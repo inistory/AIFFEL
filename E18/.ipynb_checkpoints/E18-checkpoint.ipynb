{
 "cells": [
  {
   "cell_type": "markdown",
   "id": "foster-indication",
   "metadata": {},
   "source": [
    "# E18 다양한 OCR 모델 비교하기"
   ]
  },
  {
   "cell_type": "markdown",
   "id": "eight-tenant",
   "metadata": {},
   "source": [
    "## Step1. 검증용 데이터셋 준비"
   ]
  },
  {
   "cell_type": "markdown",
   "id": "enabling-assault",
   "metadata": {},
   "source": [
    "##  Step2. Google OCR API, keras-ocr, Tesseract로 테스트 진행"
   ]
  },
  {
   "cell_type": "markdown",
   "id": "conservative-scenario",
   "metadata": {},
   "source": [
    "##  Step3. 테스트 결과 정리"
   ]
  },
  {
   "cell_type": "markdown",
   "id": "interracial-primary",
   "metadata": {},
   "source": [
    "##  Step4. 결과 분석과 결론 제시"
   ]
  },
  {
   "cell_type": "markdown",
   "id": "absolute-hebrew",
   "metadata": {},
   "source": [
    "##  Step5. 회고\n",
    "- OCR을 활용하여 구현하려는 서비스의 기획\n",
    "- 모델 평가기준 세우기\n",
    "- 평가기준에 따라 충분한 분량의 테스트가 진행되고 그 결과정리"
   ]
  }
 ],
 "metadata": {
  "kernelspec": {
   "display_name": "Python 3",
   "language": "python",
   "name": "python3"
  },
  "language_info": {
   "codemirror_mode": {
    "name": "ipython",
    "version": 3
   },
   "file_extension": ".py",
   "mimetype": "text/x-python",
   "name": "python",
   "nbconvert_exporter": "python",
   "pygments_lexer": "ipython3",
   "version": "3.7.9"
  }
 },
 "nbformat": 4,
 "nbformat_minor": 5
}
