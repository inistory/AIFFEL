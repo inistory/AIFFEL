<<<<<<< HEAD
{"nbformat":4,"nbformat_minor":0,"metadata":{"colab":{"name":"E12.ipynb","provenance":[],"collapsed_sections":[],"mount_file_id":"1UmhOhOheg9uhMFF0v8mVZ_q0lXOiAId-","authorship_tag":"ABX9TyMDeCqTBFxF8W0+9L+2iEJ+"},"kernelspec":{"name":"python3","display_name":"Python 3"},"language_info":{"name":"python"}},"cells":[{"cell_type":"markdown","metadata":{"id":"1G4gyo26hlJG"},"source":["## Data Preprocess\n","### 2.1 Data Load"]},{"cell_type":"code","metadata":{"id":"1mPpZ4-onOx7","executionInfo":{"status":"ok","timestamp":1636679152980,"user_tz":-540,"elapsed":24,"user":{"displayName":"김정인","photoUrl":"https://lh3.googleusercontent.com/a-/AOh14Gh3vkUnAYiRh4RDdp2el8MRY_E4lyJNoUMMOFlFlA=s64","userId":"11915939704307778496"}}},"source":["import datetime as dt\n","from pathlib import Path\n","import os\n","\n","import numpy as np\n","import pandas as pd\n","import warnings\n","warnings.filterwarnings('ignore')"],"execution_count":2,"outputs":[]},{"cell_type":"code","metadata":{"colab":{"base_uri":"https://localhost:8080/","height":35},"id":"bDsXzK4smKTh","executionInfo":{"status":"ok","timestamp":1636679152981,"user_tz":-540,"elapsed":24,"user":{"displayName":"김정인","photoUrl":"https://lh3.googleusercontent.com/a-/AOh14Gh3vkUnAYiRh4RDdp2el8MRY_E4lyJNoUMMOFlFlA=s64","userId":"11915939704307778496"}},"outputId":"58aaee4b-6268-4a95-feed-f685056e1794"},"source":["data_path = '/content/drive/MyDrive/Github/AIFFEL/ data/yoochoose/data'\n","train_path = data_path +'/yoochoose-clicks.dat'\n","train_path"],"execution_count":3,"outputs":[{"output_type":"execute_result","data":{"application/vnd.google.colaboratory.intrinsic+json":{"type":"string"},"text/plain":["'/content/drive/MyDrive/Github/AIFFEL/ data/yoochoose/data/yoochoose-clicks.dat'"]},"metadata":{},"execution_count":3}]},{"cell_type":"code","metadata":{"id":"VpM1V4WjdbFO","executionInfo":{"status":"ok","timestamp":1636679152982,"user_tz":-540,"elapsed":22,"user":{"displayName":"김정인","photoUrl":"https://lh3.googleusercontent.com/a-/AOh14Gh3vkUnAYiRh4RDdp2el8MRY_E4lyJNoUMMOFlFlA=s64","userId":"11915939704307778496"}}},"source":["def load_data(data_path: Path, nrows=None):\n","    data = pd.read_csv(data_path, sep=',', header=None, usecols=[0, 1, 2],\n","                       parse_dates=[1], dtype={0: np.int32, 2: np.int32}, nrows=nrows)\n","    data.columns = ['SessionId', 'Time', 'ItemId']\n","    return data"],"execution_count":4,"outputs":[]},{"cell_type":"code","metadata":{"colab":{"base_uri":"https://localhost:8080/","height":417},"id":"hYoqPwmkd8v5","executionInfo":{"status":"ok","timestamp":1636679327790,"user_tz":-540,"elapsed":174829,"user":{"displayName":"김정인","photoUrl":"https://lh3.googleusercontent.com/a-/AOh14Gh3vkUnAYiRh4RDdp2el8MRY_E4lyJNoUMMOFlFlA=s64","userId":"11915939704307778496"}},"outputId":"ded7c4d7-e66e-40b7-dc51-2f7edf03cebf"},"source":["# 시간이 좀 걸릴 수 있습니다. 메모리도 10GB 가까이 소요될 수 있으니 메모리 상태에 주의해 주세요.  \n","\n","data = load_data(train_path, None)\n","data.sort_values(['SessionId', 'Time'], inplace=True)  # data를 id와 시간 순서로 정렬해줍니다.\n","data"],"execution_count":5,"outputs":[{"output_type":"execute_result","data":{"text/html":["<div>\n","<style scoped>\n","    .dataframe tbody tr th:only-of-type {\n","        vertical-align: middle;\n","    }\n","\n","    .dataframe tbody tr th {\n","        vertical-align: top;\n","    }\n","\n","    .dataframe thead th {\n","        text-align: right;\n","    }\n","</style>\n","<table border=\"1\" class=\"dataframe\">\n","  <thead>\n","    <tr style=\"text-align: right;\">\n","      <th></th>\n","      <th>SessionId</th>\n","      <th>Time</th>\n","      <th>ItemId</th>\n","    </tr>\n","  </thead>\n","  <tbody>\n","    <tr>\n","      <th>0</th>\n","      <td>1</td>\n","      <td>2014-04-07 10:51:09.277000+00:00</td>\n","      <td>214536502</td>\n","    </tr>\n","    <tr>\n","      <th>1</th>\n","      <td>1</td>\n","      <td>2014-04-07 10:54:09.868000+00:00</td>\n","      <td>214536500</td>\n","    </tr>\n","    <tr>\n","      <th>2</th>\n","      <td>1</td>\n","      <td>2014-04-07 10:54:46.998000+00:00</td>\n","      <td>214536506</td>\n","    </tr>\n","    <tr>\n","      <th>3</th>\n","      <td>1</td>\n","      <td>2014-04-07 10:57:00.306000+00:00</td>\n","      <td>214577561</td>\n","    </tr>\n","    <tr>\n","      <th>4</th>\n","      <td>2</td>\n","      <td>2014-04-07 13:56:37.614000+00:00</td>\n","      <td>214662742</td>\n","    </tr>\n","    <tr>\n","      <th>...</th>\n","      <td>...</td>\n","      <td>...</td>\n","      <td>...</td>\n","    </tr>\n","    <tr>\n","      <th>32230487</th>\n","      <td>11562158</td>\n","      <td>2014-09-26 04:50:29.172000+00:00</td>\n","      <td>214849132</td>\n","    </tr>\n","    <tr>\n","      <th>32230488</th>\n","      <td>11562158</td>\n","      <td>2014-09-26 04:52:21.900000+00:00</td>\n","      <td>214854774</td>\n","    </tr>\n","    <tr>\n","      <th>32230489</th>\n","      <td>11562158</td>\n","      <td>2014-09-26 05:16:32.904000+00:00</td>\n","      <td>214849132</td>\n","    </tr>\n","    <tr>\n","      <th>32230490</th>\n","      <td>11562159</td>\n","      <td>2014-09-26 19:16:28.897000+00:00</td>\n","      <td>214849132</td>\n","    </tr>\n","    <tr>\n","      <th>32230477</th>\n","      <td>11562161</td>\n","      <td>2014-09-26 20:45:42.791000+00:00</td>\n","      <td>214546022</td>\n","    </tr>\n","  </tbody>\n","</table>\n","<p>33003944 rows × 3 columns</p>\n","</div>"],"text/plain":["          SessionId                             Time     ItemId\n","0                 1 2014-04-07 10:51:09.277000+00:00  214536502\n","1                 1 2014-04-07 10:54:09.868000+00:00  214536500\n","2                 1 2014-04-07 10:54:46.998000+00:00  214536506\n","3                 1 2014-04-07 10:57:00.306000+00:00  214577561\n","4                 2 2014-04-07 13:56:37.614000+00:00  214662742\n","...             ...                              ...        ...\n","32230487   11562158 2014-09-26 04:50:29.172000+00:00  214849132\n","32230488   11562158 2014-09-26 04:52:21.900000+00:00  214854774\n","32230489   11562158 2014-09-26 05:16:32.904000+00:00  214849132\n","32230490   11562159 2014-09-26 19:16:28.897000+00:00  214849132\n","32230477   11562161 2014-09-26 20:45:42.791000+00:00  214546022\n","\n","[33003944 rows x 3 columns]"]},"metadata":{},"execution_count":5}]},{"cell_type":"code","metadata":{"colab":{"base_uri":"https://localhost:8080/"},"id":"pTjPxDEad_sy","executionInfo":{"status":"ok","timestamp":1636679328330,"user_tz":-540,"elapsed":545,"user":{"displayName":"김정인","photoUrl":"https://lh3.googleusercontent.com/a-/AOh14Gh3vkUnAYiRh4RDdp2el8MRY_E4lyJNoUMMOFlFlA=s64","userId":"11915939704307778496"}},"outputId":"9b945ae4-ce2d-4965-b768-e9617ef82702"},"source":["data['SessionId'].nunique(), data['ItemId'].nunique()"],"execution_count":6,"outputs":[{"output_type":"execute_result","data":{"text/plain":["(9249729, 52739)"]},"metadata":{},"execution_count":6}]},{"cell_type":"markdown","metadata":{"id":"PKYEwqXUhoLg"},"source":["### 2.2 Session Length"]},{"cell_type":"code","metadata":{"colab":{"base_uri":"https://localhost:8080/"},"id":"rsKUIAp_hOxF","executionInfo":{"status":"ok","timestamp":1636679330985,"user_tz":-540,"elapsed":2660,"user":{"displayName":"김정인","photoUrl":"https://lh3.googleusercontent.com/a-/AOh14Gh3vkUnAYiRh4RDdp2el8MRY_E4lyJNoUMMOFlFlA=s64","userId":"11915939704307778496"}},"outputId":"4b5bc3ab-a667-464d-bd0e-f98c02c04185"},"source":["session_length = data.groupby('SessionId').size()\n","session_length"],"execution_count":7,"outputs":[{"output_type":"execute_result","data":{"text/plain":["SessionId\n","1           4\n","2           6\n","3           3\n","4           2\n","6           2\n","           ..\n","11562156    2\n","11562157    2\n","11562158    3\n","11562159    1\n","11562161    1\n","Length: 9249729, dtype: int64"]},"metadata":{},"execution_count":7}]},{"cell_type":"markdown","metadata":{"id":"rKOz2ydwh5FH"},"source":["- 각 세션의 길이는 보통 2~3 정도"]},{"cell_type":"code","metadata":{"colab":{"base_uri":"https://localhost:8080/"},"id":"XLCN9HYphs8h","executionInfo":{"status":"ok","timestamp":1636679330986,"user_tz":-540,"elapsed":21,"user":{"displayName":"김정인","photoUrl":"https://lh3.googleusercontent.com/a-/AOh14Gh3vkUnAYiRh4RDdp2el8MRY_E4lyJNoUMMOFlFlA=s64","userId":"11915939704307778496"}},"outputId":"ce514c5d-71c9-4864-b4f9-575d0245ba70"},"source":["session_length.median(), session_length.mean()"],"execution_count":8,"outputs":[{"output_type":"execute_result","data":{"text/plain":["(2.0, 3.568098481587947)"]},"metadata":{},"execution_count":8}]},{"cell_type":"code","metadata":{"colab":{"base_uri":"https://localhost:8080/"},"id":"hyncXhLQhwb_","executionInfo":{"status":"ok","timestamp":1636679330987,"user_tz":-540,"elapsed":16,"user":{"displayName":"김정인","photoUrl":"https://lh3.googleusercontent.com/a-/AOh14Gh3vkUnAYiRh4RDdp2el8MRY_E4lyJNoUMMOFlFlA=s64","userId":"11915939704307778496"}},"outputId":"3818cb08-d15b-4024-fda6-ac9e77b58212"},"source":["session_length.min(), session_length.max()"],"execution_count":9,"outputs":[{"output_type":"execute_result","data":{"text/plain":["(1, 200)"]},"metadata":{},"execution_count":9}]},{"cell_type":"code","metadata":{"colab":{"base_uri":"https://localhost:8080/"},"id":"IqAvAPBzhwYa","executionInfo":{"status":"ok","timestamp":1636679330988,"user_tz":-540,"elapsed":15,"user":{"displayName":"김정인","photoUrl":"https://lh3.googleusercontent.com/a-/AOh14Gh3vkUnAYiRh4RDdp2el8MRY_E4lyJNoUMMOFlFlA=s64","userId":"11915939704307778496"}},"outputId":"33d63da0-8e38-45fa-ae93-b6fd9a25049c"},"source":["session_length.quantile(0.999)"],"execution_count":10,"outputs":[{"output_type":"execute_result","data":{"text/plain":["41.0"]},"metadata":{},"execution_count":10}]},{"cell_type":"markdown","metadata":{"id":"bDkJQt39h80_"},"source":["- 99.9% 세션은 길이가 41이하"]},{"cell_type":"markdown","metadata":{"id":"S8UldtafiB4t"},"source":["길이가 200인 세션은 뭔가 이상합니다.\n","하나를 잡고 살펴봅시다."]},{"cell_type":"code","metadata":{"colab":{"base_uri":"https://localhost:8080/","height":417},"id":"DkpzpTTshwVg","executionInfo":{"status":"ok","timestamp":1636679330989,"user_tz":-540,"elapsed":14,"user":{"displayName":"김정인","photoUrl":"https://lh3.googleusercontent.com/a-/AOh14Gh3vkUnAYiRh4RDdp2el8MRY_E4lyJNoUMMOFlFlA=s64","userId":"11915939704307778496"}},"outputId":"abc5fce8-0155-4c3d-a43b-c1bfbd48d7b9"},"source":["long_session = session_length[session_length==200].index[0]\n","data[data['SessionId']==long_session]"],"execution_count":11,"outputs":[{"output_type":"execute_result","data":{"text/html":["<div>\n","<style scoped>\n","    .dataframe tbody tr th:only-of-type {\n","        vertical-align: middle;\n","    }\n","\n","    .dataframe tbody tr th {\n","        vertical-align: top;\n","    }\n","\n","    .dataframe thead th {\n","        text-align: right;\n","    }\n","</style>\n","<table border=\"1\" class=\"dataframe\">\n","  <thead>\n","    <tr style=\"text-align: right;\">\n","      <th></th>\n","      <th>SessionId</th>\n","      <th>Time</th>\n","      <th>ItemId</th>\n","    </tr>\n","  </thead>\n","  <tbody>\n","    <tr>\n","      <th>580293</th>\n","      <td>189448</td>\n","      <td>2014-04-01 08:56:28.983000+00:00</td>\n","      <td>214830392</td>\n","    </tr>\n","    <tr>\n","      <th>580294</th>\n","      <td>189448</td>\n","      <td>2014-04-01 08:56:31.815000+00:00</td>\n","      <td>214830392</td>\n","    </tr>\n","    <tr>\n","      <th>580295</th>\n","      <td>189448</td>\n","      <td>2014-04-01 08:57:08.301000+00:00</td>\n","      <td>214830392</td>\n","    </tr>\n","    <tr>\n","      <th>580296</th>\n","      <td>189448</td>\n","      <td>2014-04-01 08:57:10.338000+00:00</td>\n","      <td>214830392</td>\n","    </tr>\n","    <tr>\n","      <th>580297</th>\n","      <td>189448</td>\n","      <td>2014-04-01 08:58:01.728000+00:00</td>\n","      <td>214830390</td>\n","    </tr>\n","    <tr>\n","      <th>...</th>\n","      <td>...</td>\n","      <td>...</td>\n","      <td>...</td>\n","    </tr>\n","    <tr>\n","      <th>580488</th>\n","      <td>189448</td>\n","      <td>2014-04-01 10:35:52.400000+00:00</td>\n","      <td>214830137</td>\n","    </tr>\n","    <tr>\n","      <th>580489</th>\n","      <td>189448</td>\n","      <td>2014-04-01 10:37:15.094000+00:00</td>\n","      <td>214830118</td>\n","    </tr>\n","    <tr>\n","      <th>580490</th>\n","      <td>189448</td>\n","      <td>2014-04-01 10:37:35.955000+00:00</td>\n","      <td>214830118</td>\n","    </tr>\n","    <tr>\n","      <th>580491</th>\n","      <td>189448</td>\n","      <td>2014-04-01 10:37:37.098000+00:00</td>\n","      <td>214830118</td>\n","    </tr>\n","    <tr>\n","      <th>580492</th>\n","      <td>189448</td>\n","      <td>2014-04-01 10:37:46.557000+00:00</td>\n","      <td>214830116</td>\n","    </tr>\n","  </tbody>\n","</table>\n","<p>200 rows × 3 columns</p>\n","</div>"],"text/plain":["        SessionId                             Time     ItemId\n","580293     189448 2014-04-01 08:56:28.983000+00:00  214830392\n","580294     189448 2014-04-01 08:56:31.815000+00:00  214830392\n","580295     189448 2014-04-01 08:57:08.301000+00:00  214830392\n","580296     189448 2014-04-01 08:57:10.338000+00:00  214830392\n","580297     189448 2014-04-01 08:58:01.728000+00:00  214830390\n","...           ...                              ...        ...\n","580488     189448 2014-04-01 10:35:52.400000+00:00  214830137\n","580489     189448 2014-04-01 10:37:15.094000+00:00  214830118\n","580490     189448 2014-04-01 10:37:35.955000+00:00  214830118\n","580491     189448 2014-04-01 10:37:37.098000+00:00  214830118\n","580492     189448 2014-04-01 10:37:46.557000+00:00  214830116\n","\n","[200 rows x 3 columns]"]},"metadata":{},"execution_count":11}]},{"cell_type":"markdown","metadata":{"id":"lhhGlh5-C1PZ"},"source":["세션길이 기준 하위 99.9%까지의 분포 누적합을 시각화"]},{"cell_type":"code","metadata":{"colab":{"base_uri":"https://localhost:8080/"},"id":"WiwiEIa7hwSp","executionInfo":{"status":"ok","timestamp":1636679331594,"user_tz":-540,"elapsed":617,"user":{"displayName":"김정인","photoUrl":"https://lh3.googleusercontent.com/a-/AOh14Gh3vkUnAYiRh4RDdp2el8MRY_E4lyJNoUMMOFlFlA=s64","userId":"11915939704307778496"}},"outputId":"0a49a70a-3b43-4fdd-86fe-0d2e2ad2d7ea"},"source":["length_count = session_length.groupby(session_length).size()\n","length_percent_cumsum = length_count.cumsum() / length_count.sum()\n","length_percent_cumsum_999 = length_percent_cumsum[length_percent_cumsum < 0.999]\n","\n","length_percent_cumsum_999"],"execution_count":12,"outputs":[{"output_type":"execute_result","data":{"text/plain":["1     0.136189\n","2     0.520858\n","3     0.695280\n","4     0.796461\n","5     0.855125\n","6     0.894389\n","7     0.920036\n","8     0.938321\n","9     0.951293\n","10    0.961084\n","11    0.968267\n","12    0.973959\n","13    0.978320\n","14    0.981815\n","15    0.984587\n","16    0.986837\n","17    0.988673\n","18    0.990201\n","19    0.991460\n","20    0.992520\n","21    0.993436\n","22    0.994207\n","23    0.994871\n","24    0.995444\n","25    0.995920\n","26    0.996342\n","27    0.996714\n","28    0.997042\n","29    0.997330\n","30    0.997577\n","31    0.997796\n","32    0.998001\n","33    0.998177\n","34    0.998327\n","35    0.998461\n","36    0.998590\n","37    0.998706\n","38    0.998805\n","39    0.998896\n","40    0.998981\n","dtype: float64"]},"metadata":{},"execution_count":12}]},{"cell_type":"code","metadata":{"colab":{"base_uri":"https://localhost:8080/","height":398},"id":"fd-oKAbIBs9P","executionInfo":{"status":"ok","timestamp":1636679332223,"user_tz":-540,"elapsed":635,"user":{"displayName":"김정인","photoUrl":"https://lh3.googleusercontent.com/a-/AOh14Gh3vkUnAYiRh4RDdp2el8MRY_E4lyJNoUMMOFlFlA=s64","userId":"11915939704307778496"}},"outputId":"1c5be38c-0737-454b-bafe-dcec009d9648"},"source":["import matplotlib.pyplot as plt\n","\n","plt.figure(figsize=(20, 10))\n","plt.bar(x=length_percent_cumsum_999.index,\n","        height=length_percent_cumsum_999, color='red')\n","plt.xticks(length_percent_cumsum_999.index)\n","plt.yticks(np.arange(0, 1.01, 0.05))\n","plt.title('Cumsum Percentage Until 0.999', size=20)\n","plt.show()"],"execution_count":13,"outputs":[{"output_type":"display_data","data":{"image/png":"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\n","text/plain":["<Figure size 1440x720 with 1 Axes>"]},"metadata":{"needs_background":"light"}}]},{"cell_type":"markdown","metadata":{"id":"V9-Qvsh1DPMc"},"source":["- 추천시스템 시간 관련 데이터 : 데이터 생성 날짜, 접속하는 시간대(오전,오후,새벽), 접속해있는 시간, 접속하는 요일, 계절, 마지막 접속 시간, 장바구니에 넣고 지난 시간"]},{"cell_type":"markdown","metadata":{"id":"y1t2vGpHEDOz"},"source":["### 2.3 Session Time"]},{"cell_type":"markdown","metadata":{"id":"4cZjr3j4DeaQ"},"source":["데이터 시간 관련 정보 확인"]},{"cell_type":"code","metadata":{"colab":{"base_uri":"https://localhost:8080/"},"id":"s7y7k1BnBvHc","executionInfo":{"status":"ok","timestamp":1636679332223,"user_tz":-540,"elapsed":15,"user":{"displayName":"김정인","photoUrl":"https://lh3.googleusercontent.com/a-/AOh14Gh3vkUnAYiRh4RDdp2el8MRY_E4lyJNoUMMOFlFlA=s64","userId":"11915939704307778496"}},"outputId":"d9d08f10-6c0a-488d-fc80-6d958e0ed16d"},"source":["oldest, latest = data['Time'].min(), data['Time'].max()\n","print(oldest) \n","print(latest)"],"execution_count":14,"outputs":[{"output_type":"stream","name":"stdout","text":["2014-04-01 03:00:00.124000+00:00\n","2014-09-30 02:59:59.430000+00:00\n"]}]},{"cell_type":"markdown","metadata":{"id":"P25el0I4Dk07"},"source":["- 6개월치 데이터 존재"]},{"cell_type":"code","metadata":{"colab":{"base_uri":"https://localhost:8080/"},"id":"t1ON6ZeaCDrX","executionInfo":{"status":"ok","timestamp":1636679332225,"user_tz":-540,"elapsed":11,"user":{"displayName":"김정인","photoUrl":"https://lh3.googleusercontent.com/a-/AOh14Gh3vkUnAYiRh4RDdp2el8MRY_E4lyJNoUMMOFlFlA=s64","userId":"11915939704307778496"}},"outputId":"011d7783-ede4-434d-8a76-817deca39423"},"source":["type(latest)"],"execution_count":15,"outputs":[{"output_type":"execute_result","data":{"text/plain":["pandas._libs.tslibs.timestamps.Timestamp"]},"metadata":{},"execution_count":15}]},{"cell_type":"code","metadata":{"colab":{"base_uri":"https://localhost:8080/","height":417},"id":"EnlfdqYFCF2N","executionInfo":{"status":"ok","timestamp":1636679332694,"user_tz":-540,"elapsed":478,"user":{"displayName":"김정인","photoUrl":"https://lh3.googleusercontent.com/a-/AOh14Gh3vkUnAYiRh4RDdp2el8MRY_E4lyJNoUMMOFlFlA=s64","userId":"11915939704307778496"}},"outputId":"b7d4d088-504f-40fc-caec-e7503c3c4fd1"},"source":["#날짜끼리 차이를 구할 때는 timedelta\n","month_ago = latest - dt.timedelta(30)     # 최종 날짜로부터 30일 이전 날짜를 구한다.(한달치데이터)\n","data = data[data['Time'] > month_ago]   # 방금 구한 날짜 이후의 데이터만 모은다. \n","data"],"execution_count":16,"outputs":[{"output_type":"execute_result","data":{"text/html":["<div>\n","<style scoped>\n","    .dataframe tbody tr th:only-of-type {\n","        vertical-align: middle;\n","    }\n","\n","    .dataframe tbody tr th {\n","        vertical-align: top;\n","    }\n","\n","    .dataframe thead th {\n","        text-align: right;\n","    }\n","</style>\n","<table border=\"1\" class=\"dataframe\">\n","  <thead>\n","    <tr style=\"text-align: right;\">\n","      <th></th>\n","      <th>SessionId</th>\n","      <th>Time</th>\n","      <th>ItemId</th>\n","    </tr>\n","  </thead>\n","  <tbody>\n","    <tr>\n","      <th>26837834</th>\n","      <td>9194111</td>\n","      <td>2014-08-31 17:40:46.805000+00:00</td>\n","      <td>214853420</td>\n","    </tr>\n","    <tr>\n","      <th>26837835</th>\n","      <td>9194111</td>\n","      <td>2014-08-31 17:42:26.089000+00:00</td>\n","      <td>214850942</td>\n","    </tr>\n","    <tr>\n","      <th>26837836</th>\n","      <td>9194111</td>\n","      <td>2014-08-31 17:44:06.583000+00:00</td>\n","      <td>214829878</td>\n","    </tr>\n","    <tr>\n","      <th>26837837</th>\n","      <td>9194111</td>\n","      <td>2014-08-31 17:48:49.873000+00:00</td>\n","      <td>214853420</td>\n","    </tr>\n","    <tr>\n","      <th>26838214</th>\n","      <td>9194112</td>\n","      <td>2014-09-01 13:26:36.292000+00:00</td>\n","      <td>214853422</td>\n","    </tr>\n","    <tr>\n","      <th>...</th>\n","      <td>...</td>\n","      <td>...</td>\n","      <td>...</td>\n","    </tr>\n","    <tr>\n","      <th>32230487</th>\n","      <td>11562158</td>\n","      <td>2014-09-26 04:50:29.172000+00:00</td>\n","      <td>214849132</td>\n","    </tr>\n","    <tr>\n","      <th>32230488</th>\n","      <td>11562158</td>\n","      <td>2014-09-26 04:52:21.900000+00:00</td>\n","      <td>214854774</td>\n","    </tr>\n","    <tr>\n","      <th>32230489</th>\n","      <td>11562158</td>\n","      <td>2014-09-26 05:16:32.904000+00:00</td>\n","      <td>214849132</td>\n","    </tr>\n","    <tr>\n","      <th>32230490</th>\n","      <td>11562159</td>\n","      <td>2014-09-26 19:16:28.897000+00:00</td>\n","      <td>214849132</td>\n","    </tr>\n","    <tr>\n","      <th>32230477</th>\n","      <td>11562161</td>\n","      <td>2014-09-26 20:45:42.791000+00:00</td>\n","      <td>214546022</td>\n","    </tr>\n","  </tbody>\n","</table>\n","<p>5641401 rows × 3 columns</p>\n","</div>"],"text/plain":["          SessionId                             Time     ItemId\n","26837834    9194111 2014-08-31 17:40:46.805000+00:00  214853420\n","26837835    9194111 2014-08-31 17:42:26.089000+00:00  214850942\n","26837836    9194111 2014-08-31 17:44:06.583000+00:00  214829878\n","26837837    9194111 2014-08-31 17:48:49.873000+00:00  214853420\n","26838214    9194112 2014-09-01 13:26:36.292000+00:00  214853422\n","...             ...                              ...        ...\n","32230487   11562158 2014-09-26 04:50:29.172000+00:00  214849132\n","32230488   11562158 2014-09-26 04:52:21.900000+00:00  214854774\n","32230489   11562158 2014-09-26 05:16:32.904000+00:00  214849132\n","32230490   11562159 2014-09-26 19:16:28.897000+00:00  214849132\n","32230477   11562161 2014-09-26 20:45:42.791000+00:00  214546022\n","\n","[5641401 rows x 3 columns]"]},"metadata":{},"execution_count":16}]},{"cell_type":"markdown","metadata":{"id":"OqqYK6kOD8ps"},"source":["### 2.4. Data Cleansing\n","\n","- 길이가 1인 세션 : 한 번 클릭\n","- 유저가 최소 1개 이상 클릭했을 때 다음 클릭을 예측하는 것이므로 길이가 1인 세션은 제거"]},{"cell_type":"code","metadata":{"id":"Cj8uRFs6CHwF","executionInfo":{"status":"ok","timestamp":1636679332695,"user_tz":-540,"elapsed":10,"user":{"displayName":"김정인","photoUrl":"https://lh3.googleusercontent.com/a-/AOh14Gh3vkUnAYiRh4RDdp2el8MRY_E4lyJNoUMMOFlFlA=s64","userId":"11915939704307778496"}}},"source":["# short_session을 제거한 다음 unpopular item을 제거하면 다시 길이가 1인 session이 생길 수 있습니다.\n","# 이를 위해 반복문을 통해 지속적으로 제거 합니다.\n","def cleanse_recursive(data: pd.DataFrame, shortest, least_click) -> pd.DataFrame:\n","    while True:\n","        before_len = len(data)\n","        data = cleanse_short_session(data, shortest)\n","        data = cleanse_unpopular_item(data, least_click)\n","        after_len = len(data)\n","        if before_len == after_len:\n","            break\n","    return data\n","\n","\n","def cleanse_short_session(data: pd.DataFrame, shortest):\n","    session_len = data.groupby('SessionId').size()\n","    session_use = session_len[session_len >= shortest].index\n","    data = data[data['SessionId'].isin(session_use)]\n","    return data\n","\n","\n","def cleanse_unpopular_item(data: pd.DataFrame, least_click):\n","    item_popular = data.groupby('ItemId').size()\n","    item_use = item_popular[item_popular >= least_click].index\n","    data = data[data['ItemId'].isin(item_use)]\n","    return data"],"execution_count":17,"outputs":[]},{"cell_type":"code","metadata":{"colab":{"base_uri":"https://localhost:8080/","height":417},"id":"3KHMwfJPEQxO","executionInfo":{"status":"ok","timestamp":1636679346047,"user_tz":-540,"elapsed":13362,"user":{"displayName":"김정인","photoUrl":"https://lh3.googleusercontent.com/a-/AOh14Gh3vkUnAYiRh4RDdp2el8MRY_E4lyJNoUMMOFlFlA=s64","userId":"11915939704307778496"}},"outputId":"a2134bbf-0256-43a8-c446-feb9a2cf65df"},"source":["data = cleanse_recursive(data, shortest=2, least_click=5)\n","data"],"execution_count":18,"outputs":[{"output_type":"execute_result","data":{"text/html":["<div>\n","<style scoped>\n","    .dataframe tbody tr th:only-of-type {\n","        vertical-align: middle;\n","    }\n","\n","    .dataframe tbody tr th {\n","        vertical-align: top;\n","    }\n","\n","    .dataframe thead th {\n","        text-align: right;\n","    }\n","</style>\n","<table border=\"1\" class=\"dataframe\">\n","  <thead>\n","    <tr style=\"text-align: right;\">\n","      <th></th>\n","      <th>SessionId</th>\n","      <th>Time</th>\n","      <th>ItemId</th>\n","    </tr>\n","  </thead>\n","  <tbody>\n","    <tr>\n","      <th>26837834</th>\n","      <td>9194111</td>\n","      <td>2014-08-31 17:40:46.805000+00:00</td>\n","      <td>214853420</td>\n","    </tr>\n","    <tr>\n","      <th>26837835</th>\n","      <td>9194111</td>\n","      <td>2014-08-31 17:42:26.089000+00:00</td>\n","      <td>214850942</td>\n","    </tr>\n","    <tr>\n","      <th>26837836</th>\n","      <td>9194111</td>\n","      <td>2014-08-31 17:44:06.583000+00:00</td>\n","      <td>214829878</td>\n","    </tr>\n","    <tr>\n","      <th>26837837</th>\n","      <td>9194111</td>\n","      <td>2014-08-31 17:48:49.873000+00:00</td>\n","      <td>214853420</td>\n","    </tr>\n","    <tr>\n","      <th>26838202</th>\n","      <td>9194123</td>\n","      <td>2014-08-31 19:26:57.386000+00:00</td>\n","      <td>214601207</td>\n","    </tr>\n","    <tr>\n","      <th>...</th>\n","      <td>...</td>\n","      <td>...</td>\n","      <td>...</td>\n","    </tr>\n","    <tr>\n","      <th>32230485</th>\n","      <td>11562157</td>\n","      <td>2014-09-25 12:31:10.391000+00:00</td>\n","      <td>214580372</td>\n","    </tr>\n","    <tr>\n","      <th>32230486</th>\n","      <td>11562157</td>\n","      <td>2014-09-25 12:31:29.679000+00:00</td>\n","      <td>214516012</td>\n","    </tr>\n","    <tr>\n","      <th>32230487</th>\n","      <td>11562158</td>\n","      <td>2014-09-26 04:50:29.172000+00:00</td>\n","      <td>214849132</td>\n","    </tr>\n","    <tr>\n","      <th>32230488</th>\n","      <td>11562158</td>\n","      <td>2014-09-26 04:52:21.900000+00:00</td>\n","      <td>214854774</td>\n","    </tr>\n","    <tr>\n","      <th>32230489</th>\n","      <td>11562158</td>\n","      <td>2014-09-26 05:16:32.904000+00:00</td>\n","      <td>214849132</td>\n","    </tr>\n","  </tbody>\n","</table>\n","<p>5254242 rows × 3 columns</p>\n","</div>"],"text/plain":["          SessionId                             Time     ItemId\n","26837834    9194111 2014-08-31 17:40:46.805000+00:00  214853420\n","26837835    9194111 2014-08-31 17:42:26.089000+00:00  214850942\n","26837836    9194111 2014-08-31 17:44:06.583000+00:00  214829878\n","26837837    9194111 2014-08-31 17:48:49.873000+00:00  214853420\n","26838202    9194123 2014-08-31 19:26:57.386000+00:00  214601207\n","...             ...                              ...        ...\n","32230485   11562157 2014-09-25 12:31:10.391000+00:00  214580372\n","32230486   11562157 2014-09-25 12:31:29.679000+00:00  214516012\n","32230487   11562158 2014-09-26 04:50:29.172000+00:00  214849132\n","32230488   11562158 2014-09-26 04:52:21.900000+00:00  214854774\n","32230489   11562158 2014-09-26 05:16:32.904000+00:00  214849132\n","\n","[5254242 rows x 3 columns]"]},"metadata":{},"execution_count":18}]},{"cell_type":"markdown","metadata":{"id":"LsXwdzm3EhqL"},"source":["### 2.5 Train/ Valid/ Test split"]},{"cell_type":"code","metadata":{"colab":{"base_uri":"https://localhost:8080/"},"id":"lhOFXl_wEhCk","executionInfo":{"status":"ok","timestamp":1636679377423,"user_tz":-540,"elapsed":31392,"user":{"displayName":"김정인","photoUrl":"https://lh3.googleusercontent.com/a-/AOh14Gh3vkUnAYiRh4RDdp2el8MRY_E4lyJNoUMMOFlFlA=s64","userId":"11915939704307778496"}},"outputId":"561e0b89-16bc-41ec-ddf2-95fc980dd819"},"source":["test_path = data_path + '/yoochoose-test.dat'\n","test= load_data(test_path)\n","test['Time'].min(), test['Time'].max()"],"execution_count":19,"outputs":[{"output_type":"execute_result","data":{"text/plain":["(Timestamp('2014-04-01 03:00:08.250000+0000', tz='UTC'),\n"," Timestamp('2014-09-30 02:59:23.866000+0000', tz='UTC'))"]},"metadata":{},"execution_count":19}]},{"cell_type":"markdown","metadata":{"id":"L6LMpyuIJESW"},"source":["마지막 1일 기간 동안을 Test로, 2일전부터 1일전 까지를 valid set으로 나누기\n","\n","![image.png](data:image/png;base64,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)"]},{"cell_type":"code","metadata":{"id":"dOM45hhUIqIZ","executionInfo":{"status":"ok","timestamp":1636679377424,"user_tz":-540,"elapsed":18,"user":{"displayName":"김정인","photoUrl":"https://lh3.googleusercontent.com/a-/AOh14Gh3vkUnAYiRh4RDdp2el8MRY_E4lyJNoUMMOFlFlA=s64","userId":"11915939704307778496"}}},"source":["def split_by_date(data: pd.DataFrame, n_days: int):\n","    final_time = data['Time'].max()\n","    session_last_time = data.groupby('SessionId')['Time'].max()\n","    session_in_train = session_last_time[session_last_time < final_time - dt.timedelta(n_days)].index\n","    session_in_test = session_last_time[session_last_time >= final_time - dt.timedelta(n_days)].index\n","\n","    before_date = data[data['SessionId'].isin(session_in_train)]\n","    after_date = data[data['SessionId'].isin(session_in_test)]\n","    after_date = after_date[after_date['ItemId'].isin(before_date['ItemId'])]\n","    return before_date, after_date"],"execution_count":20,"outputs":[]},{"cell_type":"code","metadata":{"id":"MELtsymZIq6f","executionInfo":{"status":"ok","timestamp":1636679380789,"user_tz":-540,"elapsed":3382,"user":{"displayName":"김정인","photoUrl":"https://lh3.googleusercontent.com/a-/AOh14Gh3vkUnAYiRh4RDdp2el8MRY_E4lyJNoUMMOFlFlA=s64","userId":"11915939704307778496"}}},"source":["tr, test = split_by_date(data, n_days=1)\n","tr, val = split_by_date(tr, n_days=1)"],"execution_count":21,"outputs":[]},{"cell_type":"code","metadata":{"id":"Tq7PNZsqItoK","executionInfo":{"status":"ok","timestamp":1636679380790,"user_tz":-540,"elapsed":17,"user":{"displayName":"김정인","photoUrl":"https://lh3.googleusercontent.com/a-/AOh14Gh3vkUnAYiRh4RDdp2el8MRY_E4lyJNoUMMOFlFlA=s64","userId":"11915939704307778496"}}},"source":["# data에 대한 정보를 살펴봅니다.\n","def stats_info(data: pd.DataFrame, status: str):\n","    print(f'* {status} Set Stats Info\\n'\n","          f'\\t Events: {len(data)}\\n'\n","          f'\\t Sessions: {data[\"SessionId\"].nunique()}\\n'\n","          f'\\t Items: {data[\"ItemId\"].nunique()}\\n'\n","          f'\\t First Time : {data[\"Time\"].min()}\\n'\n","          f'\\t Last Time : {data[\"Time\"].max()}\\n')"],"execution_count":22,"outputs":[]},{"cell_type":"code","metadata":{"colab":{"base_uri":"https://localhost:8080/"},"id":"J7UMf63YIwW_","executionInfo":{"status":"ok","timestamp":1636679381441,"user_tz":-540,"elapsed":667,"user":{"displayName":"김정인","photoUrl":"https://lh3.googleusercontent.com/a-/AOh14Gh3vkUnAYiRh4RDdp2el8MRY_E4lyJNoUMMOFlFlA=s64","userId":"11915939704307778496"}},"outputId":"9acf6921-d94b-4817-abed-8234640d6643"},"source":["stats_info(tr, 'train')\n","stats_info(val, 'valid')\n","stats_info(test, 'test')"],"execution_count":23,"outputs":[{"output_type":"stream","name":"stdout","text":["* train Set Stats Info\n","\t Events: 5125100\n","\t Sessions: 1243431\n","\t Items: 20153\n","\t First Time : 2014-08-31 03:00:01.111000+00:00\n","\t Last Time : 2014-09-28 02:57:34.348000+00:00\n","\n","* valid Set Stats Info\n","\t Events: 58074\n","\t Sessions: 12350\n","\t Items: 6232\n","\t First Time : 2014-09-28 03:00:25.298000+00:00\n","\t Last Time : 2014-09-29 02:58:27.660000+00:00\n","\n","* test Set Stats Info\n","\t Events: 71009\n","\t Sessions: 15289\n","\t Items: 6580\n","\t First Time : 2014-09-29 02:37:20.695000+00:00\n","\t Last Time : 2014-09-30 02:59:59.430000+00:00\n","\n"]}]},{"cell_type":"code","metadata":{"id":"amEklpcZI0YG","executionInfo":{"status":"ok","timestamp":1636679392643,"user_tz":-540,"elapsed":11206,"user":{"displayName":"김정인","photoUrl":"https://lh3.googleusercontent.com/a-/AOh14Gh3vkUnAYiRh4RDdp2el8MRY_E4lyJNoUMMOFlFlA=s64","userId":"11915939704307778496"}}},"source":["# train set에 없는 아이템이 val, test기간에 생길 수 있으므로 train data를 기준으로 인덱싱합니다.\n","id2idx = {item_id : index for index, item_id in enumerate(tr['ItemId'].unique())}\n","\n","def indexing(df, id2idx):\n","    df['item_idx'] = df['ItemId'].map(lambda x: id2idx.get(x, -1))  # id2idx에 없는 아이템은 모르는 값(-1) 처리 해줍니다.\n","    return df\n","\n","tr = indexing(tr, id2idx)\n","val = indexing(val, id2idx)\n","test = indexing(test, id2idx)"],"execution_count":24,"outputs":[]},{"cell_type":"code","metadata":{"id":"jh4itEmNxSDa","executionInfo":{"status":"ok","timestamp":1636680700287,"user_tz":-540,"elapsed":12,"user":{"displayName":"김정인","photoUrl":"https://lh3.googleusercontent.com/a-/AOh14Gh3vkUnAYiRh4RDdp2el8MRY_E4lyJNoUMMOFlFlA=s64","userId":"11915939704307778496"}}},"source":["import platform"],"execution_count":29,"outputs":[]},{"cell_type":"code","metadata":{"id":"A6F3yRIuxTms","executionInfo":{"status":"ok","timestamp":1636680700288,"user_tz":-540,"elapsed":11,"user":{"displayName":"김정인","photoUrl":"https://lh3.googleusercontent.com/a-/AOh14Gh3vkUnAYiRh4RDdp2el8MRY_E4lyJNoUMMOFlFlA=s64","userId":"11915939704307778496"}}},"source":[""],"execution_count":29,"outputs":[]},{"cell_type":"code","metadata":{"colab":{"base_uri":"https://localhost:8080/","height":230},"id":"6OL8iyhgI3Tz","executionInfo":{"status":"error","timestamp":1636680700289,"user_tz":-540,"elapsed":11,"user":{"displayName":"김정인","photoUrl":"https://lh3.googleusercontent.com/a-/AOh14Gh3vkUnAYiRh4RDdp2el8MRY_E4lyJNoUMMOFlFlA=s64","userId":"11915939704307778496"}},"outputId":"430304c2-175b-47c2-da11-78dde0c5c921"},"source":["os = platform.system()\n","save_path = data_path +'/processed'\n","save_path.mkdir(parents=True, exist_ok=True)\n","\n","tr.to_pickle(save_path +'/train.pkl')\n","val.to_pickle(save_path +'/valid.pkl')\n","test.to_pickle(save_path +'/test.pkl')"],"execution_count":30,"outputs":[{"output_type":"error","ename":"AttributeError","evalue":"ignored","traceback":["\u001b[0;31m---------------------------------------------------------------------------\u001b[0m","\u001b[0;31mAttributeError\u001b[0m                            Traceback (most recent call last)","\u001b[0;32m<ipython-input-30-02ea196b69d7>\u001b[0m in \u001b[0;36m<module>\u001b[0;34m()\u001b[0m\n\u001b[1;32m      1\u001b[0m \u001b[0mos\u001b[0m \u001b[0;34m=\u001b[0m \u001b[0mplatform\u001b[0m\u001b[0;34m.\u001b[0m\u001b[0msystem\u001b[0m\u001b[0;34m(\u001b[0m\u001b[0;34m)\u001b[0m\u001b[0;34m\u001b[0m\u001b[0;34m\u001b[0m\u001b[0m\n\u001b[1;32m      2\u001b[0m \u001b[0msave_path\u001b[0m \u001b[0;34m=\u001b[0m \u001b[0mdata_path\u001b[0m \u001b[0;34m+\u001b[0m\u001b[0;34m'/processed'\u001b[0m\u001b[0;34m\u001b[0m\u001b[0;34m\u001b[0m\u001b[0m\n\u001b[0;32m----> 3\u001b[0;31m \u001b[0msave_path\u001b[0m\u001b[0;34m.\u001b[0m\u001b[0mmkdir\u001b[0m\u001b[0;34m(\u001b[0m\u001b[0mparents\u001b[0m\u001b[0;34m=\u001b[0m\u001b[0;32mTrue\u001b[0m\u001b[0;34m,\u001b[0m \u001b[0mexist_ok\u001b[0m\u001b[0;34m=\u001b[0m\u001b[0;32mTrue\u001b[0m\u001b[0;34m)\u001b[0m\u001b[0;34m\u001b[0m\u001b[0;34m\u001b[0m\u001b[0m\n\u001b[0m\u001b[1;32m      4\u001b[0m \u001b[0;34m\u001b[0m\u001b[0m\n\u001b[1;32m      5\u001b[0m \u001b[0mtr\u001b[0m\u001b[0;34m.\u001b[0m\u001b[0mto_pickle\u001b[0m\u001b[0;34m(\u001b[0m\u001b[0msave_path\u001b[0m \u001b[0;34m+\u001b[0m\u001b[0;34m'/train.pkl'\u001b[0m\u001b[0;34m)\u001b[0m\u001b[0;34m\u001b[0m\u001b[0;34m\u001b[0m\u001b[0m\n","\u001b[0;31mAttributeError\u001b[0m: 'str' object has no attribute 'mkdir'"]}]},{"cell_type":"code","metadata":{"id":"K-J-xV9dPCYQ","executionInfo":{"status":"aborted","timestamp":1636680634921,"user_tz":-540,"elapsed":11,"user":{"displayName":"김정인","photoUrl":"https://lh3.googleusercontent.com/a-/AOh14Gh3vkUnAYiRh4RDdp2el8MRY_E4lyJNoUMMOFlFlA=s64","userId":"11915939704307778496"}}},"source":[""],"execution_count":null,"outputs":[]}]}
=======
{
 "cells": [
  {
   "cell_type": "markdown",
   "id": "operating-hotel",
   "metadata": {},
   "source": [
    "# 1. 데이터의 전처리"
   ]
  },
  {
   "cell_type": "code",
   "execution_count": 1,
   "id": "english-graphic",
   "metadata": {},
   "outputs": [],
   "source": [
    "import datetime as dt\n",
    "from pathlib import Path\n",
    "import os\n",
    "\n",
    "import numpy as np\n",
    "import pandas as pd\n",
    "import warnings\n",
    "warnings.filterwarnings('ignore')"
   ]
  },
  {
   "cell_type": "code",
   "execution_count": 2,
   "id": "nominated-tourism",
   "metadata": {},
   "outputs": [
    {
     "data": {
      "text/html": [
       "<div>\n",
       "<style scoped>\n",
       "    .dataframe tbody tr th:only-of-type {\n",
       "        vertical-align: middle;\n",
       "    }\n",
       "\n",
       "    .dataframe tbody tr th {\n",
       "        vertical-align: top;\n",
       "    }\n",
       "\n",
       "    .dataframe thead th {\n",
       "        text-align: right;\n",
       "    }\n",
       "</style>\n",
       "<table border=\"1\" class=\"dataframe\">\n",
       "  <thead>\n",
       "    <tr style=\"text-align: right;\">\n",
       "      <th></th>\n",
       "      <th>UserId</th>\n",
       "      <th>ItemId</th>\n",
       "      <th>Rating</th>\n",
       "      <th>Time</th>\n",
       "    </tr>\n",
       "  </thead>\n",
       "  <tbody>\n",
       "    <tr>\n",
       "      <th>31</th>\n",
       "      <td>1</td>\n",
       "      <td>3186</td>\n",
       "      <td>4</td>\n",
       "      <td>978300019</td>\n",
       "    </tr>\n",
       "    <tr>\n",
       "      <th>22</th>\n",
       "      <td>1</td>\n",
       "      <td>1270</td>\n",
       "      <td>5</td>\n",
       "      <td>978300055</td>\n",
       "    </tr>\n",
       "    <tr>\n",
       "      <th>27</th>\n",
       "      <td>1</td>\n",
       "      <td>1721</td>\n",
       "      <td>4</td>\n",
       "      <td>978300055</td>\n",
       "    </tr>\n",
       "    <tr>\n",
       "      <th>37</th>\n",
       "      <td>1</td>\n",
       "      <td>1022</td>\n",
       "      <td>5</td>\n",
       "      <td>978300055</td>\n",
       "    </tr>\n",
       "    <tr>\n",
       "      <th>24</th>\n",
       "      <td>1</td>\n",
       "      <td>2340</td>\n",
       "      <td>3</td>\n",
       "      <td>978300103</td>\n",
       "    </tr>\n",
       "    <tr>\n",
       "      <th>...</th>\n",
       "      <td>...</td>\n",
       "      <td>...</td>\n",
       "      <td>...</td>\n",
       "      <td>...</td>\n",
       "    </tr>\n",
       "    <tr>\n",
       "      <th>1000019</th>\n",
       "      <td>6040</td>\n",
       "      <td>2917</td>\n",
       "      <td>4</td>\n",
       "      <td>997454429</td>\n",
       "    </tr>\n",
       "    <tr>\n",
       "      <th>999988</th>\n",
       "      <td>6040</td>\n",
       "      <td>1921</td>\n",
       "      <td>4</td>\n",
       "      <td>997454464</td>\n",
       "    </tr>\n",
       "    <tr>\n",
       "      <th>1000172</th>\n",
       "      <td>6040</td>\n",
       "      <td>1784</td>\n",
       "      <td>3</td>\n",
       "      <td>997454464</td>\n",
       "    </tr>\n",
       "    <tr>\n",
       "      <th>1000167</th>\n",
       "      <td>6040</td>\n",
       "      <td>161</td>\n",
       "      <td>3</td>\n",
       "      <td>997454486</td>\n",
       "    </tr>\n",
       "    <tr>\n",
       "      <th>1000042</th>\n",
       "      <td>6040</td>\n",
       "      <td>1221</td>\n",
       "      <td>4</td>\n",
       "      <td>998315055</td>\n",
       "    </tr>\n",
       "  </tbody>\n",
       "</table>\n",
       "<p>1000209 rows × 4 columns</p>\n",
       "</div>"
      ],
      "text/plain": [
       "         UserId  ItemId  Rating       Time\n",
       "31            1    3186       4  978300019\n",
       "22            1    1270       5  978300055\n",
       "27            1    1721       4  978300055\n",
       "37            1    1022       5  978300055\n",
       "24            1    2340       3  978300103\n",
       "...         ...     ...     ...        ...\n",
       "1000019    6040    2917       4  997454429\n",
       "999988     6040    1921       4  997454464\n",
       "1000172    6040    1784       3  997454464\n",
       "1000167    6040     161       3  997454486\n",
       "1000042    6040    1221       4  998315055\n",
       "\n",
       "[1000209 rows x 4 columns]"
      ]
     },
     "execution_count": 2,
     "metadata": {},
     "output_type": "execute_result"
    }
   ],
   "source": [
    "data_path = Path(os.getenv('HOME')+'/aiffel/yoochoose/data/') \n",
    "train_path = data_path / 'ratings.dat'\n",
    "\n",
    "def load_data(data_path: Path, nrows=None):\n",
    "    data = pd.read_csv(data_path, sep='::', header=None, usecols=[0, 1, 2, 3], dtype={0: np.int32, 1: np.int32, 2: np.int32}, nrows=nrows)\n",
    "    data.columns = ['UserId', 'ItemId', 'Rating', 'Time']\n",
    "    return data\n",
    "\n",
    "data = load_data(train_path, None)\n",
    "data.sort_values(['UserId', 'Time'], inplace=True)  # data를 id와 시간 순서로 정렬해줍니다.\n",
    "data"
   ]
  },
  {
   "cell_type": "code",
   "execution_count": 3,
   "id": "varying-dairy",
   "metadata": {},
   "outputs": [
    {
     "data": {
      "text/html": [
       "<div>\n",
       "<style scoped>\n",
       "    .dataframe tbody tr th:only-of-type {\n",
       "        vertical-align: middle;\n",
       "    }\n",
       "\n",
       "    .dataframe tbody tr th {\n",
       "        vertical-align: top;\n",
       "    }\n",
       "\n",
       "    .dataframe thead th {\n",
       "        text-align: right;\n",
       "    }\n",
       "</style>\n",
       "<table border=\"1\" class=\"dataframe\">\n",
       "  <thead>\n",
       "    <tr style=\"text-align: right;\">\n",
       "      <th></th>\n",
       "      <th>UserId</th>\n",
       "      <th>ItemId</th>\n",
       "      <th>Rating</th>\n",
       "      <th>Time</th>\n",
       "    </tr>\n",
       "  </thead>\n",
       "  <tbody>\n",
       "    <tr>\n",
       "      <th>31</th>\n",
       "      <td>1</td>\n",
       "      <td>3186</td>\n",
       "      <td>4</td>\n",
       "      <td>978300019</td>\n",
       "    </tr>\n",
       "    <tr>\n",
       "      <th>22</th>\n",
       "      <td>1</td>\n",
       "      <td>1270</td>\n",
       "      <td>5</td>\n",
       "      <td>978300055</td>\n",
       "    </tr>\n",
       "    <tr>\n",
       "      <th>27</th>\n",
       "      <td>1</td>\n",
       "      <td>1721</td>\n",
       "      <td>4</td>\n",
       "      <td>978300055</td>\n",
       "    </tr>\n",
       "    <tr>\n",
       "      <th>37</th>\n",
       "      <td>1</td>\n",
       "      <td>1022</td>\n",
       "      <td>5</td>\n",
       "      <td>978300055</td>\n",
       "    </tr>\n",
       "    <tr>\n",
       "      <th>24</th>\n",
       "      <td>1</td>\n",
       "      <td>2340</td>\n",
       "      <td>3</td>\n",
       "      <td>978300103</td>\n",
       "    </tr>\n",
       "    <tr>\n",
       "      <th>...</th>\n",
       "      <td>...</td>\n",
       "      <td>...</td>\n",
       "      <td>...</td>\n",
       "      <td>...</td>\n",
       "    </tr>\n",
       "    <tr>\n",
       "      <th>1000019</th>\n",
       "      <td>6040</td>\n",
       "      <td>2917</td>\n",
       "      <td>4</td>\n",
       "      <td>997454429</td>\n",
       "    </tr>\n",
       "    <tr>\n",
       "      <th>999988</th>\n",
       "      <td>6040</td>\n",
       "      <td>1921</td>\n",
       "      <td>4</td>\n",
       "      <td>997454464</td>\n",
       "    </tr>\n",
       "    <tr>\n",
       "      <th>1000172</th>\n",
       "      <td>6040</td>\n",
       "      <td>1784</td>\n",
       "      <td>3</td>\n",
       "      <td>997454464</td>\n",
       "    </tr>\n",
       "    <tr>\n",
       "      <th>1000167</th>\n",
       "      <td>6040</td>\n",
       "      <td>161</td>\n",
       "      <td>3</td>\n",
       "      <td>997454486</td>\n",
       "    </tr>\n",
       "    <tr>\n",
       "      <th>1000042</th>\n",
       "      <td>6040</td>\n",
       "      <td>1221</td>\n",
       "      <td>4</td>\n",
       "      <td>998315055</td>\n",
       "    </tr>\n",
       "  </tbody>\n",
       "</table>\n",
       "<p>1000209 rows × 4 columns</p>\n",
       "</div>"
      ],
      "text/plain": [
       "         UserId  ItemId  Rating       Time\n",
       "31            1    3186       4  978300019\n",
       "22            1    1270       5  978300055\n",
       "27            1    1721       4  978300055\n",
       "37            1    1022       5  978300055\n",
       "24            1    2340       3  978300103\n",
       "...         ...     ...     ...        ...\n",
       "1000019    6040    2917       4  997454429\n",
       "999988     6040    1921       4  997454464\n",
       "1000172    6040    1784       3  997454464\n",
       "1000167    6040     161       3  997454486\n",
       "1000042    6040    1221       4  998315055\n",
       "\n",
       "[1000209 rows x 4 columns]"
      ]
     },
     "execution_count": 3,
     "metadata": {},
     "output_type": "execute_result"
    }
   ],
   "source": [
    "# 시간이 좀 걸릴 수 있습니다. 메모리도 10GB 가까이 소요될 수 있으니 메모리 상태에 주의해 주세요.  \n",
    "data = load_data(train_path, None)\n",
    "data.sort_values(['UserId', 'Time'], inplace=True)  # data를 id와 시간 순서로 정렬해줍니다.\n",
    "data"
   ]
  },
  {
   "cell_type": "code",
   "execution_count": 4,
   "id": "welcome-empty",
   "metadata": {},
   "outputs": [
    {
     "data": {
      "text/plain": [
       "(6040, 3706, 458455)"
      ]
     },
     "execution_count": 4,
     "metadata": {},
     "output_type": "execute_result"
    }
   ],
   "source": [
    "data['UserId'].nunique(), data['ItemId'].nunique(),data['Time'].nunique()"
   ]
  },
  {
   "cell_type": "code",
   "execution_count": 5,
   "id": "logical-warren",
   "metadata": {},
   "outputs": [
    {
     "data": {
      "text/plain": [
       "UserId\n",
       "1        53\n",
       "2       129\n",
       "3        51\n",
       "4        21\n",
       "5       198\n",
       "       ... \n",
       "6036    888\n",
       "6037    202\n",
       "6038     20\n",
       "6039    123\n",
       "6040    341\n",
       "Length: 6040, dtype: int64"
      ]
     },
     "execution_count": 5,
     "metadata": {},
     "output_type": "execute_result"
    }
   ],
   "source": [
    "session_length = data.groupby('UserId').size()\n",
    "session_length"
   ]
  },
  {
   "cell_type": "code",
   "execution_count": 6,
   "id": "monetary-newcastle",
   "metadata": {},
   "outputs": [
    {
     "data": {
      "text/plain": [
       "(96.0, 165.5975165562914)"
      ]
     },
     "execution_count": 6,
     "metadata": {},
     "output_type": "execute_result"
    }
   ],
   "source": [
    "session_length.median(), session_length.mean()"
   ]
  },
  {
   "cell_type": "code",
   "execution_count": 7,
   "id": "analyzed-edmonton",
   "metadata": {},
   "outputs": [
    {
     "data": {
      "text/plain": [
       "(20, 2314)"
      ]
     },
     "execution_count": 7,
     "metadata": {},
     "output_type": "execute_result"
    }
   ],
   "source": [
    "session_length.min(), session_length.max()"
   ]
  },
  {
   "cell_type": "code",
   "execution_count": 8,
   "id": "wooden-brake",
   "metadata": {},
   "outputs": [
    {
     "data": {
      "text/plain": [
       "1343.181000000005"
      ]
     },
     "execution_count": 8,
     "metadata": {},
     "output_type": "execute_result"
    }
   ],
   "source": [
    "session_length.quantile(0.999)"
   ]
  },
  {
   "cell_type": "code",
   "execution_count": 9,
   "id": "warming-yemen",
   "metadata": {},
   "outputs": [
    {
     "data": {
      "text/html": [
       "<div>\n",
       "<style scoped>\n",
       "    .dataframe tbody tr th:only-of-type {\n",
       "        vertical-align: middle;\n",
       "    }\n",
       "\n",
       "    .dataframe tbody tr th {\n",
       "        vertical-align: top;\n",
       "    }\n",
       "\n",
       "    .dataframe thead th {\n",
       "        text-align: right;\n",
       "    }\n",
       "</style>\n",
       "<table border=\"1\" class=\"dataframe\">\n",
       "  <thead>\n",
       "    <tr style=\"text-align: right;\">\n",
       "      <th></th>\n",
       "      <th>UserId</th>\n",
       "      <th>ItemId</th>\n",
       "      <th>Rating</th>\n",
       "      <th>Time</th>\n",
       "    </tr>\n",
       "  </thead>\n",
       "  <tbody>\n",
       "    <tr>\n",
       "      <th>406366</th>\n",
       "      <td>2438</td>\n",
       "      <td>908</td>\n",
       "      <td>3</td>\n",
       "      <td>974222921</td>\n",
       "    </tr>\n",
       "    <tr>\n",
       "      <th>406379</th>\n",
       "      <td>2438</td>\n",
       "      <td>2294</td>\n",
       "      <td>3</td>\n",
       "      <td>974222921</td>\n",
       "    </tr>\n",
       "    <tr>\n",
       "      <th>406412</th>\n",
       "      <td>2438</td>\n",
       "      <td>3812</td>\n",
       "      <td>5</td>\n",
       "      <td>974222921</td>\n",
       "    </tr>\n",
       "    <tr>\n",
       "      <th>406418</th>\n",
       "      <td>2438</td>\n",
       "      <td>3835</td>\n",
       "      <td>2</td>\n",
       "      <td>974222921</td>\n",
       "    </tr>\n",
       "    <tr>\n",
       "      <th>406427</th>\n",
       "      <td>2438</td>\n",
       "      <td>1186</td>\n",
       "      <td>4</td>\n",
       "      <td>974222921</td>\n",
       "    </tr>\n",
       "    <tr>\n",
       "      <th>...</th>\n",
       "      <td>...</td>\n",
       "      <td>...</td>\n",
       "      <td>...</td>\n",
       "      <td>...</td>\n",
       "    </tr>\n",
       "    <tr>\n",
       "      <th>406356</th>\n",
       "      <td>2438</td>\n",
       "      <td>3948</td>\n",
       "      <td>4</td>\n",
       "      <td>979792076</td>\n",
       "    </tr>\n",
       "    <tr>\n",
       "      <th>406461</th>\n",
       "      <td>2438</td>\n",
       "      <td>2502</td>\n",
       "      <td>4</td>\n",
       "      <td>981262001</td>\n",
       "    </tr>\n",
       "    <tr>\n",
       "      <th>406372</th>\n",
       "      <td>2438</td>\n",
       "      <td>1466</td>\n",
       "      <td>4</td>\n",
       "      <td>981322989</td>\n",
       "    </tr>\n",
       "    <tr>\n",
       "      <th>406413</th>\n",
       "      <td>2438</td>\n",
       "      <td>1131</td>\n",
       "      <td>5</td>\n",
       "      <td>987127691</td>\n",
       "    </tr>\n",
       "    <tr>\n",
       "      <th>406414</th>\n",
       "      <td>2438</td>\n",
       "      <td>1132</td>\n",
       "      <td>4</td>\n",
       "      <td>987127748</td>\n",
       "    </tr>\n",
       "  </tbody>\n",
       "</table>\n",
       "<p>200 rows × 4 columns</p>\n",
       "</div>"
      ],
      "text/plain": [
       "        UserId  ItemId  Rating       Time\n",
       "406366    2438     908       3  974222921\n",
       "406379    2438    2294       3  974222921\n",
       "406412    2438    3812       5  974222921\n",
       "406418    2438    3835       2  974222921\n",
       "406427    2438    1186       4  974222921\n",
       "...        ...     ...     ...        ...\n",
       "406356    2438    3948       4  979792076\n",
       "406461    2438    2502       4  981262001\n",
       "406372    2438    1466       4  981322989\n",
       "406413    2438    1131       5  987127691\n",
       "406414    2438    1132       4  987127748\n",
       "\n",
       "[200 rows x 4 columns]"
      ]
     },
     "execution_count": 9,
     "metadata": {},
     "output_type": "execute_result"
    }
   ],
   "source": [
    "long_session = session_length[session_length==200].index[0]\n",
    "data[data['UserId']==long_session]"
   ]
  },
  {
   "cell_type": "code",
   "execution_count": 10,
   "id": "greater-values",
   "metadata": {},
   "outputs": [
    {
     "data": {
      "text/plain": [
       "20      0.014238\n",
       "21      0.029305\n",
       "22      0.042053\n",
       "23      0.055464\n",
       "24      0.068874\n",
       "          ...   \n",
       "1271    0.998179\n",
       "1277    0.998344\n",
       "1286    0.998510\n",
       "1302    0.998675\n",
       "1323    0.998841\n",
       "Length: 736, dtype: float64"
      ]
     },
     "execution_count": 10,
     "metadata": {},
     "output_type": "execute_result"
    }
   ],
   "source": [
    "length_count = session_length.groupby(session_length).size()\n",
    "length_percent_cumsum = length_count.cumsum() / length_count.sum()\n",
    "length_percent_cumsum_999 = length_percent_cumsum[length_percent_cumsum < 0.999]\n",
    "\n",
    "length_percent_cumsum_999"
   ]
  },
  {
   "cell_type": "code",
   "execution_count": 11,
   "id": "distinguished-syracuse",
   "metadata": {},
   "outputs": [
    {
     "data": {
      "image/png": "iVBORw0KGgoAAAANSUhEUgAABIcAAAJTCAYAAACSDnaYAAAAOXRFWHRTb2Z0d2FyZQBNYXRwbG90bGliIHZlcnNpb24zLjMuMywgaHR0cHM6Ly9tYXRwbG90bGliLm9yZy/Il7ecAAAACXBIWXMAAAsTAAALEwEAmpwYAABinUlEQVR4nO3dfZxcZ13//9enSdMCBRpoRGxKGyAIlSKFEO4EitASUBoU1OJdq2i/fKWK4l0RbDGIcuMPb6tQNSB+hYCAGjRYy00BgUK2tBQSaJuGQhMKXZreN83t5/fHdZ3O2cns7mx2NrubeT0fj3nMnHOuc851bmZ2znuvc01kJpIkSZIkSRpOR8x2BSRJkiRJkjR7DIckSZIkSZKGmOGQJEmSJEnSEDMckiRJkiRJGmKGQ5IkSZIkSUPMcEiSJEmSJGmIGQ5JkiRpTouIjIjLusa9oY4/bVYqJUnSYcRwSJJ0WIiIx0bEX0fEVyPi9ojYHRHfjoj/iohXRMRRs13Hw03r4rz92BkR10bERRGxdLbreCj1CjDmq4g4p27Puycoc9qgtjkiboiIG6a7nD7XdXZEfDEi7qqfFZdFxI8fxHIeVj9zvhERuyJiNCL+LSKeNME8z42IDRFxS51nS0S8OSIeOE75RRHxexHx5Yi4JyLuiIj/jYifnmp9JUmayMLZroAkSdMVERcAF1L+6fF54J+Au4CHAacB/wD8X2DFLFXxcPcp4LL6+jjgDODXgJ+OiKdl5vWzVTEdNh4H3DPdhUTEnwG/DWwD/h5YBJwFfCQifj0z/6bP5ZwEfA54OPBF4MPAEuAngR+LiBdn5iVd87wS+Ftgby2/DXgy8PvAiyLiWZl5e6v8IuASymfYDcC7KJ9xLwLeHxGPz8wLpr4XJEk6kOGQJGlei4g/AP4IuBH4qcz8Qo8yP065INTMuCwz39AMRMSRwEeB5wGvB35pluqlw0Rmfn26y4iIZ1A+B64HnpKZt9bxbwOuAP4sIv4zM2/oY3F/SQmG/gr4zczMuqw/BkaAd0XE8sy8u45/OPDnwD7gRzLzi616vRb4E+CNwG+01vEqSjD0eeD01rKOoYSxr4+I9Zk5MvW9IUnSWN5WJkmat+p/798A7AFe1CsYAsjM/wRWteZrbod5wzjLPeAWl9ZtNudExOkR8Zl6W8poRLwrIo6t5U6NiP+MiFvr9PW1nt3reGREXFxvK9kZETsi4isR8Y6IeGir3Lj9qkTESb1u/YmId9fxyyLivIjYHBH31u36g4iIWu6n6u01d0fEzRHxNxFxv177ZCoycw9wcR1c2VW3l0fEJyPitlqnr0XE66PHbX/NLUsR8f0R8Q8RsT0i9kXEOa0yKyPi/XXaroi4KSL+p9dtNxHx1Ij4YER8J8pthzdGxDsj4gd6lL2srn9h3WfX1eXfGBFvqa06mrLnRETWwefE2Nvs3tBV7kMRsbUe8zsi4rMR8fPj7cuIeErdnjtr+Y9FxNMnOS8eW8+BG+t2fjci3hsRPzjeegapdf6dFBH/p57X99Z6XBwRD26VPa3uuxOBE7v23btb5QZx+9or6/ObmmAIoIZBFwFH0UeQGRFHAy8E9gOvb4KhuqxrgbWU4OilrdleCBwN/Hs7GKreCuwAfjki7t8a/xOt+t7dWsddwB8DQWmhJ0nStNlySJI0n/0ScCSwLjO/OlHBzNw1oHWeCfw48J/AO4BnAOcAJ0VpAfBx4DPAPwKnAC8GHhkRT8jM/XBfK4KNwIOADcCHKBeOy4BfAP4GuGUAdf0zSsuDjwD/U+v+JmBRROwA3gz8e63v6ZSWCgsot+BNV9Tn+y6cI2It5Zhto2zzbcDTKC0mnhcRp2fm3q7lPAS4nHKb4IcpF+Tfrcv7VeDvKK0x1gPXAd9HuX3w14APtNb9y5TAalcteyOwHPgV4MVRbn/7Vo/teC/wLEpLqDsot/T8Xl1PEyRcRWm9diHwTeDdrfkva73+O2AT8GngJuChdXn/HBE/mJl/2F5xRDybctwW1G2/nnJOfRL4RI+6EhGratkjKcd9C7CUzu1Oz83ML/Wadwa8FXgBnfPvucCvAo8GfrSWuYGy736zDv9Fa/6rBlyfZp3/3WPaR4E/rGUunGQ5D6Hs35sz884e07fW5+cB76mvv79r2n0yc19EfBM4FXgq5fhOOE/XOiRJmjbDIUnSfPYj9fnjh3CdZwLPy8xPAUTEEZR+QZ5PCXrOzcx/aQpHxD8Cv0wJif6jjn4Z5QLzNzPzL9sLj4gHUAKQQXgy8ITM3F6X/QZKWPC7lP5bnpyZX6vTjgKupLReuDAzbz7YlUbEQuDcOviFOu4cSpjyb8DPZebOVvk3UC7IX0W5XaftFOCfgV9uB0cRcTKl/5Y7gGdl5qauOixtvX4MJci7AXhOsz/qtOdRgou/pNNSo+1RwA9l5o5a/nXAl4FfjIjXZuZ3MvMq4KqIuBC4oX2LXZfHd/e/VFsgfRQ4PyLe0TpWR1ACxqMoreI+2prnlZSgia5lLQbeRzm2z87Mza1pj6eEbP8AjNth8oA9DTilCd3qefEJ4LkRsTIzv1hb7byhaQ02wb6blvq+Oh64KzNv6lHkuvr8mD4WdyslkDwuIo6pLXnaHlmf2y21vlefl/Wo2xGUllPNPJ9szbO8zvO1cdbxiIi4X/v9JEnSwfC2MknSfPbw+rztEK7zfU0wBFBbA/1zHfxqOxiqmpYDT+yxrAMu6DLz7gFe6L2xHYRk5m2UVjP3B/6uCYbqtF3A+ykd9D5uius5rd7m9IaI+GtgM6UFxvcoLZUAXk3piPeXe2zfGyktpX6ux7J3A7/To0XR/6X8k+uN3cFQ3Z5tXWWPBF7d3h+13Mcp++TF0fsXo36/CYZq+buBf6F8h5pSB+e9OubOzN2UW5oWMrYVyDMoLWw+2Q6GqouBa3us4heBY4EL28FQXc9XKR0wn1qDtUNhTbs1Vj2G76qDK3vPMmOaW9luH2d6M/7YyRZUz99PUs6BNe1pEfFoShgMsLg16RLK+f+SiOg+b36HEhZ3z/Nf9fl10brdswZdf9AqN2mdJUmajC2HJEmaml6dv367Pl/RY1oTRrR/1n09pQPaiyLiBZQLx88Cm9v9lwzAIOraj+fUB5Qw50ZKS50/ycwbaz8qP0wJi34zInotYxe9Q6kbxmnF9LT63B2c9PL0pp4R8ZQe07+PcuvWYzhwv/TahzfW58U9po0rIh5B+WWq5wGPALr7dzq+9frU+vy/3cvJzP0R8TkObOXSbOcPR+/+tJryj6MEeDNtYPtuDvpNynv2tyLi6fX1Eko/Q9dRwuD7WgBm5jcj4o8oQehnI+JDlPfbkyi3210NPIGxrQb/EvgpSlC4KSI2UG7X/DHK7Zq3U0KvQbU0lCQNMcMhSdJ8dhPlQvf4yQoOUK+WB3v7mHZkM6JeKK6kdKa9itIfDMCNEfFnmflXc6WuffqjSW4HWky5qF3C5P25dPvOOOOPrc/bx5ne1nTw/buTlDume0RtbdWt2U8L+lg3UDogp/zk+WJKH0//QzkG+4CTgLMpt5A1mpYu3x1nkb3GN9v5q5NU54Dt7KEJHCZqZd5MGy+cuK3HuCnvuwFpzvcHjzO9GX9bPwvLzE0R8WTgAkp/XU+mBK9/Tgl7PwPc3DXPH0fE1yit6F5M2QdfpvRh9iJKOHRzq/xdEfEjlFZCL6Mc1zspt6++Fvg6ZX/uQJKkaTIckiTNZ/9LuX3peZT+WfrVXMyO93fwWPq8SDxY9Zaun6n9sPwwpc+iXwf+MiLuzsxmeyaq67EzWccBai7Mr8zMqfZ3M15Lqtvq8/GUi+R+1v/gzLxjiusflNdQwptfysx3tydExMsp4VBbU8+HjbO8XuOb7fzhzLz6IOvZvayHTlDmuPp82zTXNeMy8+6I2A4cHxEP79Hv0PL63Ot2vfGWeT0HHrem83Monc53z/MhSmfs3fOc32ue2p/RHzD2NrImbDwGuKL+OqAkSdNin0OSpPnsXZSfsX/pZP2oxNifSm9+xvqEHuUezfitCwYuM/dm5hWZ+Rbg5XX0S1pFxq0rU+zzZrbUC9xNwA9FxEMmK9+ny+vzC6dQ9lkDWvd49jN+i5hH1+cDggE6t+S1XVmff6R7Qu3A+Bk95hnkdn65Pj+lBpi9PL2r7HTsY+ZbEzW/8Laqx7QXdpWZjl+oz+/tp3BEPAp4JvCVyX51seUXp7IOSZImYzgkSZq3ml86onSi/F89OnoF7vt573bfNF+ntMxYHRHf1yp3P2BQt3SNKyKeHBG9AqimNcg9rXFfrM+/1L5Ij4gTKLe0zBdvpxyntRFxbPfEiFgcEVNpVfR3lFtq/rBXMNj+tTLgbygh4p/XXy7rLrsoIgYRqNxC7xAPyi+lAZzWte4XAL/So/xnKT9d/9yI6A7AzqX3r2q9i9KK58J62+IYEXFERJzWPb6X+t76FOVWwNf3WNYptd57gf/XzzIncQuwpN3x8gx4R31+Xf1lNwAi4iTKL+XtotNhdjPtuIh4bEQc1zX+qK7AmSheRznG78/ML3VNf1B3hSLioXQ6OP/9HtN7zXN6LXs98M7xNlaSpKnwtjJJ0ryWmX9SQ5MLgY21o94R4C5K2PJsyi0jI6159kTEXwJ/CFwZEf9G+Zt4OqXfkG8zs34B+D8R8b+UC7xbKT+Z/mLKBepftOr6hYj4dN2OL0bEJ+p2vZjSt8l4YcSckplrax8tvwZcHxGXAN+i/ErTMsr2vQt4ZZ/L2xwRv0a54L8yIv6D0hHwQ4GnUMK/59ayX6+3+qyldOz735Tbh46kdAz9LGAUeOw0N/PjwFkR8RHgS5RA6tOZ+Wngb4FfAv41Ij5IOcceT2nF8gHgZ7q2b39E/Arw38D62oHx9ZR+aU6nhJ0vZGynx7dExMuAfwMuj4iPU1psJeU8eXrdP0f3uT2vAD5NCZt+nBIW3UsJps6kvGd+vdevsB2Ej1OO23/X830X8OXM/MgAlg1AZn4uIt5OucXv6nocFlH2/UMo23JD12znUT5b/ogSRDeWA5+JiEspwd+RlNtbT6Hc7npujypcUIPqz1P6Fjqesh+PBX67x6/SAXw9Iq6mBNr3Ujqwfj6lL67V9dfzJEmaNsMhSdK8l5lrIuJfKcHDcykX4UdTWiNcBbyFA1s3XEhpofOrlAu57wDrKBeAM/1LTu+jdD78DEpHtvejdKy8Dvj/etxashp4W33+dUoI8nuUTo1/eobrOjCZ+aqI+CglAHo+5aJ4ByUkehtTbIGSmX8fEV+l/BT4aZTb8b5H+eWnf+gq+/8i4svAb1POkTOAuykhzQeB9x/kZrW9mhLEPI/SwfARlFDh05l5dUQ8F/hjyq9NLaTcjvWTlNY+P9O9sMy8LCKe05oH4Au1/j9Xh+/omufjEfEEyj55ASX42l238xP0vq2tp8y8PiKeSAlTfgz4P5Qw5Wbg34G/zMzP9bu8Sfwx5Xx4MeUWqwXAPwEDC4cAMvO3I+IrlJZC51LCtS8Bb8vM/5zCor5L6Rj66bXOeyifG+cB78zMvT3m+SQl3FlN59z/OOU9f3mP8lBaFa2ifFYcCXwTeCvw1sy0I2pJ0sDEYH8xV5IkSTMtIj4LPJXSybatRyRJ0rTY55AkSdIcFBH3H6d/pnMoLUn+x2BIkiQNgi2HJEmS5qCIeCzlV8suBbZQbkU7lfILZrcBz8jMr81aBSVJ0mHDcEiSJGkOqr+o9TbKT91/P6Wfqu8AHwPeNKCOoCVJkgyHJEmSJEmShtmc+7Wy4447Lk866aTZroYkSZIkSdJh44orrvheZi7pNW3OhUMnnXQSIyMjs10NSZIkSZKkw0ZEfHO8af5amSRJkiRJ0hAzHJIkSZIkSRpihkOSJEmSJElDzHBIkiRJkiRpiBkOSZIkSZIkDTHDIUmSJEmSpCFmOCRJkiRJkjTEDIckSZIkSZKGmOGQJEmSJEnSEDMckiRJkiRJGmKGQ5IkSZIkSUPMcEiSJEmSJGmIGQ5JkiRJkiQNMcMhSZIkSZKkIWY4JEmSJEmSNMQMhyRJkiRJkoaY4ZAkSZIkSdIQMxySJEmSJEkaYoZDkiRJkiRJQ8xwSJIkSZIkaYhNGg5FxNqIuDkivjrO9IiIv4qILRFxdUQ8qTXt7Ii4rj7OHmTFJUmSJEmSNH39tBx6N7BqgukvBJbXx7nA3wFExEOAC4GnAiuBCyNi8XQqK0mSJEmSpMGaNBzKzE8DOyYoshp4TxaXA8dGxMOBFwCXZuaOzLwVuJSJQyZJkiRJkiQdYoPoc+h44MbW8LY6brzxB4iIcyNiJCJGRkdHB1AlSZIkSZIk9WNOdEidmRdn5orMXLFkyZLZro4kSZIkSZoNEQc3babMxjpnwSDCoe3ACa3hpXXceOMlSZIkSTo8zIXwYK4FKnNh3ZqSQYRD64FfrL9a9jTg9sy8CbgEOCMiFteOqM+o4yRJkiRpuIx3kTyVi+fZDACGpcWGYYaG1MLJCkTE+4DTgOMiYhvlF8iOBMjMdwAbgBcBW4B7gF+q03ZExBuBjXVRazJzoo6tJUmSJGl6IiDzwNfTWU4/06azLkmaZZOGQ5n58kmmJ/CqcaatBdYeXNUkSZIkHTa6w5ODDVMGtRxJ0n3mRIfUkiRJkqapuR1motuXek2baD5vsZGkoWA4JEmSJM2WdmDTHcT0CnPGC3gkSZoGwyFJkiTpYI0X4Iw3fbLWPZIkzQLDIUmSJKkxlSDHgEeSdJgwHJIkSdL806tFzkQteCYaN978kiQNCcMhSZIkzbzJghpb7EiSNGsMhyRJktSf7tBmvOd2eYMcSZLmPMMhSZKkYWOoI0mSWhbOdgUkSZI0YBGQ2Ql42q8lSZK62HJIkiRpLuuno2WDH0mSNA2GQ5IkSYfCRJ0sexuXJEmaRYZDkiRJU9XrZ9Tb48f7FS5JkqQ5yHBIkiQNr4la7EwUAEmSJB1GDIckSdL8N1FrHcMcSZKkCRkOSZKk+aP79i1JkiRNm+GQJEmaGya7bcswSJIkaUYYDkmSpJk30S1fhj6SJEmzqq9wKCJWRcQ1EbElIs7vMf3EiPh4RFwdEZdFxNLWtH0RcVV9rB9k5SVJ0hzQq7+f9jjDH0mSpDlt4WQFImIBcBFwOrAN2BgR6zNzc6vYnwHvycx/iogfBf4U+IU6bWdmPnGw1ZYkSYdMd7iTWcY1z5IkSZrX+mk5tBLYkplbM3M3sA5Y3VXmZOAT9fUne0yXJEmzrbtFT3t8+7l7vCRJkg5r/YRDxwM3toa31XFtXwZ+sr7+CeCBEfHQOnx0RIxExOUR8ZJeK4iIc2uZkdHR0f5rL0mSeuu+rcugR5IkSeMYVIfUvwM8JyKuBJ4DbAf21WknZuYK4GeBv4iIR3XPnJkXZ+aKzFyxZMmSAVVJkqQhYAAkSZKkaZq0zyFK0HNCa3hpHXefzPw2teVQRBwDvDQzb6vTttfnrRFxGXAqcP10Ky5J0tAx/JEkSdIM6Kfl0EZgeUQsi4hFwFnAmF8di4jjIqJZ1muBtXX84og4qikDPBNod2QtSZLgwBZA/tqXJEmSDpFJw6HM3AucB1wCfA34QGZuiog1EXFmLXYacE1EXAs8DHhTHf84YCQivkzpqPrNXb9yJknScOoVAkmSJEmzoJ/bysjMDcCGrnEXtF5/EPhgj/k+B5wyzTpKkjR/df/ke+bs1keSJEnq0lc4JEmSJtFu/dMOgyRJkqQ5znBIkqSDZQAkSZKkw4DhkCRJ/epuHSRJkiQdBgyHJElq6xUA2UJIkiRJhzHDIUnS8OruLFqSJEkaQoZDkqThYQgkSZIkHeCI2a6AJEkDF9EJgrqfJUmSJI1hyyFJ0vzWhD7eHiZJkiQdFFsOSZLml16tgiRJkiQdNFsOSZLmpl7Bjz8fL0mSJA2cLYckSbPPlkCSJEnSrLHlkCTp0PLn4yVJkqQ5xXBIkjRz2gGQgZAkSZI0JxkOSZIGozv4sX8gSZIkaV4wHJIkTY+tgSRJkqR5zQ6pJUn9aXca3f45eUmSJEnzmi2HJEkHsq8gSZIkaWj01XIoIlZFxDURsSUizu8x/cSI+HhEXB0Rl0XE0ta0syPiuvo4e5CVlyQNmCGQJEmSNHQmDYciYgFwEfBC4GTg5RFxclexPwPek5lPANYAf1rnfQhwIfBUYCVwYUQsHlz1JUnT1r5dTJIkSdLQ6afl0EpgS2ZuzczdwDpgdVeZk4FP1NefbE1/AXBpZu7IzFuBS4FV06+2JGna7DdIkiRJEv2FQ8cDN7aGt9VxbV8GfrK+/gnggRHx0D7nJSLOjYiRiBgZHR3tt+6SpINhICRJkiSpZVC/VvY7wHMi4krgOcB2YF+/M2fmxZm5IjNXLFmyZEBVkiQdwGBIkiRJUpd+fq1sO3BCa3hpHXefzPw2teVQRBwDvDQzb4uI7cBpXfNeNo36SpKmovtXxyRJkiSpSz8thzYCyyNiWUQsAs4C1rcLRMRxEdEs67XA2vr6EuCMiFhcO6I+o46TJM0U+xKSJEmSNAWThkOZuRc4jxLqfA34QGZuiog1EXFmLXYacE1EXAs8DHhTnXcH8EZKwLQRWFPHSZIGyUBIkiRJ0kHq57YyMnMDsKFr3AWt1x8EPjjOvGvptCSSJA1CROc2MUMhSZIkSdMwqA6pJUmHgkGQJEmSpAEzHJKkuawJg7xtTJIkSdIMMRySpLmmHQhJkiRJ0gzrq88hSdIMaQKgTMMgSZIkSbPClkOSdKh5i5gkSZKkOcRwSJIOJUMhSZIkSXOM4ZAkzTRbCkmSJEmawwyHJGmmGAhJkiRJmgcMhyRpUPzZeUmSJEnzkOGQJB0sQyBJkiRJhwHDIUnqVzsMMhSSJEmSdJgwHJKkyRgESZIkSTqMLZztCkjSnGUoJEmSJGkI2HJIktrsR0iSJEnSkDEckiRJkiRJGmLeViZpuLVbCWXOXj0kSZIkaZbYckjScPLWMUmSJEkC+gyHImJVRFwTEVsi4vwe0x8REZ+MiCsj4uqIeFEdf1JE7IyIq+rjHYPeAEmaMoMhSZIkSbrPpLeVRcQC4CLgdGAbsDEi1mfm5lax1wMfyMy/i4iTgQ3ASXXa9Zn5xIHWWpIkSZIkSQPRT8uhlcCWzNyambuBdcDqrjIJPKi+fjDw7cFVUZKmqWkpZIshSZIkSTpAP+HQ8cCNreFtdVzbG4Cfj4htlFZDv96atqzebvapiHhWrxVExLkRMRIRI6Ojo/3XXpImYhgkSZIkSZMaVIfULwfenZlLgRcB/xwRRwA3AY/IzFOB1wDvjYgHdc+cmRdn5orMXLFkyZIBVUnSUDMYkiRJkqS+9BMObQdOaA0vrePaXgF8ACAzPw8cDRyXmbsy85Y6/grgeuAx0620JPUUYSgkSZIkSVPUTzi0EVgeEcsiYhFwFrC+q8y3gOcBRMTjKOHQaEQsqR1aExGPBJYDWwdVeUm6j6GQJEmSJB2USX+tLDP3RsR5wCXAAmBtZm6KiDXASGauB34b+PuI+C1K59TnZGZGxLOBNRGxB9gPvDIzd8zY1kgaPhGQOdu1kCRJkqR5a9JwCCAzN1A6mm6Pu6D1ejPwzB7zfQj40DTrKEm92VpIkiRJkqZtUB1SS5IkSZIkaR4yHJI0/9hiSJIkSZIGpq/byiRpTjAUkiRJkqSBs+WQpLnNn6eXJEmSpBllOCRp7jIUkiRJkqQZ521lkuYWAyFJkiRJOqRsOSRJkiRJkjTEDIckzQ22GJIkSZKkWeFtZZJml6GQJEmSJM0qWw5Jmj0GQ5IkSZI06wyHJB06TRjkz9NLkiRJ0pzhbWWSZp5BkCRJkiTNWbYckjSzDIYkSZIkaU6z5ZCkmWEoJEmSJEnzgi2HJA2WoZAkSZIkzSuGQ5IGx2BIkiRJkuYdbyuTNH2GQpIkSZI0b/XVcigiVkXENRGxJSLO7zH9ERHxyYi4MiKujogXtaa9ts53TUS8YJCVlzTL/El6SZIkSZr3Jm05FBELgIuA04FtwMaIWJ+Zm1vFXg98IDP/LiJOBjYAJ9XXZwE/BPwA8LGIeExm7hv0hkiSJEmSJGnq+mk5tBLYkplbM3M3sA5Y3VUmgQfV1w8Gvl1frwbWZeauzPwGsKUuT9J8ZWshSZIkSTqs9BMOHQ/c2BreVse1vQH4+YjYRmk19OtTmJeIODciRiJiZHR0tM+qSzrkDIUkSZIk6bAzqF8reznw7sxcCrwI+OeI6HvZmXlxZq7IzBVLliwZUJUkDYythSRJkiTpsNXPr5VtB05oDS+t49peAawCyMzPR8TRwHF9zitpLjMUkiRJkqTDWj+tezYCyyNiWUQsonQwvb6rzLeA5wFExOOAo4HRWu6siDgqIpYBy4EvDqrykmaQoZAkSZIkDYVJWw5l5t6IOA+4BFgArM3MTRGxBhjJzPXAbwN/HxG/Remc+pzMTGBTRHwA2AzsBV7lL5VJc5yhkCRJkiQNlX5uKyMzN1A6mm6Pu6D1ejPwzHHmfRPwpmnUUdKhYCgkSZIkSUNpUB1SS5rPDIYkSZIkaWgZDknDzFBIkiRJkoZeX7eVSTrMGApJkiRJkipbDknDxmBIkiRJktRiOCQNE4MhSZIkSVIXwyFpWBgMSZIkSZJ6MBySDneGQpIkSZKkCRgOSYczgyFJkiRJ0iQMh6TDlcGQJEmSJKkPhkPS4chgSJIkSZLUp4WzXQFJA2QoJEmSJEmaIlsOSZIkSZIkDTHDIelwYIshSZIkSdJB8rYyaT4zFJIkSZIkTZMth6T5ymBIkiRJkjQAthyS5htDIUmSJEnSANlySJIkSZIkaYj1FQ5FxKqIuCYitkTE+T2m/3lEXFUf10bEba1p+1rT1g+w7pIkSZIkSZqmSW8ri4gFwEXA6cA2YGNErM/MzU2ZzPytVvlfB05tLWJnZj5xYDWWhlUEZM52LSRJkiRJh5l+Wg6tBLZk5tbM3A2sA1ZPUP7lwPsGUTlJlFDIfoYkSZIkSTOkn3DoeODG1vC2Ou4AEXEisAz4RGv00RExEhGXR8RLxpnv3FpmZHR0tL+aS5IkSZIkadoG3SH1WcAHM3Nfa9yJmbkC+FngLyLiUd0zZebFmbkiM1csWbJkwFWS5jFbDEmSJEmSZlg/4dB24ITW8NI6rpez6LqlLDO31+etwGWM7Y9IUi/eSiZJkiRJOkT6CYc2AssjYllELKIEQAf86lhEPBZYDHy+NW5xRBxVXx8HPBPY3D2vJEmSJEmSZsekv1aWmXsj4jzgEmABsDYzN0XEGmAkM5ug6CxgXeaYn1N6HPDOiNhPCaLe3P6VM0mSJEmSJM2uScMhgMzcAGzoGndB1/Abesz3OeCUadRPGi7+XL0kSZIk6RAbdIfUkg6WfQxJkiRJkmaB4ZA0FxgMSZIkSZJmieGQNNsMhiRJkiRJs8hwSJpNBkOSJEmSpFlmOCTNFoMhSZIkSdIcYDgkSZIkSZI0xAyHpEMpwhZDkiRJkqQ5xXBIOlQMhSRJkiRJc5DhkCRJkiRJ0hBbONsVkA57thiSJEmSJM1hthySZpLBkCRJkiRpjjMckiRJkiRJGmKGQ9JMsMWQJEmSJGmesM8haZAMhSRJkiRJ84wth6RBMRiSJEmSJM1DhkPSIBgMSZIkSZLmKcMhaboMhiRJkiRJ81hf4VBErIqIayJiS0Sc32P6n0fEVfVxbUTc1pp2dkRcVx9nD7DukiRJkiRJmqZJO6SOiAXARcDpwDZgY0Ssz8zNTZnM/K1W+V8HTq2vHwJcCKwAEriiznvrQLdCmg0RkDnbtZAkSZIkaVr6aTm0EtiSmVszczewDlg9QfmXA++rr18AXJqZO2ogdCmwajoVluYEbyWTJEmSJB0m+gmHjgdubA1vq+MOEBEnAsuAT0xl3og4NyJGImJkdHS0n3pLs8dgSJIkSZJ0GBl0h9RnAR/MzH1TmSkzL87MFZm5YsmSJQOukiRJkiRJksbTTzi0HTihNby0juvlLDq3lE11Xmnus9WQJEmSJOkw0084tBFYHhHLImIRJQBa310oIh4LLAY+3xp9CXBGRCyOiMXAGXWcJEmSJEmS5oBJf60sM/dGxHmUUGcBsDYzN0XEGmAkM5ug6CxgXWbn55syc0dEvJESMAGsycwdg90E6RCwxZAkSZIk6TA1aTgEkJkbgA1d4y7oGn7DOPOuBdYeZP0kSZIkSZI0gwbdIbUkSZIkSZLmEcMhaSLeTiZJkiRJOsz1dVuZNHQMhSRJkiRJQ8KWQ5IkSZIkSUPMcEiSJEmSJGmIGQ5J3bylTJIkSZI0ROxzSGoYCkmSJEmShpAthyRJkiRJkoaY4ZAkSZIkSdIQMxySJEmSJEkaYoZDkiRJkiRJQ8xwSLIjakmSJEnSEDMc0nAzGJIkSZIkDTnDIQ0vgyFJkiRJkgyHJEmSJEmShpnhkIaTrYYkSZIkSQIMhzSMDIYkSZIkSbpPX+FQRKyKiGsiYktEnD9OmZ+OiM0RsSki3tsavy8irqqP9YOquHRQDIYkSZIkSRpj4WQFImIBcBFwOrAN2BgR6zNzc6vMcuC1wDMz89aI+L7WInZm5hMHW21JkiRJkiQNQj8th1YCWzJza2buBtYBq7vK/CpwUWbeCpCZNw+2mpIkSZIkSZoJ/YRDxwM3toa31XFtjwEeExGfjYjLI2JVa9rRETFSx7+k1woi4txaZmR0dHQq9ZckSZIkSdI0THpb2RSWsxw4DVgKfDoiTsnM24ATM3N7RDwS+EREfCUzr2/PnJkXAxcDrFixIgdUJ6kjAtJTS5IkSZKkbv20HNoOnNAaXlrHtW0D1mfmnsz8BnAtJSwiM7fX563AZcCp06yzNDV2Qi1JkiRJ0rj6CYc2AssjYllELALOArp/dezfKa2GiIjjKLeZbY2IxRFxVGv8M4HNSJIkSZIkaU6Y9LayzNwbEecBlwALgLWZuSki1gAjmbm+TjsjIjYD+4DfzcxbIuIZwDsjYj8liHpz+1fOpBlnqyFJkiRJkibUV59DmbkB2NA17oLW6wReUx/tMp8DTpl+NSVJkiRJkjQT+rmtTJqfbDUkSZIkSdKkDId0eDIYkiRJkiSpL4ZDOvwYDEmSJEmS1DfDIUmSJEmSpCFmOCRJkiRJkjTEDId0+PB2MkmSJEmSpsxwSIcHgyFJkiRJkg6K4ZDmP4MhSZIkSZIOmuGQJEmSJEnSEDMckiRJkiRJGmILZ7sC0kHzdjJJkiRJkqbNlkOanwyGJEmSJEkaCMMhSZIkSZKkIWY4JEmSJEmSNMQMhyRJkiRJkoaY4ZDmF/sakiRJkiRpoAyHJEmSJEmShlhf4VBErIqIayJiS0ScP06Zn46IzRGxKSLe2xp/dkRcVx9nD6riGjIRthqSJEmSJGkGLJysQEQsAC4CTge2ARsjYn1mbm6VWQ68FnhmZt4aEd9Xxz8EuBBYASRwRZ331sFviiRJkiRJkqaqn5ZDK4Etmbk1M3cD64DVXWV+FbioCX0y8+Y6/gXApZm5o067FFg1mKpLkiRJkiRpuvoJh44HbmwNb6vj2h4DPCYiPhsRl0fEqinMS0ScGxEjETEyOjraf+0lSZIkSZI0LYPqkHohsBw4DXg58PcRcWy/M2fmxZm5IjNXLFmyZEBV0mHDvoYkSZIkSZox/YRD24ETWsNL67i2bcD6zNyTmd8ArqWERf3MK0mSJEmSpFnSTzi0EVgeEcsiYhFwFrC+q8y/U1oNERHHUW4z2wpcApwREYsjYjFwRh0n9cdWQ5IkSZIkzahJf60sM/dGxHmUUGcBsDYzN0XEGmAkM9fTCYE2A/uA383MWwAi4o2UgAlgTWbumIkNkSRJkiRJ0tRNGg4BZOYGYEPXuAtarxN4TX10z7sWWDu9amoo2WpIkiRJkqQZN6gOqSVJkiRJkjQPGQ5JkiRJkiQNMcMhSZIkSZKkIWY4pLnHvoYkSZIkSTpkDIckSZIkSZKGmOGQ5hZbDUmSJEmSdEgZDmnuMBiSJEmSJOmQMxySJEmSJEkaYoZDkiRJkiRJQ8xwSHODt5RJkiRJkjQrDIckSZIkSZKGmOGQZp+thiRJkiRJmjWGQ5IkSZIkSUPMcEizy1ZDkiRJkiTNKsMhSZIkSZKkIWY4JEmSJEmSNMQMhzQ7vJ1MkiRJkqQ5oa9wKCJWRcQ1EbElIs7vMf2ciBiNiKvq41da0/a1xq8fZOUlSZIkSZI0PQsnKxARC4CLgNOBbcDGiFifmZu7ir4/M8/rsYidmfnEaddUhw9bDUmSJEmSNGf003JoJbAlM7dm5m5gHbB6Zqulw5bBkCRJkiRJc0o/4dDxwI2t4W11XLeXRsTVEfHBiDihNf7oiBiJiMsj4iW9VhAR59YyI6Ojo31XXpIkSZIkSdMzqA6pPwKclJlPAC4F/qk17cTMXAH8LPAXEfGo7pkz8+LMXJGZK5YsWTKgKkmSJEmSJGky/YRD24F2S6Clddx9MvOWzNxVB/8BeHJr2vb6vBW4DDh1GvWVJEmSJEnSAPUTDm0ElkfEsohYBJwFjPnVsYh4eGvwTOBrdfziiDiqvj4OeCbQ3ZG1hoF9DUmSJEmSNCdN+mtlmbk3Is4DLgEWAGszc1NErAFGMnM98BsRcSawF9gBnFNnfxzwzojYTwmi3tzjV84kSZIkSZI0SyYNhwAycwOwoWvcBa3XrwVe22O+zwGnTLOOmu9sNSRJkiRJ0pw1qA6pJUmSJEmSNA8ZDkmSJEmSJA0xwyFJkiRJkqQhZjgkSZIkSZI0xAyHJEmSJEmShpjhkCRJkiRJ0hAzHNLM8SfsJUmSJEma8wyHJEmSJEmShpjhkGaGrYYkSZIkSZoXDIckSZIkSZKGmOGQBs9WQ5IkSZIkzRuGQ5IkSZIkSUPMcEiSJEmSJGmIGQ5JkiRJkiQNMcMhSZIkSZKkIWY4JEmSJEmSNMQMhzQ4/kqZJEmSJEnzTl/hUESsiohrImJLRJzfY/o5ETEaEVfVx6+0pp0dEdfVx9mDrLwkSZIkSZKmZ+FkBSJiAXARcDqwDdgYEeszc3NX0fdn5nld8z4EuBBYASRwRZ331oHUXnOHrYYkSZIkSZqX+mk5tBLYkplbM3M3sA5Y3efyXwBcmpk7aiB0KbDq4KoqSZIkSZKkQesnHDoeuLE1vK2O6/bSiLg6Ij4YESdMZd6IODciRiJiZHR0tM+qS5IkSZIkaboG1SH1R4CTMvMJlNZB/zSVmTPz4sxckZkrlixZMqAqSZIkSZIkaTL9hEPbgRNaw0vruPtk5i2ZuasO/gPw5H7nlSRJkiRJ0uzpJxzaCCyPiGURsQg4C1jfLhARD28Nngl8rb6+BDgjIhZHxGLgjDpOhws7opYkSZIkaV6b9NfKMnNvRJxHCXUWAGszc1NErAFGMnM98BsRcSawF9gBnFPn3RERb6QETABrMnPHDGyHZoPBkCRJkiRJ896k4RBAZm4ANnSNu6D1+rXAa8eZdy2wdhp1lCRJkiRJ0gwZVIfUGja2GpIkSZIk6bBgOCRJkiRJkjTEDIckSZIkSZKGmOGQJEmSJEnSEDMckiRJkiRJGmKGQ5oaO6KWJEmSJOmwYjgkSZIkSZI0xAyH1D9bDUmSJEmSdNgxHJIkSZIkSRpihkOSJEmSJElDzHBIkiRJkiRpiBkOSZIkSZIkDTHDIUmSJEmSpCFmOKTJ+StlkiRJkiQdtgyHJEmSJEmShpjhkCZmqyFJkiRJkg5rhkMan8GQJEmSJEmHvb7CoYhYFRHXRMSWiDh/gnIvjYiMiBV1+KSI2BkRV9XHOwZVcUmSJEmSJE3fwskKRMQC4CLgdGAbsDEi1mfm5q5yDwReDXyhaxHXZ+YTB1NdSZIkSZIkDVI/LYdWAlsyc2tm7gbWAat7lHsj8Bbg3gHWT5IkSZIkSTOon3DoeODG1vC2Ou4+EfEk4ITM/K8e8y+LiCsj4lMR8axeK4iIcyNiJCJGRkdH+627JEmSJEmSpmnaHVJHxBHA24Hf7jH5JuARmXkq8BrgvRHxoO5CmXlxZq7IzBVLliyZbpUkSZIkSZLUp37Coe3ACa3hpXVc44HA44HLIuIG4GnA+ohYkZm7MvMWgMy8ArgeeMwgKi5JkiRJkqTp6ycc2ggsj4hlEbEIOAtY30zMzNsz87jMPCkzTwIuB87MzJGIWFI7tCYiHgksB7YOfCs0WP6EvSRJkiRJQ2PSXyvLzL0RcR5wCbAAWJuZmyJiDTCSmesnmP3ZwJqI2APsB16ZmTsGUXHNEIMhSZIkSZKGyqThEEBmbgA2dI27YJyyp7Vefwj40DTqJ0mSJEmSpBk07Q6pJUmSJEmSNH8ZDkmSJEmSJA0xwyFJkiRJkqQhZjgkSZIkSZI0xAyHJEmSJEmShpjhkCRJkiRJ0hAzHFIRMds1kCRJkiRJs8BwSAZDkiRJkiQNMcMhSZIkSZKkIWY4JEmSJEmSNMQMh4adt5RJkiRJkjTUDIckSZIkSZKGmOGQJEmSJEnSEDMckiRJkiRJGmKGQ5IkSZIkSUPMcEiSJEmSJGmI9RUORcSqiLgmIrZExPkTlHtpRGRErGiNe22d75qIeMEgKi1JkiRJkqTBWDhZgYhYAFwEnA5sAzZGxPrM3NxV7oHAq4EvtMadDJwF/BDwA8DHIuIxmblvcJuggxIBmbNdC0mSJEmSNMv6aTm0EtiSmVszczewDljdo9wbgbcA97bGrQbWZeauzPwGsKUuT5IkSZIkSXNAP+HQ8cCNreFtddx9IuJJwAmZ+V9TnbfOf25EjETEyOjoaF8VlyRJkiRJ0vRNu0PqiDgCeDvw2we7jMy8ODNXZOaKJUuWTLdKmkzEbNdAkiRJkiTNEZP2OQRsB05oDS+t4xoPBB4PXBYldPh+YH1EnNnHvJIkSZIkSZpF/bQc2ggsj4hlEbGI0sH0+mZiZt6emcdl5kmZeRJwOXBmZo7UcmdFxFERsQxYDnxx4FshSZIkSZKkgzJpy6HM3BsR5wGXAAuAtZm5KSLWACOZuX6CeTdFxAeAzcBe4FX+UpkkSZIkSdLc0c9tZWTmBmBD17gLxil7Wtfwm4A3HWT9JEmSJEmSNIOm3SG1JEmSJEmS5i/DIUmSJEmSpCFmODRM/Al7SZIkSZLUxXBIkiRJkiRpiBkOSZIkSZIkDTHDoWHhLWWSJEmSJKkHwyFJkiRJkqQhZjg0DGw1JEmSJEmSxmE4JEmSJEmSNMQMhyRJkiRJkoaY4ZAkSZIkSdIQMxySJEmSJEkaYoZDkiRJkiRJQ8xwSJIkSZIkaYgZDkmSJEmSJA0xwyFJkiRJkqQhZjh0OIuY7RpIkiRJkqQ5rq9wKCJWRcQ1EbElIs7vMf2VEfGViLgqIv43Ik6u40+KiJ11/FUR8Y5Bb4AkSZIkSZIO3sLJCkTEAuAi4HRgG7AxItZn5uZWsfdm5jtq+TOBtwOr6rTrM/OJA621JEmSJEmSBqKflkMrgS2ZuTUzdwPrgNXtApl5R2vwAUAOroo6KN5SJkmSJEmS+tBPOHQ8cGNreFsdN0ZEvCoirgfeCvxGa9KyiLgyIj4VEc/qtYKIODciRiJiZHR0dArVlyRJkiRJ0nQMrEPqzLwoMx8F/D7w+jr6JuARmXkq8BrgvRHxoB7zXpyZKzJzxZIlSwZVJUmSJEmSJE2in3BoO3BCa3hpHTeedcBLADJzV2beUl9fAVwPPOagaipJkiRJkqSB6ycc2ggsj4hlEbEIOAtY3y4QEctbgz8GXFfHL6kdWhMRjwSWA1sHUXFJkiRJkiRN36S/VpaZeyPiPOASYAGwNjM3RcQaYCQz1wPnRcTzgT3ArcDZdfZnA2siYg+wH3hlZu6YiQ2RJEmSJEnS1E0aDgFk5gZgQ9e4C1qvXz3OfB8CPjSdCkqSJEmSJGnmDKxDas0R/oS9JEmSJEmaAsMhSZIkSZKkIWY4JEmSJEmSNMQMhyRJkiRJkoaY4dDhxP6GJEmSJEnSFBkOSZIkSZIkDTHDocOFrYYkSZIkSdJBMBySJEmSJEkaYoZDkiRJkiRJQ8xwSJIkSZIkaYgZDkmSJEmSJA0xwyFJkiRJkqQhZjgkSZIkSZI0xAyHJEmSJEmShpjhkCRJkiRJ0hAzHJrvIma7BpIkSZIkaR4zHJIkSZIkSRpifYVDEbEqIq6JiC0RcX6P6a+MiK9ExFUR8b8RcXJr2mvrfNdExAsGWXlJkiRJkiRNz6ThUEQsAC4CXgicDLy8Hf5U783MUzLzicBbgbfXeU8GzgJ+CFgF/G1dngbBW8okSZIkSdI09dNyaCWwJTO3ZuZuYB2wul0gM+9oDT4AyPp6NbAuM3dl5jeALXV5kiRJkiRJmgMW9lHmeODG1vA24KndhSLiVcBrgEXAj7bmvbxr3uN7zHsucC7AIx7xiH7qLUmSJEmSpAEYWIfUmXlRZj4K+H3g9VOc9+LMXJGZK5YsWTKoKkmSJEmSJGkS/YRD24ETWsNL67jxrANecpDzSpIkSZIk6RDqJxzaCCyPiGURsYjSwfT6doGIWN4a/DHguvp6PXBWRBwVEcuA5cAXp19tSZIkSZIkDcKkfQ5l5t6IOA+4BFgArM3MTRGxBhjJzPXAeRHxfGAPcCtwdp13U0R8ANgM7AVelZn7ZmhbJEmSJEmSNEX9dEhNZm4ANnSNu6D1+tUTzPsm4E0HW0FJkiRJkiTNnIF1SC1JkiRJkqT5x3BIkiRJkiRpiBkOSZIkSZIkDTHDofkoYrZrIEmSJEmSDhOGQ5IkSZIkSUPMcEiSJEmSJGmIGQ5JkiRJkiQNMcOh+cb+hiRJkiRJ0gAZDkmSJEmSJA0xwyFJkiRJkqQhZjgkSZIkSZI0xAyHJEmSJEmShpjh0HxiZ9SSJEmSJGnADIckSZIkSZKGmOGQJEmSJEnSEDMckiRJkiRJGmKGQ5IkSZIkSUOsr3AoIlZFxDURsSUizu8x/TURsTkiro6Ij0fEia1p+yLiqvpYP8jKS5IkSZIkaXoWTlYgIhYAFwGnA9uAjRGxPjM3t4pdCazIzHsi4v8CbwV+pk7bmZlPHGy1JUmSJEmSNAj9tBxaCWzJzK2ZuRtYB6xuF8jMT2bmPXXwcmDpYKspSZIkSZKkmdBPOHQ8cGNreFsdN55XAB9tDR8dESMRcXlEvKTXDBFxbi0zMjo62keVJEmSJEmSNAiT3lY2FRHx88AK4Dmt0Sdm5vaIeCTwiYj4SmZe354vMy8GLgZYsWJFDrJOkiRJkiRJGl8/LYe2Aye0hpfWcWNExPOB1wFnZuauZnxmbq/PW4HLgFOnUV9JkiRJkiQNUD/h0EZgeUQsi4hFwFnAmF8di4hTgXdSgqGbW+MXR8RR9fVxwDOBdkfW6kfEbNdAkiRJkiQdpia9rSwz90bEecAlwAJgbWZuiog1wEhmrgfeBhwD/GuUIONbmXkm8DjgnRGxnxJEvbnrV84kSZIkSZI0i/rqcygzNwAbusZd0Hr9/HHm+xxwynQqKEmSJEmSpJnTz21lkiRJkiRJOkwZDs119jckSZIkSZJmkOGQJEmSJEnSEDMckiRJkiRJGmKGQ5IkSZIkSUPMcEiSJEmSJGmIGQ5JkiRJkiQNMcMhSZIkSZKkIWY4JEmSJEmSNMQMhyRJkiRJkoaY4ZAkSZIkSdIQMxySJEmSJEkaYoZDc1XEbNdAkiRJkiQNAcMhSZIkSZKkIWY4JEmSJEmSNMQMhyRJkiRJkoaY4dBcZH9DkiRJkiTpEOkrHIqIVRFxTURsiYjze0x/TURsjoirI+LjEXFia9rZEXFdfZw9yMpLkiRJkiRpeiYNhyJiAXAR8ELgZODlEXFyV7ErgRWZ+QTgg8Bb67wPAS4EngqsBC6MiMWDq74kSZIkSZKmo5+WQyuBLZm5NTN3A+uA1e0CmfnJzLynDl4OLK2vXwBcmpk7MvNW4FJg1WCqLkmSJEmSpOnqJxw6HrixNbytjhvPK4CPTmXeiDg3IkYiYmR0dLSPKh3G7G9IkiRJkiQdQgPtkDoifh5YAbxtKvNl5sWZuSIzVyxZsmSQVZIkSZIkSdIE+gmHtgMntIaX1nFjRMTzgdcBZ2bmrqnMK0mSJEmSpNnRTzi0EVgeEcsiYhFwFrC+XSAiTgXeSQmGbm5NugQ4IyIW146oz6jjJEmSJEmSNAcsnKxAZu6NiPMooc4CYG1mboqINcBIZq6n3EZ2DPCvUfrM+VZmnpmZOyLijZSACWBNZu6YkS2RJEmSJEnSlE0aDgFk5gZgQ9e4C1qvnz/BvGuBtQdbQUmSJEmSJM2cgXZILUmSJEmSpPnFcEiSJEmSJGmIGQ5JkiRJkiQNMcMhSZIkSZKkIWY4JEmSJEmSNMQMhyRJkiRJkoaY4ZAkSZIkSdIQMxySJEmSJEkaYoZDkiRJkiRJQ8xwSJIkSZIkaYgZDs0VEbNdA0mSJEmSNIQMhyRJkiRJkoaY4ZAkSZIkSdIQMxySJEmSJEkaYoZDc4H9DUmSJEmSpFliOCRJkiRJkjTEDIckSZIkSZKGWF/hUESsiohrImJLRJzfY/qzI+JLEbE3Il7WNW1fRFxVH+sHVXFJkiRJkiRN38LJCkTEAuAi4HRgG7AxItZn5uZWsW8B5wC/02MROzPzidOvqiRJkiRJkgZt0nAIWAlsycytABGxDlgN3BcOZeYNddr+GaijJEmSJEmSZkg/t5UdD9zYGt5Wx/Xr6IgYiYjLI+IlvQpExLm1zMjo6OgUFi1JkiRJkqTpOBQdUp+YmSuAnwX+IiIe1V0gMy/OzBWZuWLJkiWHoEqSJEmSJEmC/sKh7cAJreGldVxfMnN7fd4KXAacOoX6SZIkSZIkaQb1Ew5tBJZHxLKIWAScBfT1q2MRsTgijqqvjwOeSauvIkmSJEmSJM2uScOhzNwLnAdcAnwN+EBmboqINRFxJkBEPCUitgE/BbwzIjbV2R8HjETEl4FPAm/u+pUzSZIkSZIkzaJ+fq2MzNwAbOgad0Hr9UbK7Wbd830OOGWadZQkSZIkSdIMORQdUkuSJEmSJGmOMhySJEmSJEkaYoZDsylitmsgSZIkSZKGnOGQJEmSJEnSEDMckiRJkiRJGmKGQ5IkSZIkSUPMcEiSJEmSJGmIGQ7NFjujliRJkiRJc4DhkCRJkiRJ0hAzHJIkSZIkSRpihkOSJEmSJElDzHBIkiRJkiRpiBkOSZIkSZIkDTHDIUmSJEmSpCFmODQb/Bl7SZIkSZI0RxgOSZIkSZIkDTHDIUmSJEmSpCHWVzgUEasi4pqI2BIR5/eY/uyI+FJE7I2Il3VNOzsirquPswdVcUmSJEmSJE3fpOFQRCwALgJeCJwMvDwiTu4q9i3gHOC9XfM+BLgQeCqwErgwIhZPv9qSJEmSJEkahH5aDq0EtmTm1szcDawDVrcLZOYNmXk1sL9r3hcAl2bmjsy8FbgUWDWAekuSJEmSJGkA+gmHjgdubA1vq+P60de8EXFuRIxExMjo6Gifi5YkSZIkSdJ0zYkOqTPz4sxckZkrlixZMtvVkSRJkiRJGhr9hEPbgRNaw0vruH5MZ15JkiRJkiTNsH7CoY3A8ohYFhGLgLOA9X0u/xLgjIhYXDuiPqOOkyRJkiRJ0hwwaTiUmXuB8yihzteAD2TmpohYExFnAkTEUyJiG/BTwDsjYlOddwfwRkrAtBFYU8dJkiRJkiRpDljYT6HM3ABs6Bp3Qev1RsotY73mXQusnUYdJUmSJEmSNEPmRIfUkiRJkiRJmh2GQ5IkSZIkSUPMcEiSJEmSJGmIGQ5JkiRJkiQNMcOhQylitmsgSZIkSZI0huGQJEmSJEnSEDMckiRJkiRJGmKGQ5IkSZIkSUPMcEiSJEmSJGmIGQ5JkiRJkiQNMcOhQ8VfKpMkSZIkSXOQ4ZAkSZIkSdIQMxySJEmSJEkaYoZDkiRJkiRJQ8xwSJIkSZIkaYgZDkmSJEmSJA0xwyFJkiRJkqQh1lc4FBGrIuKaiNgSEef3mH5URLy/Tv9CRJxUx58UETsj4qr6eMeA6y9JkiRJkqRpWDhZgYhYAFwEnA5sAzZGxPrM3Nwq9grg1sx8dEScBbwF+Jk67frMfOJgqy1JkiRJkqRB6Kfl0EpgS2ZuzczdwDpgdVeZ1cA/1dcfBJ4XETG4akqSJEmSJGkm9BMOHQ/c2BreVsf1LJOZe4HbgYfWacsi4sqI+FREPKvXCiLi3IgYiYiR0dHRKW2AJEmSJEmSDt5Md0h9E/CIzDwVeA3w3oh4UHehzLw4M1dk5oolS5bMcJUkSZIkSZLU6Ccc2g6c0BpeWsf1LBMRC4EHA7dk5q7MvAUgM68ArgceM91KS5IkSZIkaTD6CYc2AssjYllELALOAtZ3lVkPnF1fvwz4RGZmRCypHVoTEY8ElgNbB1N1SZIkSZIkTdekv1aWmXsj4jzgEmABsDYzN0XEGmAkM9cD/wj8c0RsAXZQAiSAZwNrImIPsB94ZWbumIkNkSRJkiRJ0tRNGg4BZOYGYEPXuAtar+8FfqrHfB8CPjTNOkqSJEmSJGmGzHSH1JIkSZIkSZrDDIckSZIkSZKGmOGQJEmSJEnSEDMckiRJkiRJGmKGQ5IkSZIkSUPMcGimRcx2DSRJkiRJksZlOCRJkiRJkjTEDIckSZIkSZKGmOGQJEmSJEnSEDMckiRJkiRJGmKGQ5IkSZIkSUPMcEiSJEmSJGmIGQ7NJH/GXpIkSZIkzXGGQ5IkSZIkSUPMcEiSJEmSJGmIGQ5JkiRJkiQNMcMhSZIkSZKkIdZXOBQRqyLimojYEhHn95h+VES8v07/QkSc1Jr22jr+moh4wQDrLkmSJEmSpGmaNByKiAXARcALgZOBl0fEyV3FXgHcmpmPBv4ceEud92TgLOCHgFXA39blSZIkSZIkaQ7op+XQSmBLZm7NzN3AOmB1V5nVwD/V1x8EnhcRUcevy8xdmfkNYEtdniRJkiRJkuaAhX2UOR64sTW8DXjqeGUyc29E3A48tI6/vGve47tXEBHnAufWwbsi4pq+aj/3HQdARDP8QCLuvO813DngaQeWnS/TwGlOm9q0qb4/mnEz+35slv89YNkE8x24nIOZ1l7voJY5+bRv0Hy29T5m36vT22Xb+6nsm17HunOMmmU02svsrgvjrm/sMjvbc+C5deB8vddB17Spnq/tbe/exvZ8nfOn937pta97HaNmfd3bV+br1Ik63D2+LCOiqeeB6+s+B8cus3kPdIbb+3PscZ7ovdqp49j1jJ3vwDqMXcfY9fVa5vfoOI72drSP2dhtfmDXtPZyu6eNrfvYfdWpS3/b3WsZxx2wDRO/5zrH9sBj32jP114PrfnoWk5nuH2eN8seO627nmP3Ye9zsvv1gedd5zzrtV+aeZpj3D7WnXEHfq73OmbNPO1t637vjLedzTIPrPeBdWu/jw/cp931Gbuvu7exuy7tce3j13ta9zaPHdd7Xd117F7+gefE+PO2x0+8nLF1PnCbei+z1/he509nWrve3fXqvS869YQD6z9RHTsmKjv++gdjKvWc++ucynGfvA6963ko91ev9+qBn6kHfub1t+yDO6/G/n2YfPkd/Z3nU6nHdI7DRJ8F882J403oJxyacZl5MXDxbNdj0CJipGvUEuAbPV4PatqhWIfTnDZfp3WbifUBkJkrIuLuSeoyX7ZpzLS6bSPjzdea3i57X7ke++aA7elaB72W0ywf7vus7bm+SfZR9zb1nNZax3jL6Wt/tre9exvbZcc5fw7YDxPtl4gYaZYzwXy0t697/HjjemzvGK1l3retzfB465tomRMcg3Hnm6T+PZfZjGvXr3s7JjlmI13LPWB/j7dtvbZvku3uWa7X8sZ7z022b9rbPtk+G2+/TvBeHrfsZOdkr+V2Le/u8Y5lW3v5E5yX4+7vcfbzSK/nyfZJd717LOfu7uUeTH16lem1n3qV73f+yebtd3njzTvZurq3fbJl9buu8eZp13ui4989vRk3lTpOpV691j8oM7Xc2VjnVI57P3U42PkGZaLzfqLPvKkse6rbM977e7K6T1a/g6nHdI7DbJz3s6Gf28q2Aye0hpfWcT3LRMRC4MHALX3OK0mSJEmSpFnSTzi0EVgeEcsiYhGlg+n1XWXWA2fX1y8DPpGZWcefFeXXzJYBy4EvDqbqkiRJkiRJmq5JbyvL0ofQecAlwAJgbWZuiog1wEhmrgf+EfjniNgC7KAESNRyHwA2A3uBV2Xmvhnalrmo+1a5ZwGf6fF6UNMOxTqc5rT5Oq3bTKyv7cOT1GW+bFP3NOh8to0338VdZbuX+eFx5mvr/vzsXs6zekwbb31tvbZvvPm61zHecqayP9vbPtEyu8+fdj167evxjtGHJ5ive7nd48cbN9H+bevehg+3Xncvu59l9rr9fKL5JtqmiZbZPb7fYzbRfurn1vl+6jKV+cfbhonq3K3Xedir3ETrnmyfj1d2suM33n75cNfwZPt1snVOZqL5p1L3id4fHx5n/FTrM9H6D/aYTXdd45XpZ/x0zruprqufaRMd/4nG97Oug6nXTHXZMRtdgRzqbennvB3kfIPSz3uin8/RiZY91e052L9hk807U/WYqfnnhSgNfCRJkiRJkjSM+rmtTJIkSZIkSYcpwyFJkiRJkqRhlpk+BvCg/CrbCLAPSB8+fPjw4cPHnH3snQN18DG4x/5xxu1vTdsP7O5x7HvNezCPe+tjUMub7v7Y3zXcvd37an2/V6fta82zHbinVXYXpU/R/V3jbm/N34zfCXy7jmvqcUtr+fvrem+p8++sy8o6z9nA11vruhvYVMd1b8OeWte9jK1b8118V13+7tZ+2FmfN9ZtvKOO2wm8vX6nH+mxL/cBd7Xq2j53+j3m410jXAF8qjXcbM/uWr876Jy7u4Bv1n1yZ92XtwPXA5cCf1mn3VSX9Q3gKuBd9fmqWnZ/LXM+sBa4Gfhq67rmIXV519XnxXX877aW89W6TQ+p036rrvurwPuAoye4buq1zp+q8+8HVrTGPxT4ZN3/f9O1nMuAa1p1+r4Jln1r3SdbWnW4nc779h7gPa06NOdpc67tBL5cXzfH6t3Ay+sxubeO21QfXwHOqfW6oc6fwLvq+hdR+rG5lnJ+v7SffVWH76bzvmzeW7ta29icR3fU7WqmN+fqzrqM9vndPk9vBm6jnHf3Al8AjgUeUbf/zrrv9tc67Khl99H5bLmt7r/9dR98vbXv9lPeZ5tqndvvoeZ4vLbWo/3+fhbwwLq8HXQ+E+5u7a+31nXfSzlnXlzHB/BXwBbgauBJdV/uqPtoUx3/ofp8FfA/wA/U+X+ujv8K8Dngh+v4oyk/uPXluow/mu1cYlqZxmxX4HB5AA+ndMT9a8Bqyh+r5oNkJ+WPZ/OGa07wPfXR/qPY6w98rz8m++sJ3/4DeDdj/1Dtbr2p91I+PHcy9kNj3zjLn+wx1S/W423HZH9U9/UxvZ/lHMwf6+5ldpebThA4iC+Ps/kFdKrbPht17Wed3V+gp7LMg33fjPdlsvuLfK/pc+Gio5993b0t011280Wj/aWm137p9Xo232v3TrKc21uvv9N6vY8DL3Z6PbrPwfaXruZxR2vcrtbrDXUdo/X5rh7rbi4ob+laz17GfgFtr7uZ3hyz5m/Fna3l76PzZbVZx97Wcrr/Tnb/XWt/Eb6tNf3e1rS9lL+J7XU2y9gJXNlafzP9JspF0Hda+6NZ3+a6DXfVee7u2r6ttT7NfujeH7u66pCt+jX12EXn73b38W1ef69O/1pr2buBj7X2Qa/z7eOt/dJebvO+ururzh+t+7Z9ft5at7MZd1trPXcD/9CqexOUNNM/T7lgfBOdc39nXed1dC7gm7o1x7197LrP9/Z+bMpuonzXacpcRefieX0tt53OebCvVY9mf+6sz80F0I11WnMMm/XeU9f98Vbd7qVc6LXreQudoKU5h5v9t6/u2/Z7dmer7B46ocx1dTl76jKa92BTfl9rPU09/x/wrbrNzfjmPf8JSmfje2qdP0P5vGj2wT7gQkpwsbvuwz9t7YufpIQM9wCvoPM99Kq6366mXNR/py5rS13Gdyjn0cfqck+jnM/7gf+t9bqlzt9s0w/W47CDcrG4vtbz85RAoin3YkrI8iXK+/mU+h39c7Xe/wM8sZb9mVr/O4D7Az9e9+mjKRfyf1qP54fq+D31uTnGe+pyrql1/2bdB81nQnPcmvd289nRfKZuq9u4nXIu/DslVGs+R66gXMjeCfwd8Ok67dOUz6O3UoKdd9VlvwX427rcI+s+2A1c2HW9soASGN0GPJhyQfsLlAvldpjyVuD8+vp84C09rn1eTPmFaoDj63LvV4c/AJwzwXXTs3us83H1WF/G2HDoAcCPAK+kdzi0os9l/xwlkNjSKveT9XiOUs7Jt9Y6XE45Z/+G8nl4F+Uz7P6Uz7GfoJzvV9Z9+XTg5LrPP1iX/9C6vx9KeR8+m3LO/RPwPOCPgD+uZY8AjutnX9XhX6v1eXat3511+AxKULETuAh4O+V8/h/K37f/qHV8POVcvrvOt7Uu4wbKj1DdTDmn31rr9leUc+yDlKDuz+s+uZRyTv8icL96Dvwj8DbK36tP1PUspJzvfwY8hfKev7su9+uUz6p3Uc7fO4Hr67aeATwTeC7lffWWOv5ngXV1+79Gec+cVKe9F/iV+vq3KD+mBfCiuq8CeBol8Ho28BLg2lrmByifUcfW4d8A3lFfP4NOSPpC4Av1dQDH1NdH1uU+bbaziYN9eFvZgGTmTZm5LjP/NjP/g/LhcyflDfVVygfPXsbeyreA8ma5vQ73Oh4xwWqPqtOTcjLev1U+6rgjKB8QAMsof5gaR1D+QO3uZxO7nqNruB8Tlc0JXk80X3BgnaZq/wTT2l9Au03n/TPVuo63D/ZNMs9kx3bvFOvRvfxerxvNRWly4PZO5byZCc0xb58/jcnOucbBHP8Y53V7uLnI6DX9YM/xfh3McdlPZz/2mn+6dd5D5/MsKOfsgh7L3981HAxunx3s+drMt79ruHFU6/XdXfM1dZ/Kunudk/e0nptfKN1H+WzYA/wznQtr6jrby9lL+S9dt0Vdw+393Byfna3X92/V8QjKtt9DZxubde6vr/e3xjfL3lu3IehcvN6vNX1Bq/xtre1t1tks/x7gsXQ+H5t5knKh9lDKfwKbdR5R98ENdX23U/bdIjrH9qN1eGFdTrPd7fdF9/E5slUm6jzt490u32xjc54c25q2j9J6GcqFRxPwNS0kknLh3wRJTfgH5Ut7W7P+HwaOaY1v6tYEElnX1cyzlXKh0D5WC1r1OAL4TWB5LX8M5eL5duBBlPPhO3T+Jh1B5zyFzgV2W7TKNuft0Yw9F5tz6EbgxDr80K75g7Hv0fbfzW9TzommXPd5vodyzJv3z5F0jlG2xrWPa7ONixgb/kV9bj4XmvVd3xpeVLdnIWW/QTnXm/3QfN9rb8suyn5pf9e5FXgUsILyt/o2ysVzO4wLSquGf6/zHkUnNL2TEupsrOs9lnIu3Ul5r+wG3peZt1BCrf2U909Sjvk+4KRa39+iXIjuo5wXJ9b539PaVz9HJ0zbRrmw3V7rfm5d/rcoIccbaz02Z+ZXIuIllAt/KMHVT9d6n1j34x2ZeU+t97coYcFiyjlzDyUgO4bO3yEox2EBJVg5vk5bTDkfmvftA2r9A/gunc+YBZRz5Frg3+p8d1PeG83nxy7KP51fUOd9MOUYHkEnOF1NCRl+tO6/l1BC/+Mo77XP1Xrcxlgr63b9V2beTrnAXkp5P7Y1y6c+v4QDvZzSQqixELhfRCykfOZ/u8c8AGTmp7vXmZlfy8xrepS9OzP/lwM/r6a67H+h9b23lvsS5dzeSfkcu7lVh4WU98V7WvPck5mvo4RCUI7jgrqtJ9H5ZzyZeUuWX+l+JOV9sIqyvz8GvBT4ZUoISWbuz8zv9bM9dXhD6/W/UT9jMvN/KEF989nyGUrI88Bar3dTzsVNlPN5b31uwvm7a5ljKSHR8Zm5nxIIPY0S/nyKcs7spLYKzMz3ZOZOymfGIsrfpNvp/O0/A7g6M3+H8n5s/k4tr9PvooS9H6X8nV3XbE9mfhY4vZZf2uwGyntslPIe2g/cEREPpgR1/1jLHU3nb8dq4D1ZXF638TrK58Luur5vU95zS+o8D2jt289l5q11/OVNXery7qrjj+TAz/z5ZbbTqcPxQflwaL7k7Kd8YHyXsf9JmspjJm9V20Pnv5cz/ZjOf/DnaouJmT4+Pnwc6sdE5/PuQ7D+g31M9Bmx5xCsf74+dszgsnfN4LKn+9jP2JYx8+lxD2Nb795B5/xvWlA0t/sknVY8TVAz2XFpbp/p3l/b6dxuMd587fLd05vbj5ppTUupva35u29nmuj49TOteb239eh3P++r+/Ea+v+e1M++OdhH06Kpu0Vis30Tzduep7ndqKnrNYxt2XR7a3lLKf8Fbz5Dm2m7KS0ImlZSzT9AmxZXOymtPO5P51zaD/xXa1/soXPbR3OLzLV0Wns9rVXHf631bi4om+Xdw4GfYd+r075LaRXweUrLm/3ABZQA4CrgrymtKppz+9uU1jp/TQlWLqh1+ihjW8Rd29pfX2htT7sFWvd+b27juqdV9g7gD1r77f9RWqq0W0/up1z8bqG0bNpHaan21brPmtvvnk75PAs6rZfuqs831G34oXqN8rK6rT9eh3+B0jrmJMa2tLmt9Traw3Xc/eu+f0hr3KvrekeBf+nzeumrPcZfRldroDr+HHq3HPpKPaZ/SOeXuMdb9uXUlkN1+OR6XD5DCTZ+p1Vub93Hm+nchnUlJRz5qTq8jdKK5w7K+2M35Zz7EvB7dVmLa7lvUoL3D9VjciPlHPwS5Rx/WL/7qj1MCZu+3TW8ox7Xj9Tlv7M1fC+lpc/uWq+mFe4XKOfWy+gErt+odfsYJUg5BviTOt9m4D+Be1r1+sW6vHsp5+2auqxtlPdks47vUBpS3EunRdyCOm4/8Piu7b++Ho+fr8NHUgKkptXr9jr+iXRu8dpd98OJddp/Aj/SWubHKQF5e1+upLREelM9Pl8FlvQ4Hr8D/ENreAHlHLyLHq3s5tPDlkMDFhHHUJrsLabTFH8XY//Ld0d9btLrnMIqmrJ7WuMOpvVHs5wm3W/s6Zo+V7T/WzdRa5l+DHrbhuV9NNfOienotS39jutH+xxtviROxyDrNpmJzueFXcPd29Zdp4la5fVjvPl7bXt3C6F2i7/uevezvOlqnwO7OXBbms/tpp7t6dsY+xnfr17nWq/Py+bCDMrfpuY/Xt+r45vbcu7hwNaH3dsx0b7rbl3Uj4laO7bX1bQcavTaX+PVLSnny1Fdy7iT/v6+9Fru3T3GNWWbi79u7cCgX/so/wltWib9NZ3WCUnZf/erZR5SyzT/yT2iPjetH75FOcbt/8YnnRY47XoFpcXND9BpudW0qNlPuUhoH7s7W6+vqGWaWyyaC/yFdC4IqHV5eGuZeygXJu1th05rwl7atxxCueCmbmNz0X0HnYuhpi5NgNHcmtiEaQ+k9LFxPzrf55pj1g7lmn3VBB1NPRu31eek3CLR1KlpHbWvNb37PdacJ0cxNoRopl1Dp5XWRxkbRv0j5YL0bjqtBb+fTotPKP8hb7ZlP+W4NNvwNUoLgGZ/fKeOX0j5L3xzzj2Mzi1jd9dln08JE2+mXLjeRmk5sbuW20ynlWC7Bf0xlAvwT9Rx+ykhzyV13G10PsOOpHyG7aJcyO2hnGdZy36EcmH7s5QL2/NqXT9f99EptY7fqct9WB3/y8Dza32ez9jWsX9P5z3UbiGwm7HvmfZxfBCd1ldQLtbvpfTfs6C+/i6lhX9zTjYtRfZR3rdfZaw9mflYyv5+Y133o2qdTqe0yLiV0orkryktwKj7a3Hdn33JcvXb/Tn1YuCzmbkDICIWU86JZZTPiQdExM/3u45p+LnMPIXSF82zKGHXVPwm5W9f92f/MZTWVY+ltLA9Cjg5M08FXkPp2+koyu1zLwVOpRyHIyjvmx8BfiIinpeltcmfU95r76DTim4p8LnMfBLlnPyzKdadiHhdrfudXcP3AE+mtFr6Zl3+k+kE9H9COVfeSTn37k/nc+p8yjl/U53/AZTQ5HVZWsicRglgen1HezHlO8zbKC3eLqd8Rv0FnZY/51D+Pj2acnvnZyi3nP039bM2M+873yPiqbUOAP9Sn1fW7fxmXd5xEfFIymfTk4BzM3MR5Vjc1/JrIhHxcMqx/qXMfF1mnlDXd15XuedSbqX9/WZcZu7LzCfW7VsZEY/vZ51z0bBc1B4SEXEkpWnfoyh/6G6lvBEeRucP+X46X5ibZtqThTu9mpa3m6xPpteX5uYPXfe6F7Sm91r+eBc4k5nsC/Bk29H9JXUq83ab6vwzGYrMRGgw3vTprutgbs+ZqX3Xz3ZPVKZ9EdOUja5hGHu7QaOfwKN921Nzu0BzsXIw51uv9+N4t8RNN5CZyGS3unVPn+7fmPHm7+dcbN+ONJmJyjVfsibS65i1z4H2hVhjYY/p+ykXfj9Apzn+VI5nr9voetU9GNs3SfOl66GUL4uPoHNrVnfA031Msuu5cRtj/z70+1nQvkju1t62hYx9Hy+gf81y2iELlCCg+9alXn/juuu2e5xyzboWMvZ4N/MvYOw2Nbf3TRSQ3cPYi5iXUy70Gs0tJ43mP8Ttz4bmgv7hdIKgRrMd3XWDciF0bH19PzpBzhGUC6XmXMs6vfGDdDolTcq+OKK+flar3ne05j2Cci6e0FpOc9tV+3a8JgxqLswX1Ho0ZV5at+njlODmXjpBT9Oi+4jW/IvohLlNC5UmjGlu62o+05uw5vN0jukxdN5PTR2gc4yCEohR57+DsbfeNEFJ+x+BTWuU5v19DJ3zdpTOd7yFlBCluUUxKKHAMZRjfA+d28v+sz7fWcseSef43L/uo/3AYyi3mBwB3JqZP1jXNwr8f5QWEAvphIk/UJd1F6XVwHcoLYxuB36McrG5kXKx+H10Pn++r+7bR9bHoyihUrPP/rbup3+jXEj+Zt13n6PTOuDDlECoOXZX1n38lroPvp8S0nyc8v38WkpQ96nMfDLwQ5SL92sz8+uUi+f9td6bWstdSKcPp910zvtb6YSM1G1rPi/vz9jbW59cy19Xl3k05X0KnVssf6Iu+x7KdcTn6vzPoFyAfrdezH6bcpvsLXTe6++inJcPolzoLwKOjIjj6nZ+LzOb82YpnaC3rVl+c9F8c9f0sxh7S9nzgW9k5mhd9odrXWdUZm6vz3dS+ppZOcVFPJFybjyN8nn6BxFxHuXvwdMi4gZKGBSUFmhk5hV0PtOvquOup4QidwA/mOVWxQ2UoALKfv7jzHw65fz/KuXYfrhO/9dW2X4dS2lR9uoew/en3BJ3F+W2zB+htJD5XTqfA/dSWgQ9jHJ8l1Fuk2w+236U0kH8wyifE2+t+2MlJQh8LCUoul9EnBcR59RpX6acD++gvMea20Gb1kc/T9mf36OETEvrfltRx3X/HV5D7UO3BpVQAt9NlOPwWcq+XFHXsy0zv1DLvZ3Oft3O2L8p7XP/CErLxtdlueWs8S+UvyMARMQTKIHr6iy3zY6RmbdRbsFb1T1tvjAcGpCICMp/aJ5COYGbZq3Nl5VFlDfof1OaI0Lni03zAdN0Ht18gWvm/15r+jdb05oLinZfCr00XyKa/yRBp0PD9hfjXYx9Q7YvmJtOEJv5m3VN9h/5tonOt8laBjXT2/8R7DVvPxcgvS6oJ5r/YEKRgzHRReAgLvhv7zFuqv+xnqp+j81k29d8iWn+wz3ZMel1kdzW/tLefeHenrfd+qTRfR63695rG5vy7X4kJjLR9F7hTPfweO+zgw2Sx9P9PmwH4M3nWHvftG/v6KV94druXL8Z174tYkdrvl30fk+P1zdBr/3Q/sxtbnVo7OPAoKdbr2PWXk/7QntHV7nmQu5uOhfquykBTXvZ4+279vuyuY2orX1Mt7WmP4BOcHF3a/ouShP9pHPP/USaL3jdn6Pd/RR1ny9Nuea5+z/u3YFor+N2P8r272FsPzrQOV+g03Fse/lNy6PmFpn9lL/Rvfr9mexvxELGfqZ06/VeaOrVBELti/9m23dRLrCb9TbhxULKRfZuSijTLDPpHNdFrfkeWLetuTi9hXJBczOdQKYp24SGWyj/yW23cLuDTofUTf8QUC5yH0TnmN/G2D7nNlKOR9OP0J66bdvotERp3mNNILO71rMdqjfn8q10vgs0524TBl9T5/tuHf/VOu00SkupYygtTBZSLgya4/uA1jKOoBOYNHU6sq7/djrv4V21/CmtOu5k7He85rOoOea7gTNbr+9P+dvQ/oxp+uJqNMdtf93e9ne54+iEUUm5OKa1vldSLhh3UN6nP1uX8aJar5G6T55KCR+ajs6/RDnGv0FpRbMI+PeIeFKty4NrmVfW5b2qruNWygXhQsrF6JspF1ZNOPNgysX4yXVd36K0uFhT1/thSiuAUzPzJDq3Hn6IchvP5ykd0z6c8v5/HKV12YPqPvwaneP3hfr6TykdXV9cl/dWSr9C76Wcq8vqvjqr2YcRcWrdjpsoF7L/VcvsrsNNH0mn0mlpeTNjW4neRqcPoYV0gt1dlPO+Of7fq9NW0um8fifl4nILJXD7Q0qLhtvrcbqZ0in32ZSWGcfVffdoyvn96Lr/b6EEhN+m895/OrAgIpZFxKK63es5ULN86vN/NBNqvy7PaY+jHMunRcT96zXR8yjHY8ZExMIaeDX/oP9xDmxhNZmfpgSFl1PCrj/JzL+hfD69uJ6Hzfn5i3Vdf0M553ZRjsXJEbGE0hrrAcC3ar9LzwE2R8QRlP28rraw+jVKwPARymcTlP21eQr1fg7luJ9JeS8/oDX81Fq/pOyTZ1M6UL6UErBCCVg3UG7N+i6dVqeLKO+JyyktZn6PEhBvyMyT6v74Y8p7++uUa9+m5dIf1GX/cN2vp9H5LL6EEoqeQmldtIfSeqhp+fp/Kfv/abS+J0XECykh1U92bf+36ASU96uPr2fmd4DRiPjBWu4VdAL49cAvRvE04PbMvInOP8Xek5kfjIjlrfWsrttJRDyC8j77hcy8tlXHJRFxbH19P0rLva8zX832fW2Hy4PyIZw+fPjw4eOQPPbP8vp9zK9H9/kyUR8wc+Hcagdeh3rdvfqv2cvYXwmcaH+1h3vt52b6t3tMu4Oxv3I2ne3o7lupaWE0U/t0V+sxE8tvQsaplB/vGLWPafPPzH10fr3tbsaeB02/Vd3LaMKO7n3cLKsZt7drnnsoF5PNP0Vvp1xkv49ygbmzxzI/2WNd91DCkO4+sm6inF87KReazS1neyitGp5HubWnHWLuBF5Zv9N/j/H366E8hvdSAp07Gfsz5O1/ZDT9F11PaZnxbkooc1OdfgPlQv8ZlJYj2ymtoa6t87yu7veb6jK3US6oH0ppZXVdXW67b6FzgHU9roX+iHJR/FXqrVgTXDf1WudP0PknxXeBS1rlb6jH8q5a5mRKIHIFJcjeRAnLF0yw7HZ/ZvdSAsQdXeO207m1e2/rOevr7Rx4nG6jnGPtVod3Am+tdT+Nck5tro+z6vgTKS0Jr677+hF97qsvtOrUtJ4c770+3vk22bnYbEsT/Gyi86tdX2HsrajNcrrf8+0+7nZTWhy217mXzi2v3ctpjtt2Oi1qsx7/N1AC57tq3fZ0zfMxOr8WfhPldkAoIdRFlPP+K5SWRu+j80MLuymh0210/kHyEUqn3FACvVsp/1y5Chip459Aaal4NeXcv2C2c4npPJpOuyRJkiRJkjSEvK1MkiRJkiRpiBkOSZIkSZIkDTHDIUmSJEmSpCFmOCRJkiRJkjTEDIckSZIkSZKGmOGQJEmSJEnSEDMckiRJkiRJGmL/P0rm9k3T6s2oAAAAAElFTkSuQmCC\n",
      "text/plain": [
       "<Figure size 1440x720 with 1 Axes>"
      ]
     },
     "metadata": {
      "needs_background": "light"
     },
     "output_type": "display_data"
    }
   ],
   "source": [
    "import matplotlib.pyplot as plt\n",
    "\n",
    "plt.figure(figsize=(20, 10))\n",
    "plt.bar(x=length_percent_cumsum_999.index,\n",
    "        height=length_percent_cumsum_999, color='red')\n",
    "plt.xticks(length_percent_cumsum_999.index)\n",
    "plt.yticks(np.arange(0, 1.01, 0.05))\n",
    "plt.title('Cumsum Percentage Until 0.999', size=20)\n",
    "plt.show()"
   ]
  },
  {
   "cell_type": "code",
   "execution_count": 12,
   "id": "protective-fundamental",
   "metadata": {},
   "outputs": [
    {
     "name": "stdout",
     "output_type": "stream",
     "text": [
      "956703932\n",
      "1046454590\n"
     ]
    }
   ],
   "source": [
    "oldest, latest = data['Time'].min(), data['Time'].max()\n",
    "print(oldest) \n",
    "print(latest)"
   ]
  },
  {
   "cell_type": "code",
   "execution_count": 13,
   "id": "stopped-signature",
   "metadata": {},
   "outputs": [
    {
     "data": {
      "text/plain": [
       "numpy.int64"
      ]
     },
     "execution_count": 13,
     "metadata": {},
     "output_type": "execute_result"
    }
   ],
   "source": [
    "type(latest)"
   ]
  },
  {
   "cell_type": "code",
   "execution_count": 14,
   "id": "interim-analyst",
   "metadata": {},
   "outputs": [
    {
     "ename": "TypeError",
     "evalue": "unsupported operand type(s) for -: 'int' and 'datetime.timedelta'",
     "output_type": "error",
     "traceback": [
      "\u001b[0;31m---------------------------------------------------------------------------\u001b[0m",
      "\u001b[0;31mTypeError\u001b[0m                                 Traceback (most recent call last)",
      "\u001b[0;32m<ipython-input-14-3ef64610968a>\u001b[0m in \u001b[0;36m<module>\u001b[0;34m\u001b[0m\n\u001b[0;32m----> 1\u001b[0;31m \u001b[0mmonth_ago\u001b[0m \u001b[0;34m=\u001b[0m \u001b[0mlatest\u001b[0m \u001b[0;34m-\u001b[0m \u001b[0mdt\u001b[0m\u001b[0;34m.\u001b[0m\u001b[0mtimedelta\u001b[0m\u001b[0;34m(\u001b[0m\u001b[0;36m30\u001b[0m\u001b[0;34m)\u001b[0m     \u001b[0;31m# 최종 날짜로부터 30일 이전 날짜를 구한다.\u001b[0m\u001b[0;34m\u001b[0m\u001b[0;34m\u001b[0m\u001b[0m\n\u001b[0m\u001b[1;32m      2\u001b[0m \u001b[0mdata\u001b[0m \u001b[0;34m=\u001b[0m \u001b[0mdata\u001b[0m\u001b[0;34m[\u001b[0m\u001b[0mdata\u001b[0m\u001b[0;34m[\u001b[0m\u001b[0;34m'Time'\u001b[0m\u001b[0;34m]\u001b[0m \u001b[0;34m>\u001b[0m \u001b[0mmonth_ago\u001b[0m\u001b[0;34m]\u001b[0m   \u001b[0;31m# 방금 구한 날짜 이후의 데이터만 모은다.\u001b[0m\u001b[0;34m\u001b[0m\u001b[0;34m\u001b[0m\u001b[0m\n\u001b[1;32m      3\u001b[0m \u001b[0mdata\u001b[0m\u001b[0;34m\u001b[0m\u001b[0;34m\u001b[0m\u001b[0m\n",
      "\u001b[0;31mTypeError\u001b[0m: unsupported operand type(s) for -: 'int' and 'datetime.timedelta'"
     ]
    }
   ],
   "source": [
    "month_ago = latest - dt.timedelta(30)     # 최종 날짜로부터 30일 이전 날짜를 구한다.  \n",
    "data = data[data['Time'] > month_ago]   # 방금 구한 날짜 이후의 데이터만 모은다. \n",
    "data"
   ]
  },
  {
   "cell_type": "code",
   "execution_count": null,
   "id": "advised-privilege",
   "metadata": {},
   "outputs": [],
   "source": [
    "# short_session을 제거한 다음 unpopular item을 제거하면 다시 길이가 1인 session이 생길 수 있습니다.\n",
    "# 이를 위해 반복문을 통해 지속적으로 제거 합니다.\n",
    "def cleanse_recursive(data: pd.DataFrame, shortest, least_click) -> pd.DataFrame:\n",
    "    while True:\n",
    "        before_len = len(data)\n",
    "        data = cleanse_short_session(data, shortest)\n",
    "        data = cleanse_unpopular_item(data, least_click)\n",
    "        after_len = len(data)\n",
    "        if before_len == after_len:\n",
    "            break\n",
    "    return data\n",
    "\n",
    "\n",
    "def cleanse_short_session(data: pd.DataFrame, shortest):\n",
    "    session_len = data.groupby('UserId').size()\n",
    "    session_use = session_len[session_len >= shortest].index\n",
    "    data = data[data['UserId'].isin(session_use)]\n",
    "    return data\n",
    "\n",
    "\n",
    "def cleanse_unpopular_item(data: pd.DataFrame, least_click):\n",
    "    item_popular = data.groupby('ItemId').size()\n",
    "    item_use = item_popular[item_popular >= least_click].index\n",
    "    data = data[data['ItemId'].isin(item_use)]\n",
    "    return data"
   ]
  },
  {
   "cell_type": "code",
   "execution_count": null,
   "id": "advance-voluntary",
   "metadata": {},
   "outputs": [],
   "source": [
    "data = cleanse_recursive(data, shortest=2, least_click=5)\n",
    "data"
   ]
  },
  {
   "cell_type": "code",
   "execution_count": null,
   "id": "wrong-clerk",
   "metadata": {},
   "outputs": [],
   "source": [
    "test_path = data_path / 'yoochoose-test.dat'\n",
    "test= load_data(test_path)\n",
    "test['Time'].min(), test['Time'].max()"
   ]
  },
  {
   "cell_type": "markdown",
   "id": "parental-crazy",
   "metadata": {},
   "source": [
    "## 2. 미니 배치의 구성"
   ]
  },
  {
   "cell_type": "code",
   "execution_count": null,
   "id": "fifty-chapel",
   "metadata": {},
   "outputs": [],
   "source": [
    "def split_by_date(data: pd.DataFrame, n_days: int):\n",
    "    final_time = data['Time'].max()\n",
    "    session_last_time = data.groupby('UserId')['Time'].max()\n",
    "    session_in_train = session_last_time[session_last_time < final_time - dt.timedelta(n_days)].index\n",
    "    session_in_test = session_last_time[session_last_time >= final_time - dt.timedelta(n_days)].index\n",
    "\n",
    "    before_date = data[data['UserId'].isin(session_in_train)]\n",
    "    after_date = data[data['UserId'].isin(session_in_test)]\n",
    "    after_date = after_date[after_date['ItemId'].isin(before_date['ItemId'])]\n",
    "    return before_date, after_date"
   ]
  },
  {
   "cell_type": "code",
   "execution_count": null,
   "id": "polar-archive",
   "metadata": {},
   "outputs": [],
   "source": [
    "tr, test = split_by_date(data, n_days=1)\n",
    "tr, val = split_by_date(tr, n_days=1)"
   ]
  },
  {
   "cell_type": "code",
   "execution_count": null,
   "id": "changed-excess",
   "metadata": {},
   "outputs": [],
   "source": [
    "# data에 대한 정보를 살펴봅니다.\n",
    "def stats_info(data: pd.DataFrame, status: str):\n",
    "    print(f'* {status} Set Stats Info\\n'\n",
    "          f'\\t Events: {len(data)}\\n'\n",
    "          f'\\t Sessions: {data[\"SessionId\"].nunique()}\\n'\n",
    "          f'\\t Items: {data[\"ItemId\"].nunique()}\\n'\n",
    "          f'\\t First Time : {data[\"Time\"].min()}\\n'\n",
    "          f'\\t Last Time : {data[\"Time\"].max()}\\n')"
   ]
  },
  {
   "cell_type": "code",
   "execution_count": null,
   "id": "sapphire-placement",
   "metadata": {},
   "outputs": [],
   "source": [
    "stats_info(tr, 'train')\n",
    "stats_info(val, 'valid')\n",
    "stats_info(test, 'test')"
   ]
  },
  {
   "cell_type": "code",
   "execution_count": null,
   "id": "recreational-bunny",
   "metadata": {},
   "outputs": [],
   "source": [
    "# train set에 없는 아이템이 val, test기간에 생길 수 있으므로 train data를 기준으로 인덱싱합니다.\n",
    "id2idx = {item_id : index for index, item_id in enumerate(tr['ItemId'].unique())}\n",
    "\n",
    "def indexing(df, id2idx):\n",
    "    df['item_idx'] = df['ItemId'].map(lambda x: id2idx.get(x, -1))  # id2idx에 없는 아이템은 모르는 값(-1) 처리 해줍니다.\n",
    "    return df\n",
    "\n",
    "tr = indexing(tr, id2idx)\n",
    "val = indexing(val, id2idx)\n",
    "test = indexing(test, id2idx)"
   ]
  },
  {
   "cell_type": "code",
   "execution_count": null,
   "id": "brilliant-group",
   "metadata": {},
   "outputs": [],
   "source": [
    "save_path = data_path / 'processed'\n",
    "save_path.mkdir(parents=True, exist_ok=True)\n",
    "\n",
    "tr.to_pickle(save_path / 'train.pkl')\n",
    "val.to_pickle(save_path / 'valid.pkl')\n",
    "test.to_pickle(save_path / 'test.pkl')"
   ]
  },
  {
   "cell_type": "markdown",
   "id": "strong-township",
   "metadata": {},
   "source": [
    "# Data Pipeline\n",
    "SessionDataset\n",
    "- 데이터가 주어지면 세션이 시작되는 인덱스를 담는 값과 세션을 새로 인덱싱한 값을 갖는 클래스를 만듭니다."
   ]
  },
  {
   "cell_type": "code",
   "execution_count": null,
   "id": "tired-basket",
   "metadata": {},
   "outputs": [],
   "source": [
    "class SessionDataset:\n",
    "    \"\"\"Credit to yhs-968/pyGRU4REC.\"\"\"\n",
    "\n",
    "    def __init__(self, data):\n",
    "        self.df = data\n",
    "        self.click_offsets = self.get_click_offsets()\n",
    "        self.session_idx = np.arange(self.df['UserId'].nunique())  # indexing to SessionId\n",
    "\n",
    "    def get_click_offsets(self):\n",
    "        \"\"\"\n",
    "        Return the indexes of the first click of each session IDs,\n",
    "        \"\"\"\n",
    "        offsets = np.zeros(self.df['UserId'].nunique() + 1, dtype=np.int32)\n",
    "        offsets[1:] = self.df.groupby('UserId').size().cumsum()\n",
    "        return offsets"
   ]
  },
  {
   "cell_type": "code",
   "execution_count": null,
   "id": "available-allen",
   "metadata": {},
   "outputs": [],
   "source": [
    "tr_dataset = SessionDataset(tr)\n",
    "tr_dataset.df.head(10)"
   ]
  },
  {
   "cell_type": "code",
   "execution_count": null,
   "id": "speaking-channels",
   "metadata": {},
   "outputs": [],
   "source": [
    "tr_dataset.click_offsets"
   ]
  },
  {
   "cell_type": "code",
   "execution_count": null,
   "id": "brutal-priority",
   "metadata": {},
   "outputs": [],
   "source": [
    "tr_dataset.session_idx"
   ]
  },
  {
   "cell_type": "markdown",
   "id": "answering-grocery",
   "metadata": {},
   "source": [
    "SessionDataLoader\n",
    "- SessionDataset 객체를 받아서 Session-Parallel mini-batch를 만드는 클래스를 만듭니다."
   ]
  },
  {
   "cell_type": "code",
   "execution_count": null,
   "id": "seven-microphone",
   "metadata": {},
   "outputs": [],
   "source": [
    "class SessionDataLoader:\n",
    "    \"\"\"Credit to yhs-968/pyGRU4REC.\"\"\"\n",
    "\n",
    "    def __init__(self, dataset: SessionDataset, batch_size=50):\n",
    "        self.dataset = dataset\n",
    "        self.batch_size = batch_size\n",
    "\n",
    "    def __iter__(self):\n",
    "        \"\"\" Returns the iterator for producing session-parallel training mini-batches.\n",
    "        Yields:\n",
    "            input (B,):  Item indices that will be encoded as one-hot vectors later.\n",
    "            target (B,): a Variable that stores the target item indices\n",
    "            masks: Numpy array indicating the positions of the sessions to be terminated\n",
    "        \"\"\"\n",
    "\n",
    "        start, end, mask, last_session, finished = self.initialize()  # initialize 메소드에서 확인해주세요.\n",
    "        \"\"\"\n",
    "        start : Index Where Session Start\n",
    "        end : Index Where Session End\n",
    "        mask : indicator for the sessions to be terminated\n",
    "        \"\"\"\n",
    "\n",
    "        while not finished:\n",
    "            min_len = (end - start).min() - 1  # Shortest Length Among Sessions\n",
    "            for i in range(min_len):\n",
    "                # Build inputs & targets\n",
    "                inp = self.dataset.df['item_idx'].values[start + i]\n",
    "                target = self.dataset.df['item_idx'].values[start + i + 1]\n",
    "                yield inp, target, mask\n",
    "\n",
    "            start, end, mask, last_session, finished = self.update_status(start, end, min_len, last_session, finished)\n",
    "\n",
    "    def initialize(self):\n",
    "        first_iters = np.arange(self.batch_size)    # 첫 배치에 사용할 세션 Index를 가져옵니다.\n",
    "        last_session = self.batch_size - 1    # 마지막으로 다루고 있는 세션 Index를 저장해둡니다.\n",
    "        start = self.dataset.click_offsets[self.dataset.session_idx[first_iters]]       # data 상에서 session이 시작된 위치를 가져옵니다.\n",
    "        end = self.dataset.click_offsets[self.dataset.session_idx[first_iters] + 1]  # session이 끝난 위치 바로 다음 위치를 가져옵니다.\n",
    "        mask = np.array([])   # session의 모든 아이템을 다 돌은 경우 mask에 추가해줄 것입니다.\n",
    "        finished = False         # data를 전부 돌았는지 기록하기 위한 변수입니다.\n",
    "        return start, end, mask, last_session, finished\n",
    "\n",
    "    def update_status(self, start: np.ndarray, end: np.ndarray, min_len: int, last_session: int, finished: bool):  \n",
    "        # 다음 배치 데이터를 생성하기 위해 상태를 update합니다.\n",
    "        \n",
    "        start += min_len   # __iter__에서 min_len 만큼 for문을 돌았으므로 start를 min_len 만큼 더해줍니다.\n",
    "        mask = np.arange(self.batch_size)[(end - start) == 1]  \n",
    "        # end는 다음 세션이 시작되는 위치인데 start와 한 칸 차이난다는 것은 session이 끝났다는 뜻입니다. mask에 기록해줍니다.\n",
    "\n",
    "        for i, idx in enumerate(mask, start=1):  # mask에 추가된 세션 개수만큼 새로운 세션을 돌것입니다.\n",
    "            new_session = last_session + i  \n",
    "            if new_session > self.dataset.session_idx[-1]:  # 만약 새로운 세션이 마지막 세션 index보다 크다면 모든 학습데이터를 돈 것입니다.\n",
    "                finished = True\n",
    "                break\n",
    "            # update the next starting/ending point\n",
    "            start[idx] = self.dataset.click_offsets[self.dataset.session_idx[new_session]]     # 종료된 세션 대신 새로운 세션의 시작점을 기록합니다.\n",
    "            end[idx] = self.dataset.click_offsets[self.dataset.session_idx[new_session] + 1]\n",
    "\n",
    "        last_session += len(mask)  # 마지막 세션의 위치를 기록해둡니다.\n",
    "        return start, end, mask, last_session, finished"
   ]
  },
  {
   "cell_type": "code",
   "execution_count": null,
   "id": "welsh-hollywood",
   "metadata": {},
   "outputs": [],
   "source": [
    "tr_data_loader = SessionDataLoader(tr_dataset, batch_size=4)\n",
    "tr_dataset.df.head(15)"
   ]
  },
  {
   "cell_type": "code",
   "execution_count": null,
   "id": "desperate-topic",
   "metadata": {},
   "outputs": [],
   "source": [
    "iter_ex = iter(tr_data_loader)"
   ]
  },
  {
   "cell_type": "code",
   "execution_count": null,
   "id": "geological-progress",
   "metadata": {},
   "outputs": [],
   "source": [
    "inputs, labels, mask =  next(iter_ex)\n",
    "print(f'Model Input Item Idx are : {inputs}')\n",
    "print(f'Label Item Idx are : {\"\":5} {labels}')\n",
    "print(f'Previous Masked Input Idx are {mask}')"
   ]
  },
  {
   "cell_type": "markdown",
   "id": "english-retrieval",
   "metadata": {},
   "source": [
    "## 3. 모델 구성\n",
    "Evaluation Metric\n",
    "- Session-Based Recommendation Task에서는 모델이 k개의 아이템을 제시했을 때, 유저가 클릭/ 구매한 n개의 아이템이 많아야 좋습니다.\n",
    "-  recall의 개념을 확장한 recall@k 지표, precision의 개념을 확장한 Mean Average Precision@k 지표 등을 사용\n",
    "- 추천에서는 몇 번째로 맞추느냐도 중요합니다. 따라서 순서에 민감한 지표인 MRR, NDCG 같은 지표도 사용\n",
    "- MRR은 정답 아이템이 나온 순번의 역수 값, 따라서 정답 아이템이 추천 결과 앞쪽 순번에 나온다면 지표가 높아질 것이고 뒤쪽에 나오거나 안나온다면 지표가 낮아질 것"
   ]
  },
  {
   "cell_type": "code",
   "execution_count": null,
   "id": "tight-statement",
   "metadata": {},
   "outputs": [],
   "source": [
    "def mrr_k(pred, truth: int, k: int):\n",
    "    indexing = np.where(pred[:k] == truth)[0]\n",
    "    if len(indexing) > 0:\n",
    "        return 1 / (indexing[0] + 1)\n",
    "    else:\n",
    "        return 0\n",
    "\n",
    "\n",
    "def recall_k(pred, truth: int, k: int) -> int:\n",
    "    answer = truth in pred[:k]\n",
    "    return int(answer)"
   ]
  },
  {
   "cell_type": "markdown",
   "id": "funky-coverage",
   "metadata": {},
   "source": [
    "Model Architecture"
   ]
  },
  {
   "cell_type": "code",
   "execution_count": null,
   "id": "theoretical-cookbook",
   "metadata": {},
   "outputs": [],
   "source": [
    "import numpy as np\n",
    "import tensorflow as tf\n",
    "from tensorflow.keras.layers import Input, Dense, Dropout, GRU\n",
    "from tensorflow.keras.losses import categorical_crossentropy\n",
    "from tensorflow.keras.models import Model\n",
    "from tensorflow.keras.optimizers import Adam\n",
    "from tensorflow.keras.utils import to_categorical\n",
    "from tqdm import tqdm"
   ]
  },
  {
   "cell_type": "code",
   "execution_count": null,
   "id": "designed-butler",
   "metadata": {},
   "outputs": [],
   "source": [
    "def create_model(args):\n",
    "    inputs = Input(batch_shape=(args.batch_size, 1, args.num_items))\n",
    "    gru, _ = GRU(args.hsz, stateful=True, return_state=True, name='GRU')(inputs)\n",
    "    dropout = Dropout(args.drop_rate)(gru)\n",
    "    predictions = Dense(args.num_items, activation='softmax')(dropout)\n",
    "    model = Model(inputs=inputs, outputs=[predictions])\n",
    "    model.compile(loss=categorical_crossentropy, optimizer=Adam(args.lr), metrics=['accuracy'])\n",
    "    model.summary()\n",
    "    return model"
   ]
  },
  {
   "cell_type": "code",
   "execution_count": null,
   "id": "noble-watershed",
   "metadata": {},
   "outputs": [],
   "source": [
    "class Args:\n",
    "    def __init__(self, tr, val, test, batch_size, hsz, drop_rate, lr, epochs, k):\n",
    "        self.tr = tr\n",
    "        self.val = val\n",
    "        self.test = test\n",
    "        self.num_items = tr['ItemId'].nunique()\n",
    "        self.num_sessions = tr['UserId'].nunique()\n",
    "        self.batch_size = batch_size\n",
    "        self.hsz = hsz\n",
    "        self.drop_rate = drop_rate\n",
    "        self.lr = lr\n",
    "        self.epochs = epochs\n",
    "        self.k = k\n",
    "\n",
    "args = Args(tr, val, test, batch_size=2048, hsz=50, drop_rate=0.1, lr=0.001, epochs=3, k=20)"
   ]
  },
  {
   "cell_type": "code",
   "execution_count": null,
   "id": "daily-donor",
   "metadata": {},
   "outputs": [],
   "source": [
    "model = create_model(args)"
   ]
  },
  {
   "cell_type": "markdown",
   "id": "reliable-silver",
   "metadata": {},
   "source": [
    "## 4.  모델 학습"
   ]
  },
  {
   "cell_type": "code",
   "execution_count": null,
   "id": "incomplete-dairy",
   "metadata": {},
   "outputs": [],
   "source": [
    "# train 셋으로 학습하면서 valid 셋으로 검증합니다.\n",
    "def train_model(model, args):\n",
    "    train_dataset = SessionDataset(args.tr)\n",
    "    train_loader = SessionDataLoader(train_dataset, batch_size=args.batch_size)\n",
    "\n",
    "    for epoch in range(1, args.epochs + 1):\n",
    "        total_step = len(args.tr) - args.tr['UserId'].nunique()\n",
    "        tr_loader = tqdm(train_loader, total=total_step // args.batch_size, desc='Train', mininterval=1)\n",
    "        for feat, target, mask in tr_loader:\n",
    "            reset_hidden_states(model, mask)  # 종료된 session은 hidden_state를 초기화합니다. 아래 메서드에서 확인해주세요.\n",
    "\n",
    "            input_ohe = to_categorical(feat, num_classes=args.num_items)\n",
    "            input_ohe = np.expand_dims(input_ohe, axis=1)\n",
    "            target_ohe = to_categorical(target, num_classes=args.num_items)\n",
    "\n",
    "            result = model.train_on_batch(input_ohe, target_ohe)\n",
    "            tr_loader.set_postfix(train_loss=result[0], accuracy = result[1])\n",
    "\n",
    "        val_recall, val_mrr = get_metrics(args.val, model, args, args.k)  # valid set에 대해 검증합니다.\n",
    "\n",
    "        print(f\"\\t - Recall@{args.k} epoch {epoch}: {val_recall:3f}\")\n",
    "        print(f\"\\t - MRR@{args.k}    epoch {epoch}: {val_mrr:3f}\\n\")\n",
    "\n",
    "\n",
    "def reset_hidden_states(model, mask):\n",
    "    gru_layer = model.get_layer(name='GRU')  # model에서 gru layer를 가져옵니다.\n",
    "    hidden_states = gru_layer.states[0].numpy()  # gru_layer의 parameter를 가져옵니다.\n",
    "    for elt in mask:  # mask된 인덱스 즉, 종료된 세션의 인덱스를 돌면서\n",
    "        hidden_states[elt, :] = 0  # parameter를 초기화 합니다.\n",
    "    gru_layer.reset_states(states=hidden_states)\n",
    "\n",
    "\n",
    "def get_metrics(data, model, args, k: int):  # valid셋과 test셋을 평가하는 코드입니다. \n",
    "                                             # train과 거의 같지만 mrr, recall을 구하는 라인이 있습니다.\n",
    "    dataset = SessionDataset(data)\n",
    "    loader = SessionDataLoader(dataset, batch_size=args.batch_size)\n",
    "    recall_list, mrr_list = [], []\n",
    "\n",
    "    total_step = len(data) - data['UserId'].nunique()\n",
    "    for inputs, label, mask in tqdm(loader, total=total_step // args.batch_size, desc='Evaluation', mininterval=1):\n",
    "        reset_hidden_states(model, mask)\n",
    "        input_ohe = to_categorical(inputs, num_classes=args.num_items)\n",
    "        input_ohe = np.expand_dims(input_ohe, axis=1)\n",
    "\n",
    "        pred = model.predict(input_ohe, batch_size=args.batch_size)\n",
    "        pred_arg = tf.argsort(pred, direction='DESCENDING')  # softmax 값이 큰 순서대로 sorting 합니다.\n",
    "\n",
    "        length = len(inputs)\n",
    "        recall_list.extend([recall_k(pred_arg[i], label[i], k) for i in range(length)])\n",
    "        mrr_list.extend([mrr_k(pred_arg[i], label[i], k) for i in range(length)])\n",
    "\n",
    "    recall, mrr = np.mean(recall_list), np.mean(mrr_list)\n",
    "    return recall, mrr"
   ]
  },
  {
   "cell_type": "code",
   "execution_count": null,
   "id": "functional-swedish",
   "metadata": {},
   "outputs": [],
   "source": [
    "# 학습 시간이 다소 오래 소요됩니다. (예상시간 1시간)\n",
    "train_model(model, args)"
   ]
  },
  {
   "cell_type": "markdown",
   "id": "supported-rescue",
   "metadata": {},
   "source": [
    "## 5. 모델 테스트"
   ]
  },
  {
   "cell_type": "code",
   "execution_count": null,
   "id": "burning-bridal",
   "metadata": {},
   "outputs": [],
   "source": []
  },
  {
   "cell_type": "code",
   "execution_count": null,
   "id": "curious-situation",
   "metadata": {},
   "outputs": [],
   "source": []
  },
  {
   "cell_type": "code",
   "execution_count": null,
   "id": "ongoing-rebound",
   "metadata": {},
   "outputs": [],
   "source": []
  },
  {
   "cell_type": "code",
   "execution_count": null,
   "id": "mature-lancaster",
   "metadata": {},
   "outputs": [],
   "source": []
  },
  {
   "cell_type": "code",
   "execution_count": null,
   "id": "corresponding-approach",
   "metadata": {},
   "outputs": [],
   "source": []
  },
  {
   "cell_type": "code",
   "execution_count": null,
   "id": "moved-anger",
   "metadata": {},
   "outputs": [],
   "source": []
  }
 ],
 "metadata": {
  "kernelspec": {
   "display_name": "Python 3",
   "language": "python",
   "name": "python3"
  },
  "language_info": {
   "codemirror_mode": {
    "name": "ipython",
    "version": 3
   },
   "file_extension": ".py",
   "mimetype": "text/x-python",
   "name": "python",
   "nbconvert_exporter": "python",
   "pygments_lexer": "ipython3",
   "version": "3.7.9"
  }
 },
 "nbformat": 4,
 "nbformat_minor": 5
}
>>>>>>> eeafb5432813b1ec0ef7dd69a00ff106c365edde
